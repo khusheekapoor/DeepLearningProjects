{
  "cells": [
    {
      "cell_type": "markdown",
      "metadata": {
        "id": "v93Zaj2TtGDf"
      },
      "source": [
        "# Week 6 - Exercise 1\n",
        "\n",
        "Author: Khushee Kapoor\n",
        "\n",
        "Registration Number: 200968052\n",
        "\n",
        "Last Updated: 18/9/22"
      ]
    },
    {
      "cell_type": "markdown",
      "metadata": {
        "id": "WA2FYA3PtQUb"
      },
      "source": [
        "## Setting Up"
      ]
    },
    {
      "cell_type": "markdown",
      "metadata": {
        "id": "1fsVXjTGu3yx"
      },
      "source": [
        "**Meta-Data** of the dataset: (Name / Data Type / Measurement / Description)\n",
        "\n",
        "- Elevation / quantitative /meters / Elevation in meters\n",
        "- Aspect / quantitative / azimuth / Aspect in degrees azimutth\n",
        "- Slope / quantitative / degrees / Slope in degrees\n",
        "- Horizontal_Distance_To_Hydrology / quantitative / meters / Horz Dist to nearest surface water features\n",
        "- Vertical_Distance_To_Hydrology / quantitative / meters / Vert Dist to nearest surface water features\n",
        "- Horizontal_Distance_To_Roadways / quantitative / meters / Horz Dist to nearest roadway\n",
        "- Hillshade_9am / quantitative / 0 to 255 index / Hillshade index at 9am, summer solstice\n",
        "- Hillshade_Noon / quantitative / 0 to 255 index / Hillshade index at noon, summer soltice\n",
        "- Hillshade_3pm / quantitative / 0 to 255 index / Hillshade index at 3pm, summer solstice\n",
        "- Horizontal_Distance_To_Fire_Points / quantitative / meters / Horz Dist to nearest wildfire ignition points\n",
        "- Wilderness_Area (4 binary columns) / qualitative / 0 (absence) or 1 (presence) / Wilderness area designation\n",
        "- Soil_Type (40 binary columns) / qualitative / 0 (absence) or 1 (presence) / Soil Type designation\n",
        "- Cover_Type (7 types) / integer / 1 to 7 / Forest Cover Type designation"
      ]
    },
    {
      "cell_type": "markdown",
      "metadata": {
        "id": "d2wREKVotQsC"
      },
      "source": [
        "To set up, we import the following libraries:\n",
        "\n",
        "- math: for mathematical functions\n",
        "- numpy: for data manipulation\n",
        "- pandas: for data manipulation\n",
        "- matplotlib: for data visualization\n",
        "- seaborn: for data visualization\n",
        "- tensorflow: to build neural networks"
      ]
    },
    {
      "cell_type": "code",
      "execution_count": 1,
      "metadata": {
        "id": "FDtFBjeTKLW-"
      },
      "outputs": [],
      "source": [
        "# importing libraries\n",
        "import math\n",
        "import numpy as np\n",
        "import pandas as pd\n",
        "from matplotlib import pyplot as plt\n",
        "import seaborn as sns\n",
        "import tensorflow as tf"
      ]
    },
    {
      "cell_type": "markdown",
      "metadata": {
        "id": "lVSidEPKtZyW"
      },
      "source": [
        "Next, we read the dataset from the link given using the read_csv() function from the Pandas library."
      ]
    },
    {
      "cell_type": "code",
      "execution_count": 2,
      "metadata": {
        "id": "c-w5K4bUKuGQ"
      },
      "outputs": [],
      "source": [
        "# reading the dataset\n",
        "data_url = ('https://archive.ics.uci.edu/ml/machine-learning-databases/covtype/covtype.data.gz')\n",
        "raw_data = pd.read_csv(data_url, header=None)"
      ]
    },
    {
      "cell_type": "markdown",
      "metadata": {
        "id": "o2IR8sb8tiF1"
      },
      "source": [
        "To check if we have read the data correctly, we use the head() funtion from the Pandas library to view the first few rows."
      ]
    },
    {
      "cell_type": "code",
      "execution_count": 3,
      "metadata": {
        "colab": {
          "base_uri": "https://localhost:8080/",
          "height": 235
        },
        "id": "U2t-_8HRSjVZ",
        "outputId": "0c285995-aec3-47c5-93b4-00cd0876679d"
      },
      "outputs": [
        {
          "data": {
            "text/html": [
              "\n",
              "  <div id=\"df-0ed9da02-757a-43ab-990c-c6dcd6722eb1\">\n",
              "    <div class=\"colab-df-container\">\n",
              "      <div>\n",
              "<style scoped>\n",
              "    .dataframe tbody tr th:only-of-type {\n",
              "        vertical-align: middle;\n",
              "    }\n",
              "\n",
              "    .dataframe tbody tr th {\n",
              "        vertical-align: top;\n",
              "    }\n",
              "\n",
              "    .dataframe thead th {\n",
              "        text-align: right;\n",
              "    }\n",
              "</style>\n",
              "<table border=\"1\" class=\"dataframe\">\n",
              "  <thead>\n",
              "    <tr style=\"text-align: right;\">\n",
              "      <th></th>\n",
              "      <th>0</th>\n",
              "      <th>1</th>\n",
              "      <th>2</th>\n",
              "      <th>3</th>\n",
              "      <th>4</th>\n",
              "      <th>5</th>\n",
              "      <th>6</th>\n",
              "      <th>7</th>\n",
              "      <th>8</th>\n",
              "      <th>9</th>\n",
              "      <th>...</th>\n",
              "      <th>45</th>\n",
              "      <th>46</th>\n",
              "      <th>47</th>\n",
              "      <th>48</th>\n",
              "      <th>49</th>\n",
              "      <th>50</th>\n",
              "      <th>51</th>\n",
              "      <th>52</th>\n",
              "      <th>53</th>\n",
              "      <th>54</th>\n",
              "    </tr>\n",
              "  </thead>\n",
              "  <tbody>\n",
              "    <tr>\n",
              "      <th>0</th>\n",
              "      <td>2596</td>\n",
              "      <td>51</td>\n",
              "      <td>3</td>\n",
              "      <td>258</td>\n",
              "      <td>0</td>\n",
              "      <td>510</td>\n",
              "      <td>221</td>\n",
              "      <td>232</td>\n",
              "      <td>148</td>\n",
              "      <td>6279</td>\n",
              "      <td>...</td>\n",
              "      <td>0</td>\n",
              "      <td>0</td>\n",
              "      <td>0</td>\n",
              "      <td>0</td>\n",
              "      <td>0</td>\n",
              "      <td>0</td>\n",
              "      <td>0</td>\n",
              "      <td>0</td>\n",
              "      <td>0</td>\n",
              "      <td>5</td>\n",
              "    </tr>\n",
              "    <tr>\n",
              "      <th>1</th>\n",
              "      <td>2590</td>\n",
              "      <td>56</td>\n",
              "      <td>2</td>\n",
              "      <td>212</td>\n",
              "      <td>-6</td>\n",
              "      <td>390</td>\n",
              "      <td>220</td>\n",
              "      <td>235</td>\n",
              "      <td>151</td>\n",
              "      <td>6225</td>\n",
              "      <td>...</td>\n",
              "      <td>0</td>\n",
              "      <td>0</td>\n",
              "      <td>0</td>\n",
              "      <td>0</td>\n",
              "      <td>0</td>\n",
              "      <td>0</td>\n",
              "      <td>0</td>\n",
              "      <td>0</td>\n",
              "      <td>0</td>\n",
              "      <td>5</td>\n",
              "    </tr>\n",
              "    <tr>\n",
              "      <th>2</th>\n",
              "      <td>2804</td>\n",
              "      <td>139</td>\n",
              "      <td>9</td>\n",
              "      <td>268</td>\n",
              "      <td>65</td>\n",
              "      <td>3180</td>\n",
              "      <td>234</td>\n",
              "      <td>238</td>\n",
              "      <td>135</td>\n",
              "      <td>6121</td>\n",
              "      <td>...</td>\n",
              "      <td>0</td>\n",
              "      <td>0</td>\n",
              "      <td>0</td>\n",
              "      <td>0</td>\n",
              "      <td>0</td>\n",
              "      <td>0</td>\n",
              "      <td>0</td>\n",
              "      <td>0</td>\n",
              "      <td>0</td>\n",
              "      <td>2</td>\n",
              "    </tr>\n",
              "    <tr>\n",
              "      <th>3</th>\n",
              "      <td>2785</td>\n",
              "      <td>155</td>\n",
              "      <td>18</td>\n",
              "      <td>242</td>\n",
              "      <td>118</td>\n",
              "      <td>3090</td>\n",
              "      <td>238</td>\n",
              "      <td>238</td>\n",
              "      <td>122</td>\n",
              "      <td>6211</td>\n",
              "      <td>...</td>\n",
              "      <td>0</td>\n",
              "      <td>0</td>\n",
              "      <td>0</td>\n",
              "      <td>0</td>\n",
              "      <td>0</td>\n",
              "      <td>0</td>\n",
              "      <td>0</td>\n",
              "      <td>0</td>\n",
              "      <td>0</td>\n",
              "      <td>2</td>\n",
              "    </tr>\n",
              "    <tr>\n",
              "      <th>4</th>\n",
              "      <td>2595</td>\n",
              "      <td>45</td>\n",
              "      <td>2</td>\n",
              "      <td>153</td>\n",
              "      <td>-1</td>\n",
              "      <td>391</td>\n",
              "      <td>220</td>\n",
              "      <td>234</td>\n",
              "      <td>150</td>\n",
              "      <td>6172</td>\n",
              "      <td>...</td>\n",
              "      <td>0</td>\n",
              "      <td>0</td>\n",
              "      <td>0</td>\n",
              "      <td>0</td>\n",
              "      <td>0</td>\n",
              "      <td>0</td>\n",
              "      <td>0</td>\n",
              "      <td>0</td>\n",
              "      <td>0</td>\n",
              "      <td>5</td>\n",
              "    </tr>\n",
              "  </tbody>\n",
              "</table>\n",
              "<p>5 rows × 55 columns</p>\n",
              "</div>\n",
              "      <button class=\"colab-df-convert\" onclick=\"convertToInteractive('df-0ed9da02-757a-43ab-990c-c6dcd6722eb1')\"\n",
              "              title=\"Convert this dataframe to an interactive table.\"\n",
              "              style=\"display:none;\">\n",
              "        \n",
              "  <svg xmlns=\"http://www.w3.org/2000/svg\" height=\"24px\"viewBox=\"0 0 24 24\"\n",
              "       width=\"24px\">\n",
              "    <path d=\"M0 0h24v24H0V0z\" fill=\"none\"/>\n",
              "    <path d=\"M18.56 5.44l.94 2.06.94-2.06 2.06-.94-2.06-.94-.94-2.06-.94 2.06-2.06.94zm-11 1L8.5 8.5l.94-2.06 2.06-.94-2.06-.94L8.5 2.5l-.94 2.06-2.06.94zm10 10l.94 2.06.94-2.06 2.06-.94-2.06-.94-.94-2.06-.94 2.06-2.06.94z\"/><path d=\"M17.41 7.96l-1.37-1.37c-.4-.4-.92-.59-1.43-.59-.52 0-1.04.2-1.43.59L10.3 9.45l-7.72 7.72c-.78.78-.78 2.05 0 2.83L4 21.41c.39.39.9.59 1.41.59.51 0 1.02-.2 1.41-.59l7.78-7.78 2.81-2.81c.8-.78.8-2.07 0-2.86zM5.41 20L4 18.59l7.72-7.72 1.47 1.35L5.41 20z\"/>\n",
              "  </svg>\n",
              "      </button>\n",
              "      \n",
              "  <style>\n",
              "    .colab-df-container {\n",
              "      display:flex;\n",
              "      flex-wrap:wrap;\n",
              "      gap: 12px;\n",
              "    }\n",
              "\n",
              "    .colab-df-convert {\n",
              "      background-color: #E8F0FE;\n",
              "      border: none;\n",
              "      border-radius: 50%;\n",
              "      cursor: pointer;\n",
              "      display: none;\n",
              "      fill: #1967D2;\n",
              "      height: 32px;\n",
              "      padding: 0 0 0 0;\n",
              "      width: 32px;\n",
              "    }\n",
              "\n",
              "    .colab-df-convert:hover {\n",
              "      background-color: #E2EBFA;\n",
              "      box-shadow: 0px 1px 2px rgba(60, 64, 67, 0.3), 0px 1px 3px 1px rgba(60, 64, 67, 0.15);\n",
              "      fill: #174EA6;\n",
              "    }\n",
              "\n",
              "    [theme=dark] .colab-df-convert {\n",
              "      background-color: #3B4455;\n",
              "      fill: #D2E3FC;\n",
              "    }\n",
              "\n",
              "    [theme=dark] .colab-df-convert:hover {\n",
              "      background-color: #434B5C;\n",
              "      box-shadow: 0px 1px 3px 1px rgba(0, 0, 0, 0.15);\n",
              "      filter: drop-shadow(0px 1px 2px rgba(0, 0, 0, 0.3));\n",
              "      fill: #FFFFFF;\n",
              "    }\n",
              "  </style>\n",
              "\n",
              "      <script>\n",
              "        const buttonEl =\n",
              "          document.querySelector('#df-0ed9da02-757a-43ab-990c-c6dcd6722eb1 button.colab-df-convert');\n",
              "        buttonEl.style.display =\n",
              "          google.colab.kernel.accessAllowed ? 'block' : 'none';\n",
              "\n",
              "        async function convertToInteractive(key) {\n",
              "          const element = document.querySelector('#df-0ed9da02-757a-43ab-990c-c6dcd6722eb1');\n",
              "          const dataTable =\n",
              "            await google.colab.kernel.invokeFunction('convertToInteractive',\n",
              "                                                     [key], {});\n",
              "          if (!dataTable) return;\n",
              "\n",
              "          const docLinkHtml = 'Like what you see? Visit the ' +\n",
              "            '<a target=\"_blank\" href=https://colab.research.google.com/notebooks/data_table.ipynb>data table notebook</a>'\n",
              "            + ' to learn more about interactive tables.';\n",
              "          element.innerHTML = '';\n",
              "          dataTable['output_type'] = 'display_data';\n",
              "          await google.colab.output.renderOutput(dataTable, element);\n",
              "          const docLink = document.createElement('div');\n",
              "          docLink.innerHTML = docLinkHtml;\n",
              "          element.appendChild(docLink);\n",
              "        }\n",
              "      </script>\n",
              "    </div>\n",
              "  </div>\n",
              "  "
            ],
            "text/plain": [
              "     0    1   2    3    4     5    6    7    8     9   ...  45  46  47  48  \\\n",
              "0  2596   51   3  258    0   510  221  232  148  6279  ...   0   0   0   0   \n",
              "1  2590   56   2  212   -6   390  220  235  151  6225  ...   0   0   0   0   \n",
              "2  2804  139   9  268   65  3180  234  238  135  6121  ...   0   0   0   0   \n",
              "3  2785  155  18  242  118  3090  238  238  122  6211  ...   0   0   0   0   \n",
              "4  2595   45   2  153   -1   391  220  234  150  6172  ...   0   0   0   0   \n",
              "\n",
              "   49  50  51  52  53  54  \n",
              "0   0   0   0   0   0   5  \n",
              "1   0   0   0   0   0   5  \n",
              "2   0   0   0   0   0   2  \n",
              "3   0   0   0   0   0   2  \n",
              "4   0   0   0   0   0   5  \n",
              "\n",
              "[5 rows x 55 columns]"
            ]
          },
          "execution_count": 3,
          "metadata": {},
          "output_type": "execute_result"
        }
      ],
      "source": [
        "# viewing the first few rows\n",
        "raw_data.head()"
      ]
    },
    {
      "cell_type": "markdown",
      "metadata": {
        "id": "djTeVCVTtpNZ"
      },
      "source": [
        "The two categorical features in the dataset are binary-encoded. We will convert this dataset representation to the typical representation, where each categorical feature is represented as a single integer value."
      ]
    },
    {
      "cell_type": "code",
      "execution_count": 4,
      "metadata": {
        "id": "jlOoE4cCTmpp"
      },
      "outputs": [],
      "source": [
        "# converting the categorical features to be represented as a single integer value\n",
        "soil_type_values = [f\"soil_type_{idx+1}\" for idx in range(40)]\n",
        "wilderness_area_values = [f\"area_type_{idx+1}\" for idx in range(4)]\n",
        "soil_type = raw_data.loc[:, 14:53].apply(lambda x: soil_type_values[0::1][x.to_numpy().nonzero()[0][0]], axis=1)\n",
        "wilderness_area = raw_data.loc[:, 10:13].apply(lambda x: wilderness_area_values[0::1][x.to_numpy().nonzero()[0][0]], axis=1)\n",
        "data = pd.concat([raw_data.loc[:, 0:9], wilderness_area, soil_type, raw_data.loc[:, 54]], axis=1, ignore_index=True)"
      ]
    },
    {
      "cell_type": "markdown",
      "metadata": {
        "id": "FdVj3VfLt_zc"
      },
      "source": [
        "To make the data more readable, we add in the column labels from the metadata of the dataset."
      ]
    },
    {
      "cell_type": "code",
      "execution_count": 5,
      "metadata": {
        "id": "LVS44YVsh2yD"
      },
      "outputs": [],
      "source": [
        "# adding column labels\n",
        "column_labels = [\"Elevation\", \"Aspect\", \"Slope\", \"Horizontal_Distance_To_Hydrology\", \"Vertical_Distance_To_Hydrology\", \"Horizontal_Distance_To_Roadways\", \"Hillshade_9am\",\n",
        "                  \"Hillshade_Noon\", \"Hillshade_3pm\", \"Horizontal_Distance_To_Fire_Points\", \"Wilderness_Area\", \"Soil_Type\", \"Cover_Type\"]\n",
        "data.columns = column_labels"
      ]
    },
    {
      "cell_type": "markdown",
      "metadata": {
        "id": "NmZBeHs1vRkX"
      },
      "source": [
        "For ease in computation, we convert the target labels from 1-7 to be 0-6 by subtracting one from all the values."
      ]
    },
    {
      "cell_type": "code",
      "execution_count": 6,
      "metadata": {
        "id": "Z6jfX7kPnMN-"
      },
      "outputs": [],
      "source": [
        "# converting the target labels\n",
        "data[\"Cover_Type\"] = data[\"Cover_Type\"] - 1"
      ]
    },
    {
      "cell_type": "markdown",
      "metadata": {
        "id": "ft4dxOhSvhVp"
      },
      "source": [
        "Next, we split the dataset into training and testing sets. We allocate 85% to training and 15% to the testing set."
      ]
    },
    {
      "cell_type": "code",
      "execution_count": 7,
      "metadata": {
        "id": "wORy5yj3iZXj"
      },
      "outputs": [],
      "source": [
        "train_splits = []\n",
        "test_splits = []\n",
        "\n",
        "# splitting the dataset\n",
        "for _, group_data in data.groupby(\"Cover_Type\"):\n",
        "    random_selection = np.random.rand(len(group_data.index)) <= 0.85\n",
        "    train_splits.append(group_data[random_selection])\n",
        "    test_splits.append(group_data[~random_selection])\n",
        "\n",
        "train_data = pd.concat(train_splits).sample(frac=1).reset_index(drop=True)\n",
        "test_data = pd.concat(test_splits).sample(frac=1).reset_index(drop=True)\n",
        "\n",
        "# saving the training and testing sets as csv files\n",
        "train_data_file = \"train_data.csv\"\n",
        "test_data_file = \"test_data.csv\"\n",
        "train_data.to_csv(train_data_file, index=False)\n",
        "test_data.to_csv(test_data_file, index=False)"
      ]
    },
    {
      "cell_type": "markdown",
      "metadata": {
        "id": "Jen8YjNfx5Vq"
      },
      "source": [
        "To make the meta-data more readable, we define the metadata of the dataset that will be useful for reading and parsing the data into input features, and encoding the input features with respect to their types."
      ]
    },
    {
      "cell_type": "code",
      "execution_count": 8,
      "metadata": {
        "id": "sg7IW0F4idqj"
      },
      "outputs": [],
      "source": [
        "# defining the target feature names and labels\n",
        "target_feature_name = \"Cover_Type\"\n",
        "target_feature_labels = [\"0\", \"1\", \"2\", \"3\", \"4\", \"5\", \"6\"]\n",
        "\n",
        "# defining the numeric feature names\n",
        "numeric_feature_names = [\"Aspect\", \"Elevation\", \"Hillshade_3pm\", \"Hillshade_9am\", \"Hillshade_Noon\", \"Horizontal_Distance_To_Fire_Points\", \"Horizontal_Distance_To_Hydrology\", \n",
        "                         \"Horizontal_Distance_To_Roadways\", \"Slope\", \"Vertical_Distance_To_Hydrology\"]\n",
        "\n",
        "# defining the categorical feature names\n",
        "categorical_features_vocabulary = {\n",
        "    \"Soil_Type\": list(data[\"Soil_Type\"].unique()),\n",
        "    \"Wilderness_Area\": list(data[\"Wilderness_Area\"].unique()),\n",
        "}\n",
        "categorical_feature_names = list(categorical_features_vocabulary.keys())\n",
        "\n",
        "# combining the numeric and categorical features\n",
        "feature_names = numeric_feature_names + categorical_feature_names\n",
        "\n",
        "# defining the column defaults\n",
        "column_defaults = [\n",
        "    [0] if feature_name in numeric_feature_names + [target_feature_name] else [\"NA\"]\n",
        "    for feature_name in column_labels\n",
        "]\n",
        "\n",
        "# obtaining the number of classes\n",
        "num_classes = len(target_feature_labels)"
      ]
    },
    {
      "cell_type": "markdown",
      "metadata": {
        "id": "lku7BaBLyUqH"
      },
      "source": [
        "Next, we define the hyperparameters for training the model."
      ]
    },
    {
      "cell_type": "code",
      "execution_count": 9,
      "metadata": {
        "id": "HSjyqXWzjciM"
      },
      "outputs": [],
      "source": [
        "# defining the hyperparameters\n",
        "learning_rate = 0.001\n",
        "dropout_rate = 0.1\n",
        "batch_size = 265\n",
        "num_epochs = 50\n",
        "hidden_units = [32, 32]"
      ]
    },
    {
      "cell_type": "markdown",
      "metadata": {
        "id": "HO4mRrqlydra"
      },
      "source": [
        "We then prepare the training and testing sets by combining them with the above defined meta data."
      ]
    },
    {
      "cell_type": "code",
      "execution_count": 10,
      "metadata": {
        "id": "_xUxqCQWrltm"
      },
      "outputs": [],
      "source": [
        "# preparing the training and testing sets\n",
        "train_dataset = tf.data.experimental.make_csv_dataset(train_data_file, batch_size=batch_size, column_names=column_labels, column_defaults=column_defaults,\n",
        "        label_name=target_feature_name, num_epochs=1, header=True, shuffle=False).cache()\n",
        "test_dataset = tf.data.experimental.make_csv_dataset(test_data_file, batch_size=batch_size, column_names=column_labels, column_defaults=column_defaults,\n",
        "        label_name=target_feature_name, num_epochs=1, header=True, shuffle=False).cache()"
      ]
    },
    {
      "cell_type": "markdown",
      "metadata": {
        "id": "24Vb2Sfiyz5a"
      },
      "source": [
        "## Feed-Forward Network"
      ]
    },
    {
      "cell_type": "markdown",
      "metadata": {
        "id": "hY6Tj9eP5g73"
      },
      "source": [
        "To begin, we define the inputs for the models as a dictionary, where the key is the feature name, and the value is a keras.layers.Input tensor with the corresponding feature shape and data type."
      ]
    },
    {
      "cell_type": "code",
      "execution_count": 11,
      "metadata": {
        "id": "0axfPIRoQ3J8"
      },
      "outputs": [],
      "source": [
        "# defining the inputs\n",
        "inputs = {}\n",
        "for feature_name in feature_names:\n",
        "    if feature_name in numeric_feature_names:\n",
        "        inputs[feature_name] = tf.keras.layers.Input(name=feature_name, shape=(), dtype=tf.float32)\n",
        "    else:\n",
        "        inputs[feature_name] = tf.keras.layers.Input(name=feature_name, shape=(), dtype=tf.string)"
      ]
    },
    {
      "cell_type": "markdown",
      "metadata": {
        "id": "w1ym9_VZ5pM7"
      },
      "source": [
        "Next, we create a sparse representation of our input features wherein the categorical features are encoded with one-hot encoding."
      ]
    },
    {
      "cell_type": "code",
      "execution_count": 12,
      "metadata": {
        "colab": {
          "base_uri": "https://localhost:8080/"
        },
        "id": "3Rdy4TCiQ2ca",
        "outputId": "40971a92-47de-4de7-91be-3ff9a84e5bb7"
      },
      "outputs": [
        {
          "name": "stderr",
          "output_type": "stream",
          "text": [
            "/usr/local/lib/python3.7/dist-packages/numpy/core/numeric.py:2446: FutureWarning: elementwise comparison failed; returning scalar instead, but in the future will perform elementwise comparison\n",
            "  return bool(asarray(a1 == a2).all())\n"
          ]
        }
      ],
      "source": [
        "# creating a sparse representation\n",
        "encoded_features = []\n",
        "for feature_name in inputs:\n",
        "    if feature_name in categorical_feature_names:\n",
        "        vocabulary = categorical_features_vocabulary[feature_name]\n",
        "        lookup = tf.keras.layers.StringLookup(vocabulary=vocabulary, mask_token=None, num_oov_indices=0, output_mode=\"binary\")\n",
        "        encoded_feature = lookup(tf.expand_dims(inputs[feature_name], -1))\n",
        "    else:\n",
        "        encoded_feature = tf.expand_dims(inputs[feature_name], -1)\n",
        "    encoded_features.append(encoded_feature)\n",
        "\n",
        "features = tf.keras.layers.concatenate(encoded_features)"
      ]
    },
    {
      "cell_type": "markdown",
      "metadata": {
        "id": "cm2DwCQuL-tA"
      },
      "source": [
        "After that, we create two Dense layers with the given specifications. Then we create an Output layer and link the layers with the input and output."
      ]
    },
    {
      "cell_type": "code",
      "execution_count": 13,
      "metadata": {
        "id": "pZPpUlteRdPQ"
      },
      "outputs": [],
      "source": [
        "# creating two Dense layers\n",
        "for units in hidden_units: \n",
        "  features = tf.keras.layers.Dense(units)(features)\n",
        "  features = tf.keras.layers.BatchNormalization()(features)\n",
        "  features = tf.keras.layers.ReLU()(features)\n",
        "  features = tf.keras.layers.Dropout(dropout_rate)(features)\n",
        "\n",
        "# creating an output layer\n",
        "outputs = tf.keras.layers.Dense(units=num_classes, activation=\"softmax\")(features)\n",
        "\n",
        "# linking the layers with input and output\n",
        "basic_model = tf.keras.Model(inputs=inputs, outputs=outputs)"
      ]
    },
    {
      "cell_type": "markdown",
      "metadata": {
        "id": "dWslLBryMxsO"
      },
      "source": [
        "Next compile the model and set the optimizer to be 'adam', loss to be SparseCategoricalCrossentropy and metric to be SparseCategoricalAccuracy. After that, we train the model on the training data with number of epochs set to the predefined value."
      ]
    },
    {
      "cell_type": "code",
      "execution_count": 14,
      "metadata": {
        "colab": {
          "base_uri": "https://localhost:8080/"
        },
        "id": "9sJLaliEkQW6",
        "outputId": "7cdded70-07e5-41ae-ee05-d9a1761a2d19"
      },
      "outputs": [
        {
          "name": "stdout",
          "output_type": "stream",
          "text": [
            "Epoch 1/50\n",
            "1864/1864 [==============================] - 16s 8ms/step - loss: 0.7735 - sparse_categorical_accuracy: 0.6781\n",
            "Epoch 2/50\n",
            "1864/1864 [==============================] - 10s 5ms/step - loss: 0.6645 - sparse_categorical_accuracy: 0.7138\n",
            "Epoch 3/50\n",
            "1864/1864 [==============================] - 10s 5ms/step - loss: 0.6387 - sparse_categorical_accuracy: 0.7247\n",
            "Epoch 4/50\n",
            "1864/1864 [==============================] - 10s 5ms/step - loss: 0.6181 - sparse_categorical_accuracy: 0.7359\n",
            "Epoch 5/50\n",
            "1864/1864 [==============================] - 11s 6ms/step - loss: 0.6058 - sparse_categorical_accuracy: 0.7405\n",
            "Epoch 6/50\n",
            "1864/1864 [==============================] - 10s 5ms/step - loss: 0.5958 - sparse_categorical_accuracy: 0.7446\n",
            "Epoch 7/50\n",
            "1864/1864 [==============================] - 10s 5ms/step - loss: 0.5896 - sparse_categorical_accuracy: 0.7476\n",
            "Epoch 8/50\n",
            "1864/1864 [==============================] - 10s 5ms/step - loss: 0.5834 - sparse_categorical_accuracy: 0.7488\n",
            "Epoch 9/50\n",
            "1864/1864 [==============================] - 10s 5ms/step - loss: 0.5789 - sparse_categorical_accuracy: 0.7514\n",
            "Epoch 10/50\n",
            "1864/1864 [==============================] - 10s 5ms/step - loss: 0.5755 - sparse_categorical_accuracy: 0.7529\n",
            "Epoch 11/50\n",
            "1864/1864 [==============================] - 9s 5ms/step - loss: 0.5733 - sparse_categorical_accuracy: 0.7532\n",
            "Epoch 12/50\n",
            "1864/1864 [==============================] - 10s 5ms/step - loss: 0.5697 - sparse_categorical_accuracy: 0.7553\n",
            "Epoch 13/50\n",
            "1864/1864 [==============================] - 10s 5ms/step - loss: 0.5673 - sparse_categorical_accuracy: 0.7558\n",
            "Epoch 14/50\n",
            "1864/1864 [==============================] - 10s 5ms/step - loss: 0.5660 - sparse_categorical_accuracy: 0.7561\n",
            "Epoch 15/50\n",
            "1864/1864 [==============================] - 10s 5ms/step - loss: 0.5646 - sparse_categorical_accuracy: 0.7572\n",
            "Epoch 16/50\n",
            "1864/1864 [==============================] - 10s 5ms/step - loss: 0.5626 - sparse_categorical_accuracy: 0.7576\n",
            "Epoch 17/50\n",
            "1864/1864 [==============================] - 10s 5ms/step - loss: 0.5617 - sparse_categorical_accuracy: 0.7580\n",
            "Epoch 18/50\n",
            "1864/1864 [==============================] - 10s 5ms/step - loss: 0.5595 - sparse_categorical_accuracy: 0.7591\n",
            "Epoch 19/50\n",
            "1864/1864 [==============================] - 10s 5ms/step - loss: 0.5576 - sparse_categorical_accuracy: 0.7600\n",
            "Epoch 20/50\n",
            "1864/1864 [==============================] - 9s 5ms/step - loss: 0.5575 - sparse_categorical_accuracy: 0.7601\n",
            "Epoch 21/50\n",
            "1864/1864 [==============================] - 10s 5ms/step - loss: 0.5555 - sparse_categorical_accuracy: 0.7612\n",
            "Epoch 22/50\n",
            "1864/1864 [==============================] - 10s 5ms/step - loss: 0.5545 - sparse_categorical_accuracy: 0.7612\n",
            "Epoch 23/50\n",
            "1864/1864 [==============================] - 10s 5ms/step - loss: 0.5527 - sparse_categorical_accuracy: 0.7628\n",
            "Epoch 24/50\n",
            "1864/1864 [==============================] - 10s 5ms/step - loss: 0.5513 - sparse_categorical_accuracy: 0.7630\n",
            "Epoch 25/50\n",
            "1864/1864 [==============================] - 10s 5ms/step - loss: 0.5512 - sparse_categorical_accuracy: 0.7630\n",
            "Epoch 26/50\n",
            "1864/1864 [==============================] - 10s 5ms/step - loss: 0.5503 - sparse_categorical_accuracy: 0.7635\n",
            "Epoch 27/50\n",
            "1864/1864 [==============================] - 10s 5ms/step - loss: 0.5482 - sparse_categorical_accuracy: 0.7645\n",
            "Epoch 28/50\n",
            "1864/1864 [==============================] - 10s 5ms/step - loss: 0.5468 - sparse_categorical_accuracy: 0.7648\n",
            "Epoch 29/50\n",
            "1864/1864 [==============================] - 9s 5ms/step - loss: 0.5462 - sparse_categorical_accuracy: 0.7659\n",
            "Epoch 30/50\n",
            "1864/1864 [==============================] - 10s 5ms/step - loss: 0.5449 - sparse_categorical_accuracy: 0.7662\n",
            "Epoch 31/50\n",
            "1864/1864 [==============================] - 10s 5ms/step - loss: 0.5435 - sparse_categorical_accuracy: 0.7667\n",
            "Epoch 32/50\n",
            "1864/1864 [==============================] - 10s 5ms/step - loss: 0.5430 - sparse_categorical_accuracy: 0.7673\n",
            "Epoch 33/50\n",
            "1864/1864 [==============================] - 10s 5ms/step - loss: 0.5426 - sparse_categorical_accuracy: 0.7670\n",
            "Epoch 34/50\n",
            "1864/1864 [==============================] - 10s 5ms/step - loss: 0.5418 - sparse_categorical_accuracy: 0.7681\n",
            "Epoch 35/50\n",
            "1864/1864 [==============================] - 10s 5ms/step - loss: 0.5405 - sparse_categorical_accuracy: 0.7680\n",
            "Epoch 36/50\n",
            "1864/1864 [==============================] - 10s 5ms/step - loss: 0.5410 - sparse_categorical_accuracy: 0.7681\n",
            "Epoch 37/50\n",
            "1864/1864 [==============================] - 10s 5ms/step - loss: 0.5389 - sparse_categorical_accuracy: 0.7685\n",
            "Epoch 38/50\n",
            "1864/1864 [==============================] - 10s 5ms/step - loss: 0.5390 - sparse_categorical_accuracy: 0.7690\n",
            "Epoch 39/50\n",
            "1864/1864 [==============================] - 10s 5ms/step - loss: 0.5375 - sparse_categorical_accuracy: 0.7692\n",
            "Epoch 40/50\n",
            "1864/1864 [==============================] - 10s 5ms/step - loss: 0.5376 - sparse_categorical_accuracy: 0.7692\n",
            "Epoch 41/50\n",
            "1864/1864 [==============================] - 10s 5ms/step - loss: 0.5370 - sparse_categorical_accuracy: 0.7692\n",
            "Epoch 42/50\n",
            "1864/1864 [==============================] - 10s 5ms/step - loss: 0.5362 - sparse_categorical_accuracy: 0.7698\n",
            "Epoch 43/50\n",
            "1864/1864 [==============================] - 12s 6ms/step - loss: 0.5354 - sparse_categorical_accuracy: 0.7699\n",
            "Epoch 44/50\n",
            "1864/1864 [==============================] - 10s 5ms/step - loss: 0.5354 - sparse_categorical_accuracy: 0.7704\n",
            "Epoch 45/50\n",
            "1864/1864 [==============================] - 10s 5ms/step - loss: 0.5347 - sparse_categorical_accuracy: 0.7709\n",
            "Epoch 46/50\n",
            "1864/1864 [==============================] - 10s 5ms/step - loss: 0.5340 - sparse_categorical_accuracy: 0.7712\n",
            "Epoch 47/50\n",
            "1864/1864 [==============================] - 10s 5ms/step - loss: 0.5338 - sparse_categorical_accuracy: 0.7706\n",
            "Epoch 48/50\n",
            "1864/1864 [==============================] - 10s 5ms/step - loss: 0.5337 - sparse_categorical_accuracy: 0.7714\n",
            "Epoch 49/50\n",
            "1864/1864 [==============================] - 10s 5ms/step - loss: 0.5333 - sparse_categorical_accuracy: 0.7709\n",
            "Epoch 50/50\n",
            "1864/1864 [==============================] - 10s 5ms/step - loss: 0.5330 - sparse_categorical_accuracy: 0.7719\n"
          ]
        }
      ],
      "source": [
        "# compiling the model\n",
        "basic_model.compile(optimizer=tf.keras.optimizers.Adam(learning_rate=learning_rate), loss=tf.keras.losses.SparseCategoricalCrossentropy(), metrics=[tf.keras.metrics.SparseCategoricalAccuracy()])\n",
        "\n",
        "# training the model\n",
        "basic_history = basic_model.fit(train_dataset, epochs=num_epochs, batch_size=batch_size)"
      ]
    },
    {
      "cell_type": "markdown",
      "metadata": {
        "id": "juRBJaWPNDwk"
      },
      "source": [
        "## Wide & Deep Model"
      ]
    },
    {
      "cell_type": "markdown",
      "metadata": {
        "id": "wL4GJZuGNI5u"
      },
      "source": [
        "To begin, we define the inputs for the models as a dictionary, where the key is the feature name, and the value is a keras.layers.Input tensor with the corresponding feature shape and data type."
      ]
    },
    {
      "cell_type": "code",
      "execution_count": 15,
      "metadata": {
        "id": "fuXs-ixbp75P"
      },
      "outputs": [],
      "source": [
        "# defining the inputs\n",
        "inputs = {}\n",
        "for feature_name in feature_names:\n",
        "    if feature_name in numeric_feature_names:\n",
        "        inputs[feature_name] = tf.keras.layers.Input(name=feature_name, shape=(), dtype=tf.float32)\n",
        "    else:\n",
        "        inputs[feature_name] = tf.keras.layers.Input(name=feature_name, shape=(), dtype=tf.string)"
      ]
    },
    {
      "cell_type": "markdown",
      "metadata": {
        "id": "x4l9rHXGNO3V"
      },
      "source": [
        "Next, we create a sparse representation of our input features wherein the categorical features are encoded with one-hot encoding for the wide part of the model."
      ]
    },
    {
      "cell_type": "code",
      "execution_count": 16,
      "metadata": {
        "id": "H7nBk-dwp75Q"
      },
      "outputs": [],
      "source": [
        "# creating a sparse representation for the wide part\n",
        "encoded_features = []\n",
        "for feature_name in inputs:\n",
        "    if feature_name in categorical_feature_names:\n",
        "        vocabulary = categorical_features_vocabulary[feature_name]\n",
        "        lookup = tf.keras.layers.StringLookup(vocabulary=vocabulary, mask_token=None, num_oov_indices=0, output_mode=\"binary\")\n",
        "        encoded_feature = lookup(tf.expand_dims(inputs[feature_name], -1))\n",
        "    else:\n",
        "        encoded_feature = tf.expand_dims(inputs[feature_name], -1)\n",
        "    encoded_features.append(encoded_feature)\n",
        "\n",
        "wide = tf.keras.layers.concatenate(encoded_features)\n",
        "wide = tf.keras.layers.BatchNormalization()(wide)"
      ]
    },
    {
      "cell_type": "markdown",
      "metadata": {
        "id": "pUH12tIbNaoF"
      },
      "source": [
        "After that, we create a dense represenation of our input features wherein the categorical features are encoded with low-dimensional embeddings for the deep part of the model."
      ]
    },
    {
      "cell_type": "code",
      "execution_count": 17,
      "metadata": {
        "id": "Q6AaX3dAp9DG"
      },
      "outputs": [],
      "source": [
        "# creating a dense representation for the deep part\n",
        "encoded_features = []\n",
        "for feature_name in inputs:\n",
        "    if feature_name in categorical_feature_names:\n",
        "        vocabulary = categorical_features_vocabulary[feature_name]\n",
        "        lookup = tf.keras.layers.StringLookup(vocabulary=vocabulary, mask_token=None, num_oov_indices=0, output_mode=\"int\")\n",
        "        encoded_feature = lookup(inputs[feature_name])\n",
        "        embedding_dims = int(math.sqrt(len(vocabulary)))\n",
        "        embedding = tf.keras.layers.Embedding(input_dim=len(vocabulary), output_dim=embedding_dims)\n",
        "        encoded_feature = embedding(encoded_feature)\n",
        "    else:\n",
        "        encoded_feature = tf.expand_dims(inputs[feature_name], -1)\n",
        "\n",
        "    encoded_features.append(encoded_feature)\n",
        "\n",
        "deep = tf.keras.layers.concatenate(encoded_features)"
      ]
    },
    {
      "cell_type": "markdown",
      "metadata": {
        "id": "jWEEN4Y4NvyR"
      },
      "source": [
        "Now, we create a deep network having two layers and predefined specifications, and merge it with the wide part. Then we create an Output layer and link the layers with the input and output."
      ]
    },
    {
      "cell_type": "code",
      "execution_count": 18,
      "metadata": {
        "id": "U2W0k3MIq1Ji"
      },
      "outputs": [],
      "source": [
        "# creating a deep network\n",
        "for units in hidden_units:\n",
        "  deep = tf.keras.layers.Dense(units)(deep)\n",
        "  deep = tf.keras.layers.BatchNormalization()(deep)\n",
        "  deep = tf.keras.layers.ReLU()(deep)\n",
        "  deep = tf.keras.layers.Dropout(dropout_rate)(deep)\n",
        "\n",
        "# merging the wide and deep network\n",
        "merged = tf.keras.layers.concatenate([wide, deep])\n",
        "\n",
        "# creating an output layer\n",
        "outputs = tf.keras.layers.Dense(units=num_classes, activation=\"softmax\")(merged)\n",
        "\n",
        "# linking the layers with the input and output\n",
        "wide_deep_model = tf.keras.Model(inputs=inputs, outputs=outputs)"
      ]
    },
    {
      "cell_type": "markdown",
      "metadata": {
        "id": "W2Hb8uiDOM0O"
      },
      "source": [
        "Next compile the model and set the optimizer to be 'adam', loss to be SparseCategoricalCrossentropy and metric to be SparseCategoricalAccuracy. After that, we train the model on the training data with number of epochs set to the predefined value."
      ]
    },
    {
      "cell_type": "code",
      "execution_count": 19,
      "metadata": {
        "colab": {
          "base_uri": "https://localhost:8080/"
        },
        "id": "bN-BvZLNq5Lu",
        "outputId": "f0cbeef8-ab51-42da-f8d0-0e555506aa9b"
      },
      "outputs": [
        {
          "name": "stdout",
          "output_type": "stream",
          "text": [
            "Epoch 1/50\n",
            "1864/1864 [==============================] - 15s 7ms/step - loss: 0.7041 - sparse_categorical_accuracy: 0.7061\n",
            "Epoch 2/50\n",
            "1864/1864 [==============================] - 13s 7ms/step - loss: 0.6042 - sparse_categorical_accuracy: 0.7383\n",
            "Epoch 3/50\n",
            "1864/1864 [==============================] - 12s 7ms/step - loss: 0.5887 - sparse_categorical_accuracy: 0.7438\n",
            "Epoch 4/50\n",
            "1864/1864 [==============================] - 12s 7ms/step - loss: 0.5761 - sparse_categorical_accuracy: 0.7499\n",
            "Epoch 5/50\n",
            "1864/1864 [==============================] - 12s 7ms/step - loss: 0.5662 - sparse_categorical_accuracy: 0.7545\n",
            "Epoch 6/50\n",
            "1864/1864 [==============================] - 13s 7ms/step - loss: 0.5581 - sparse_categorical_accuracy: 0.7591\n",
            "Epoch 7/50\n",
            "1864/1864 [==============================] - 13s 7ms/step - loss: 0.5525 - sparse_categorical_accuracy: 0.7611\n",
            "Epoch 8/50\n",
            "1864/1864 [==============================] - 12s 7ms/step - loss: 0.5467 - sparse_categorical_accuracy: 0.7639\n",
            "Epoch 9/50\n",
            "1864/1864 [==============================] - 12s 7ms/step - loss: 0.5429 - sparse_categorical_accuracy: 0.7663\n",
            "Epoch 10/50\n",
            "1864/1864 [==============================] - 13s 7ms/step - loss: 0.5391 - sparse_categorical_accuracy: 0.7681\n",
            "Epoch 11/50\n",
            "1864/1864 [==============================] - 13s 7ms/step - loss: 0.5356 - sparse_categorical_accuracy: 0.7692\n",
            "Epoch 12/50\n",
            "1864/1864 [==============================] - 13s 7ms/step - loss: 0.5332 - sparse_categorical_accuracy: 0.7700\n",
            "Epoch 13/50\n",
            "1864/1864 [==============================] - 12s 7ms/step - loss: 0.5302 - sparse_categorical_accuracy: 0.7715\n",
            "Epoch 14/50\n",
            "1864/1864 [==============================] - 12s 7ms/step - loss: 0.5275 - sparse_categorical_accuracy: 0.7729\n",
            "Epoch 15/50\n",
            "1864/1864 [==============================] - 12s 7ms/step - loss: 0.5253 - sparse_categorical_accuracy: 0.7738\n",
            "Epoch 16/50\n",
            "1864/1864 [==============================] - 12s 7ms/step - loss: 0.5231 - sparse_categorical_accuracy: 0.7751\n",
            "Epoch 17/50\n",
            "1864/1864 [==============================] - 12s 7ms/step - loss: 0.5218 - sparse_categorical_accuracy: 0.7756\n",
            "Epoch 18/50\n",
            "1864/1864 [==============================] - 12s 7ms/step - loss: 0.5201 - sparse_categorical_accuracy: 0.7758\n",
            "Epoch 19/50\n",
            "1864/1864 [==============================] - 12s 7ms/step - loss: 0.5183 - sparse_categorical_accuracy: 0.7776\n",
            "Epoch 20/50\n",
            "1864/1864 [==============================] - 12s 7ms/step - loss: 0.5164 - sparse_categorical_accuracy: 0.7784\n",
            "Epoch 21/50\n",
            "1864/1864 [==============================] - 12s 7ms/step - loss: 0.5149 - sparse_categorical_accuracy: 0.7791\n",
            "Epoch 22/50\n",
            "1864/1864 [==============================] - 12s 7ms/step - loss: 0.5138 - sparse_categorical_accuracy: 0.7797\n",
            "Epoch 23/50\n",
            "1864/1864 [==============================] - 12s 7ms/step - loss: 0.5129 - sparse_categorical_accuracy: 0.7802\n",
            "Epoch 24/50\n",
            "1864/1864 [==============================] - 12s 7ms/step - loss: 0.5111 - sparse_categorical_accuracy: 0.7816\n",
            "Epoch 25/50\n",
            "1864/1864 [==============================] - 12s 7ms/step - loss: 0.5100 - sparse_categorical_accuracy: 0.7821\n",
            "Epoch 26/50\n",
            "1864/1864 [==============================] - 12s 7ms/step - loss: 0.5093 - sparse_categorical_accuracy: 0.7820\n",
            "Epoch 27/50\n",
            "1864/1864 [==============================] - 12s 7ms/step - loss: 0.5079 - sparse_categorical_accuracy: 0.7837\n",
            "Epoch 28/50\n",
            "1864/1864 [==============================] - 12s 7ms/step - loss: 0.5071 - sparse_categorical_accuracy: 0.7839\n",
            "Epoch 29/50\n",
            "1864/1864 [==============================] - 12s 7ms/step - loss: 0.5071 - sparse_categorical_accuracy: 0.7838\n",
            "Epoch 30/50\n",
            "1864/1864 [==============================] - 12s 7ms/step - loss: 0.5053 - sparse_categorical_accuracy: 0.7845\n",
            "Epoch 31/50\n",
            "1864/1864 [==============================] - 12s 7ms/step - loss: 0.5043 - sparse_categorical_accuracy: 0.7853\n",
            "Epoch 32/50\n",
            "1864/1864 [==============================] - 12s 7ms/step - loss: 0.5044 - sparse_categorical_accuracy: 0.7852\n",
            "Epoch 33/50\n",
            "1864/1864 [==============================] - 12s 7ms/step - loss: 0.5033 - sparse_categorical_accuracy: 0.7858\n",
            "Epoch 34/50\n",
            "1864/1864 [==============================] - 12s 7ms/step - loss: 0.5014 - sparse_categorical_accuracy: 0.7867\n",
            "Epoch 35/50\n",
            "1864/1864 [==============================] - 13s 7ms/step - loss: 0.5014 - sparse_categorical_accuracy: 0.7868\n",
            "Epoch 36/50\n",
            "1864/1864 [==============================] - 12s 7ms/step - loss: 0.5014 - sparse_categorical_accuracy: 0.7865\n",
            "Epoch 37/50\n",
            "1864/1864 [==============================] - 12s 7ms/step - loss: 0.5008 - sparse_categorical_accuracy: 0.7865\n",
            "Epoch 38/50\n",
            "1864/1864 [==============================] - 12s 7ms/step - loss: 0.4996 - sparse_categorical_accuracy: 0.7875\n",
            "Epoch 39/50\n",
            "1864/1864 [==============================] - 12s 7ms/step - loss: 0.4996 - sparse_categorical_accuracy: 0.7869\n",
            "Epoch 40/50\n",
            "1864/1864 [==============================] - 12s 7ms/step - loss: 0.4988 - sparse_categorical_accuracy: 0.7884\n",
            "Epoch 41/50\n",
            "1864/1864 [==============================] - 12s 7ms/step - loss: 0.4985 - sparse_categorical_accuracy: 0.7881\n",
            "Epoch 42/50\n",
            "1864/1864 [==============================] - 12s 7ms/step - loss: 0.4985 - sparse_categorical_accuracy: 0.7887\n",
            "Epoch 43/50\n",
            "1864/1864 [==============================] - 12s 7ms/step - loss: 0.4975 - sparse_categorical_accuracy: 0.7890\n",
            "Epoch 44/50\n",
            "1864/1864 [==============================] - 12s 7ms/step - loss: 0.4976 - sparse_categorical_accuracy: 0.7885\n",
            "Epoch 45/50\n",
            "1864/1864 [==============================] - 14s 7ms/step - loss: 0.4975 - sparse_categorical_accuracy: 0.7881\n",
            "Epoch 46/50\n",
            "1864/1864 [==============================] - 12s 7ms/step - loss: 0.4968 - sparse_categorical_accuracy: 0.7888\n",
            "Epoch 47/50\n",
            "1864/1864 [==============================] - 12s 7ms/step - loss: 0.4966 - sparse_categorical_accuracy: 0.7888\n",
            "Epoch 48/50\n",
            "1864/1864 [==============================] - 13s 7ms/step - loss: 0.4957 - sparse_categorical_accuracy: 0.7892\n",
            "Epoch 49/50\n",
            "1864/1864 [==============================] - 13s 7ms/step - loss: 0.4949 - sparse_categorical_accuracy: 0.7897\n",
            "Epoch 50/50\n",
            "1864/1864 [==============================] - 13s 7ms/step - loss: 0.4948 - sparse_categorical_accuracy: 0.7893\n"
          ]
        }
      ],
      "source": [
        "# compiling the model\n",
        "wide_deep_model.compile(optimizer=tf.keras.optimizers.Adam(learning_rate=learning_rate), loss=tf.keras.losses.SparseCategoricalCrossentropy(), metrics=[tf.keras.metrics.SparseCategoricalAccuracy()])\n",
        "\n",
        "# training the model\n",
        "wide_deep_history = wide_deep_model.fit(train_dataset, epochs=num_epochs, batch_size=batch_size)"
      ]
    },
    {
      "cell_type": "markdown",
      "metadata": {
        "id": "UsutJur7OqTj"
      },
      "source": [
        "## Deep & Cross Model"
      ]
    },
    {
      "cell_type": "markdown",
      "metadata": {
        "id": "aCqwzggHPC_K"
      },
      "source": [
        "To begin, we define the inputs for the models as a dictionary, where the key is the feature name, and the value is a keras.layers.Input tensor with the corresponding feature shape and data type."
      ]
    },
    {
      "cell_type": "code",
      "execution_count": 20,
      "metadata": {
        "id": "0E-DDXGYr65m"
      },
      "outputs": [],
      "source": [
        "# defining the inputs\n",
        "inputs = {}\n",
        "for feature_name in feature_names:\n",
        "    if feature_name in numeric_feature_names:\n",
        "        inputs[feature_name] = tf.keras.layers.Input(name=feature_name, shape=(), dtype=tf.float32)\n",
        "    else:\n",
        "        inputs[feature_name] = tf.keras.layers.Input(name=feature_name, shape=(), dtype=tf.string)"
      ]
    },
    {
      "cell_type": "markdown",
      "metadata": {
        "id": "D8M9xywfPWyY"
      },
      "source": [
        "After that, we create a dense represenation of our input features wherein the categorical features are encoded with low-dimensional embeddings for the deep part of the model."
      ]
    },
    {
      "cell_type": "code",
      "execution_count": 21,
      "metadata": {
        "id": "bY3Cp2F9r_Om"
      },
      "outputs": [],
      "source": [
        "# creating a dense representation for the deep part\n",
        "encoded_features = []\n",
        "for feature_name in inputs:\n",
        "    if feature_name in categorical_feature_names:\n",
        "        vocabulary = categorical_features_vocabulary[feature_name]\n",
        "        lookup = tf.keras.layers.StringLookup(vocabulary=vocabulary, mask_token=None, num_oov_indices=0, output_mode=\"int\")\n",
        "        encoded_feature = lookup(inputs[feature_name])\n",
        "        embedding_dims = int(math.sqrt(len(vocabulary)))\n",
        "        embedding = tf.keras.layers.Embedding(input_dim=len(vocabulary), output_dim=embedding_dims)\n",
        "        encoded_feature = embedding(encoded_feature)\n",
        "    else:\n",
        "        encoded_feature = tf.expand_dims(inputs[feature_name], -1)\n",
        "\n",
        "    encoded_features.append(encoded_feature)\n",
        "\n",
        "x0 = tf.keras.layers.concatenate(encoded_features)"
      ]
    },
    {
      "cell_type": "markdown",
      "metadata": {
        "id": "G5R_570kPd9J"
      },
      "source": [
        "Now, we create a cross part in a way that the explicit feature crossing are applied in an efficient way, where the degree of cross features grows with layer depth. Next, we create a deep network having two layers and predefined specifications, and merge it with the cross part. Then we create an Output layer and link the layers with the input and output."
      ]
    },
    {
      "cell_type": "code",
      "execution_count": 22,
      "metadata": {
        "id": "DCbUIw_asF6e"
      },
      "outputs": [],
      "source": [
        "# creating the cross part\n",
        "cross = x0\n",
        "for _ in hidden_units:\n",
        "    units = cross.shape[-1]\n",
        "    x = tf.keras.layers.Dense(units)(cross)\n",
        "    cross = x0 * x + cross\n",
        "cross = tf.keras.layers.BatchNormalization()(cross)\n",
        "\n",
        "deep = x0\n",
        "\n",
        "# creating a deep network\n",
        "for units in hidden_units:\n",
        "    deep = tf.keras.layers.Dense(units)(deep)\n",
        "    deep = tf.keras.layers.BatchNormalization()(deep)\n",
        "    deep = tf.keras.layers.ReLU()(deep)\n",
        "    deep = tf.keras.layers.Dropout(dropout_rate)(deep)\n",
        "\n",
        "# merging the cross and deep part\n",
        "merged = tf.keras.layers.concatenate([cross, deep])\n",
        "\n",
        "# creating an output layer\n",
        "outputs = tf.keras.layers.Dense(units=num_classes, activation=\"softmax\")(merged)\n",
        "\n",
        "# linking the layers with the inputs and outputs\n",
        "deep_cross_model = tf.keras.Model(inputs=inputs, outputs=outputs)"
      ]
    },
    {
      "cell_type": "markdown",
      "metadata": {
        "id": "jeiB63d6QQ0o"
      },
      "source": [
        "Next compile the model and set the optimizer to be 'adam', loss to be SparseCategoricalCrossentropy and metric to be SparseCategoricalAccuracy. After that, we train the model on the training data with number of epochs set to the predefined value."
      ]
    },
    {
      "cell_type": "code",
      "execution_count": 23,
      "metadata": {
        "colab": {
          "base_uri": "https://localhost:8080/"
        },
        "id": "2GfWBwCgsW6H",
        "outputId": "8a7de29d-b163-495a-a5cd-990daceb5b38"
      },
      "outputs": [
        {
          "name": "stdout",
          "output_type": "stream",
          "text": [
            "Epoch 1/50\n",
            "1864/1864 [==============================] - 13s 6ms/step - loss: 0.6995 - sparse_categorical_accuracy: 0.7101\n",
            "Epoch 2/50\n",
            "1864/1864 [==============================] - 12s 6ms/step - loss: 0.5919 - sparse_categorical_accuracy: 0.7439\n",
            "Epoch 3/50\n",
            "1864/1864 [==============================] - 12s 6ms/step - loss: 0.5757 - sparse_categorical_accuracy: 0.7493\n",
            "Epoch 4/50\n",
            "1864/1864 [==============================] - 12s 6ms/step - loss: 0.5644 - sparse_categorical_accuracy: 0.7536\n",
            "Epoch 5/50\n",
            "1864/1864 [==============================] - 12s 6ms/step - loss: 0.5568 - sparse_categorical_accuracy: 0.7562\n",
            "Epoch 6/50\n",
            "1864/1864 [==============================] - 12s 6ms/step - loss: 0.5507 - sparse_categorical_accuracy: 0.7596\n",
            "Epoch 7/50\n",
            "1864/1864 [==============================] - 12s 6ms/step - loss: 0.5462 - sparse_categorical_accuracy: 0.7621\n",
            "Epoch 8/50\n",
            "1864/1864 [==============================] - 12s 6ms/step - loss: 0.5421 - sparse_categorical_accuracy: 0.7631\n",
            "Epoch 9/50\n",
            "1864/1864 [==============================] - 12s 7ms/step - loss: 0.5386 - sparse_categorical_accuracy: 0.7652\n",
            "Epoch 10/50\n",
            "1864/1864 [==============================] - 12s 6ms/step - loss: 0.5360 - sparse_categorical_accuracy: 0.7661\n",
            "Epoch 11/50\n",
            "1864/1864 [==============================] - 12s 6ms/step - loss: 0.5336 - sparse_categorical_accuracy: 0.7676\n",
            "Epoch 12/50\n",
            "1864/1864 [==============================] - 12s 6ms/step - loss: 0.5316 - sparse_categorical_accuracy: 0.7679\n",
            "Epoch 13/50\n",
            "1864/1864 [==============================] - 12s 6ms/step - loss: 0.5298 - sparse_categorical_accuracy: 0.7688\n",
            "Epoch 14/50\n",
            "1864/1864 [==============================] - 12s 6ms/step - loss: 0.5282 - sparse_categorical_accuracy: 0.7697\n",
            "Epoch 15/50\n",
            "1864/1864 [==============================] - 12s 6ms/step - loss: 0.5264 - sparse_categorical_accuracy: 0.7707\n",
            "Epoch 16/50\n",
            "1864/1864 [==============================] - 12s 6ms/step - loss: 0.5246 - sparse_categorical_accuracy: 0.7713\n",
            "Epoch 17/50\n",
            "1864/1864 [==============================] - 12s 6ms/step - loss: 0.5228 - sparse_categorical_accuracy: 0.7720\n",
            "Epoch 18/50\n",
            "1864/1864 [==============================] - 12s 6ms/step - loss: 0.5211 - sparse_categorical_accuracy: 0.7731\n",
            "Epoch 19/50\n",
            "1864/1864 [==============================] - 12s 6ms/step - loss: 0.5198 - sparse_categorical_accuracy: 0.7739\n",
            "Epoch 20/50\n",
            "1864/1864 [==============================] - 12s 6ms/step - loss: 0.5180 - sparse_categorical_accuracy: 0.7746\n",
            "Epoch 21/50\n",
            "1864/1864 [==============================] - 12s 6ms/step - loss: 0.5164 - sparse_categorical_accuracy: 0.7752\n",
            "Epoch 22/50\n",
            "1864/1864 [==============================] - 12s 6ms/step - loss: 0.5151 - sparse_categorical_accuracy: 0.7763\n",
            "Epoch 23/50\n",
            "1864/1864 [==============================] - 12s 6ms/step - loss: 0.5138 - sparse_categorical_accuracy: 0.7761\n",
            "Epoch 24/50\n",
            "1864/1864 [==============================] - 12s 6ms/step - loss: 0.5127 - sparse_categorical_accuracy: 0.7764\n",
            "Epoch 25/50\n",
            "1864/1864 [==============================] - 12s 6ms/step - loss: 0.5114 - sparse_categorical_accuracy: 0.7769\n",
            "Epoch 26/50\n",
            "1864/1864 [==============================] - 12s 6ms/step - loss: 0.5102 - sparse_categorical_accuracy: 0.7779\n",
            "Epoch 27/50\n",
            "1864/1864 [==============================] - 12s 6ms/step - loss: 0.5088 - sparse_categorical_accuracy: 0.7784\n",
            "Epoch 28/50\n",
            "1864/1864 [==============================] - 14s 8ms/step - loss: 0.5081 - sparse_categorical_accuracy: 0.7793\n",
            "Epoch 29/50\n",
            "1864/1864 [==============================] - 14s 8ms/step - loss: 0.5069 - sparse_categorical_accuracy: 0.7798\n",
            "Epoch 30/50\n",
            "1864/1864 [==============================] - 12s 6ms/step - loss: 0.5051 - sparse_categorical_accuracy: 0.7801\n",
            "Epoch 31/50\n",
            "1864/1864 [==============================] - 12s 6ms/step - loss: 0.5043 - sparse_categorical_accuracy: 0.7808\n",
            "Epoch 32/50\n",
            "1864/1864 [==============================] - 12s 6ms/step - loss: 0.5032 - sparse_categorical_accuracy: 0.7820\n",
            "Epoch 33/50\n",
            "1864/1864 [==============================] - 12s 6ms/step - loss: 0.5019 - sparse_categorical_accuracy: 0.7825\n",
            "Epoch 34/50\n",
            "1864/1864 [==============================] - 12s 7ms/step - loss: 0.5007 - sparse_categorical_accuracy: 0.7828\n",
            "Epoch 35/50\n",
            "1864/1864 [==============================] - 12s 6ms/step - loss: 0.4999 - sparse_categorical_accuracy: 0.7836\n",
            "Epoch 36/50\n",
            "1864/1864 [==============================] - 13s 7ms/step - loss: 0.4991 - sparse_categorical_accuracy: 0.7846\n",
            "Epoch 37/50\n",
            "1864/1864 [==============================] - 12s 6ms/step - loss: 0.4979 - sparse_categorical_accuracy: 0.7853\n",
            "Epoch 38/50\n",
            "1864/1864 [==============================] - 12s 6ms/step - loss: 0.4971 - sparse_categorical_accuracy: 0.7857\n",
            "Epoch 39/50\n",
            "1864/1864 [==============================] - 12s 6ms/step - loss: 0.4960 - sparse_categorical_accuracy: 0.7860\n",
            "Epoch 40/50\n",
            "1864/1864 [==============================] - 12s 6ms/step - loss: 0.4942 - sparse_categorical_accuracy: 0.7870\n",
            "Epoch 41/50\n",
            "1864/1864 [==============================] - 12s 6ms/step - loss: 0.4943 - sparse_categorical_accuracy: 0.7869\n",
            "Epoch 42/50\n",
            "1864/1864 [==============================] - 12s 6ms/step - loss: 0.4934 - sparse_categorical_accuracy: 0.7876\n",
            "Epoch 43/50\n",
            "1864/1864 [==============================] - 12s 6ms/step - loss: 0.4929 - sparse_categorical_accuracy: 0.7877\n",
            "Epoch 44/50\n",
            "1864/1864 [==============================] - 12s 6ms/step - loss: 0.4924 - sparse_categorical_accuracy: 0.7885\n",
            "Epoch 45/50\n",
            "1864/1864 [==============================] - 12s 6ms/step - loss: 0.4912 - sparse_categorical_accuracy: 0.7886\n",
            "Epoch 46/50\n",
            "1864/1864 [==============================] - 12s 6ms/step - loss: 0.4908 - sparse_categorical_accuracy: 0.7884\n",
            "Epoch 47/50\n",
            "1864/1864 [==============================] - 12s 6ms/step - loss: 0.4902 - sparse_categorical_accuracy: 0.7891\n",
            "Epoch 48/50\n",
            "1864/1864 [==============================] - 12s 6ms/step - loss: 0.4897 - sparse_categorical_accuracy: 0.7891\n",
            "Epoch 49/50\n",
            "1864/1864 [==============================] - 12s 6ms/step - loss: 0.4892 - sparse_categorical_accuracy: 0.7896\n",
            "Epoch 50/50\n",
            "1864/1864 [==============================] - 12s 6ms/step - loss: 0.4885 - sparse_categorical_accuracy: 0.7898\n"
          ]
        }
      ],
      "source": [
        "# compiling the model\n",
        "deep_cross_model.compile(optimizer=tf.keras.optimizers.Adam(learning_rate=learning_rate), loss=tf.keras.losses.SparseCategoricalCrossentropy(), metrics=[tf.keras.metrics.SparseCategoricalAccuracy()])\n",
        "\n",
        "# training the model\n",
        "deep_cross_history = deep_cross_model.fit(train_dataset, epochs=num_epochs, batch_size=batch_size)"
      ]
    },
    {
      "cell_type": "markdown",
      "metadata": {
        "id": "ZltsY1SFQVFb"
      },
      "source": [
        "## Comparison"
      ]
    },
    {
      "cell_type": "markdown",
      "metadata": {
        "id": "-ntVqmelQWFE"
      },
      "source": [
        "To compare the loss of the models, we plot them using the history attribute in a single plot and differentiate between them by giving different colors and appropriate labels using functions from the matplotlib library."
      ]
    },
    {
      "cell_type": "code",
      "execution_count": 24,
      "metadata": {
        "colab": {
          "base_uri": "https://localhost:8080/",
          "height": 530
        },
        "id": "kDcWL4Ok0fsC",
        "outputId": "9148da47-6ff8-4d24-b58e-b4b1f39f096b"
      },
      "outputs": [
        {
          "data": {
            "text/plain": [
              "<matplotlib.legend.Legend at 0x7fdda0060e90>"
            ]
          },
          "execution_count": 24,
          "metadata": {},
          "output_type": "execute_result"
        },
        {
          "data": {
            "image/png": "[encoded data removed]",
            "text/plain": [
              "<Figure size 1080x576 with 1 Axes>"
            ]
          },
          "metadata": {
            "needs_background": "light"
          },
          "output_type": "display_data"
        }
      ],
      "source": [
        "# plotting the losses of the models\n",
        "epochs = range(1, 51)\n",
        "plt.figure(figsize=(15,8))\n",
        "plt.plot(epochs, basic_history.history['loss'], 'b', label='Basic')\n",
        "plt.plot(epochs, wide_deep_history.history['loss'], 'r', label='Wide and Deep')\n",
        "plt.plot(epochs, deep_cross_history.history['loss'], 'k', label='Deep and Cross')\n",
        "plt.title('Comparing Losses of Models')\n",
        "plt.ylabel('Loss')\n",
        "plt.xlabel('Epochs')\n",
        "plt.legend()"
      ]
    },
    {
      "cell_type": "markdown",
      "metadata": {
        "id": "eb91DRDfRFdI"
      },
      "source": [
        "As we can see, the loss of all the three models decreases and then plateuas. However, there is a significant difference between the basic model and the wide & deep and deep & cross models, which have very less difference, with basic model having higher loss than the other two."
      ]
    },
    {
      "cell_type": "markdown",
      "metadata": {
        "id": "h7NIuvFpRUpX"
      },
      "source": [
        "To compare the accuracy of the models, we plot them using the history attribute in a single plot and differentiate between them by giving different colors and appropriate labels using functions from the matplotlib library."
      ]
    },
    {
      "cell_type": "code",
      "execution_count": 25,
      "metadata": {
        "colab": {
          "base_uri": "https://localhost:8080/",
          "height": 530
        },
        "id": "ggAa2ZsF1UUU",
        "outputId": "30cf9861-ccc3-4830-bc25-38cacf027d37"
      },
      "outputs": [
        {
          "data": {
            "text/plain": [
              "<matplotlib.legend.Legend at 0x7fdd3a24b5d0>"
            ]
          },
          "execution_count": 25,
          "metadata": {},
          "output_type": "execute_result"
        },
        {
          "data": {
            "image/png": "[encoded data removed]",
            "text/plain": [
              "<Figure size 1080x576 with 1 Axes>"
            ]
          },
          "metadata": {
            "needs_background": "light"
          },
          "output_type": "display_data"
        }
      ],
      "source": [
        "# plotting the accuracies of the models\n",
        "epochs = range(1, 51)\n",
        "plt.figure(figsize=(15,8))\n",
        "plt.plot(epochs, basic_history.history['sparse_categorical_accuracy'], 'b', label='Basic')\n",
        "plt.plot(epochs, wide_deep_history.history['sparse_categorical_accuracy'], 'r', label='Wide and Deep')\n",
        "plt.plot(epochs, deep_cross_history.history['sparse_categorical_accuracy'], 'k', label='Deep and Cross')\n",
        "plt.title('Comparing Accuracies of Models')\n",
        "plt.ylabel('Accuracies')\n",
        "plt.xlabel('Epochs')\n",
        "plt.legend()"
      ]
    },
    {
      "cell_type": "markdown",
      "metadata": {
        "id": "AHLb00OIRetr"
      },
      "source": [
        "As we can see, the accuracy of all the three models increases and then plateuas. However, there is a significant difference between the basic model and the wide & deep and deep & cross models, which have very less difference, with basic model having lower accuracy than the other two."
      ]
    },
    {
      "cell_type": "markdown",
      "metadata": {
        "id": "Da_zu_I5RjVb"
      },
      "source": [
        "Next, we evaluate the models on the test set using the evaluate() function. First, we compare the loss."
      ]
    },
    {
      "cell_type": "code",
      "execution_count": 26,
      "metadata": {
        "colab": {
          "base_uri": "https://localhost:8080/"
        },
        "id": "DlKB2Fda1hyb",
        "outputId": "97991d36-8b19-4939-f44e-08ca37961f4b"
      },
      "outputs": [
        {
          "name": "stdout",
          "output_type": "stream",
          "text": [
            "Loss of Basic Model on Test Set: 0.65638\n",
            "Loss of Wide & Deep Model on Test Set: 0.44760\n",
            "Loss of Deep & Cross Model on Test Set: 0.46343\n"
          ]
        }
      ],
      "source": [
        "# comparing the loss\n",
        "print(str.format('Loss of Basic Model on Test Set: {:.5f}', basic_model.evaluate(test_dataset, verbose=0)[0]))\n",
        "print(str.format('Loss of Wide & Deep Model on Test Set: {:.5f}', wide_deep_model.evaluate(test_dataset, verbose=0)[0]))\n",
        "print(str.format('Loss of Deep & Cross Model on Test Set: {:.5f}', deep_cross_model.evaluate(test_dataset, verbose=0)[0]))"
      ]
    },
    {
      "cell_type": "markdown",
      "metadata": {
        "id": "zflvauJdRuSl"
      },
      "source": [
        "As we can see, the basic model has a higher loss than the wide & deep and deep & cross models, which are almost the same with the former being slightly less."
      ]
    },
    {
      "cell_type": "markdown",
      "metadata": {
        "id": "ESyArgmKR3Gn"
      },
      "source": [
        "Next, we compare the accuracy."
      ]
    },
    {
      "cell_type": "code",
      "execution_count": 27,
      "metadata": {
        "colab": {
          "base_uri": "https://localhost:8080/"
        },
        "id": "HRRoz4125L6P",
        "outputId": "f0950f91-2d8f-4114-92a8-a4341011bc5f"
      },
      "outputs": [
        {
          "name": "stdout",
          "output_type": "stream",
          "text": [
            "Accuracy of Basic Model on Test Set: 73.60%\n",
            "Accuracy of Wide & Deep Model on Test Set: 80.94%\n",
            "Accuracy of Deep & Cross Model on Test Set: 80.10%\n"
          ]
        }
      ],
      "source": [
        "# comparing the accuracy\n",
        "print(str.format('Accuracy of Basic Model on Test Set: {:.2f}%', basic_model.evaluate(test_dataset, verbose=0)[1]*100))\n",
        "print(str.format('Accuracy of Wide & Deep Model on Test Set: {:.2f}%', wide_deep_model.evaluate(test_dataset, verbose=0)[1]*100))\n",
        "print(str.format('Accuracy of Deep & Cross Model on Test Set: {:.2f}%', deep_cross_model.evaluate(test_dataset, verbose=0)[1]*100))"
      ]
    },
    {
      "cell_type": "markdown",
      "metadata": {
        "id": "xiSL-cdpR7vK"
      },
      "source": [
        "As we can see, the basic model has a lower accuracy than the wide & deep and deep & cross models, which are almost the same with the former being slightly more."
      ]
    }
  ],
  "metadata": {
    "accelerator": "GPU",
    "colab": {
      "collapsed_sections": [],
      "provenance": []
    },
    "kernelspec": {
      "display_name": "Python 3.8.10 64-bit (windows store)",
      "language": "python",
      "name": "python3"
    },
    "language_info": {
      "name": "python",
      "version": "3.8.10"
    },
    "vscode": {
      "interpreter": {
        "hash": "42b00969bc5f493d740a4024214575325c132751ccb925f4cd3f44cb5cce2e23"
      }
    }
  },
  "nbformat": 4,
  "nbformat_minor": 0
}
