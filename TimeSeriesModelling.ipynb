{
  "nbformat": 4,
  "nbformat_minor": 0,
  "metadata": {
    "colab": {
      "provenance": [],
      "collapsed_sections": []
    },
    "kernelspec": {
      "name": "python3",
      "display_name": "Python 3"
    },
    "language_info": {
      "name": "python"
    },
    "accelerator": "GPU"
  },
  "cells": [
    {
      "cell_type": "markdown",
      "source": [
        "# Week 6 - Exercise 2\n",
        "\n",
        "Author: Khushee Kapoor\n",
        "\n",
        "Registration Number: 200968052\n",
        "\n",
        "Last Updated: 18/9/22"
      ],
      "metadata": {
        "id": "pl-DpfRlBVmA"
      }
    },
    {
      "cell_type": "markdown",
      "source": [
        "## Setting Up"
      ],
      "metadata": {
        "id": "hu1f-mMEBjyj"
      }
    },
    {
      "cell_type": "markdown",
      "source": [
        "To set up, we import the following libraries:\n",
        "\n",
        "- numpy: for data manipulation\n",
        "- pandas: for data manipulation\n",
        "- matplotlib: for data visualization\n",
        "- seaborn: for data visualization\n",
        "- tensorflow: to build neural networks"
      ],
      "metadata": {
        "id": "zcEVhgfdBli9"
      }
    },
    {
      "cell_type": "code",
      "execution_count": 1,
      "metadata": {
        "id": "8Cb9VS_ps2B8"
      },
      "outputs": [],
      "source": [
        "# importing libraries\n",
        "import numpy as np\n",
        "import pandas as pd\n",
        "from matplotlib import pyplot as plt\n",
        "import seaborn as sns\n",
        "import tensorflow as tf"
      ]
    },
    {
      "cell_type": "markdown",
      "source": [
        "Next, we read the training dataset using the read_csv() function from the Pandas library."
      ],
      "metadata": {
        "id": "fmTCDVjRB0P1"
      }
    },
    {
      "cell_type": "code",
      "source": [
        "# reading the training set\n",
        "train = pd.read_csv('Google_Stock_Price_Train.csv')"
      ],
      "metadata": {
        "id": "63bMzw7dtEQu"
      },
      "execution_count": 2,
      "outputs": []
    },
    {
      "cell_type": "markdown",
      "source": [
        "To check if we have read the data correctly, we use the head() funtion from the Pandas library to view the first few rows."
      ],
      "metadata": {
        "id": "s2H5lXi1CAb9"
      }
    },
    {
      "cell_type": "code",
      "source": [
        "# viewing the first few rows\n",
        "train.head()"
      ],
      "metadata": {
        "colab": {
          "base_uri": "https://localhost:8080/",
          "height": 206
        },
        "id": "WsyZvz5ntyhW",
        "outputId": "9cd7a2e4-9da2-489b-b556-983ab580d528"
      },
      "execution_count": 3,
      "outputs": [
        {
          "output_type": "execute_result",
          "data": {
            "text/plain": [
              "         Date    Open    High     Low   Close       Volume\n",
              "0  01-03-2012  325.25  332.83  324.97  663.59    73,80,500\n",
              "1  01-04-2012  331.27  333.87  329.08  666.45    57,49,400\n",
              "2  01-05-2012  329.83  330.75  326.89  657.21    65,90,300\n",
              "3  01-06-2012  328.34  328.77  323.68  648.24    54,05,900\n",
              "4  01-09-2012  322.04  322.29  309.46  620.76  1,16,88,800"
            ],
            "text/html": [
              "\n",
              "  <div id=\"df-6a99f98b-fee5-42d1-8600-3b91fec86a62\">\n",
              "    <div class=\"colab-df-container\">\n",
              "      <div>\n",
              "<style scoped>\n",
              "    .dataframe tbody tr th:only-of-type {\n",
              "        vertical-align: middle;\n",
              "    }\n",
              "\n",
              "    .dataframe tbody tr th {\n",
              "        vertical-align: top;\n",
              "    }\n",
              "\n",
              "    .dataframe thead th {\n",
              "        text-align: right;\n",
              "    }\n",
              "</style>\n",
              "<table border=\"1\" class=\"dataframe\">\n",
              "  <thead>\n",
              "    <tr style=\"text-align: right;\">\n",
              "      <th></th>\n",
              "      <th>Date</th>\n",
              "      <th>Open</th>\n",
              "      <th>High</th>\n",
              "      <th>Low</th>\n",
              "      <th>Close</th>\n",
              "      <th>Volume</th>\n",
              "    </tr>\n",
              "  </thead>\n",
              "  <tbody>\n",
              "    <tr>\n",
              "      <th>0</th>\n",
              "      <td>01-03-2012</td>\n",
              "      <td>325.25</td>\n",
              "      <td>332.83</td>\n",
              "      <td>324.97</td>\n",
              "      <td>663.59</td>\n",
              "      <td>73,80,500</td>\n",
              "    </tr>\n",
              "    <tr>\n",
              "      <th>1</th>\n",
              "      <td>01-04-2012</td>\n",
              "      <td>331.27</td>\n",
              "      <td>333.87</td>\n",
              "      <td>329.08</td>\n",
              "      <td>666.45</td>\n",
              "      <td>57,49,400</td>\n",
              "    </tr>\n",
              "    <tr>\n",
              "      <th>2</th>\n",
              "      <td>01-05-2012</td>\n",
              "      <td>329.83</td>\n",
              "      <td>330.75</td>\n",
              "      <td>326.89</td>\n",
              "      <td>657.21</td>\n",
              "      <td>65,90,300</td>\n",
              "    </tr>\n",
              "    <tr>\n",
              "      <th>3</th>\n",
              "      <td>01-06-2012</td>\n",
              "      <td>328.34</td>\n",
              "      <td>328.77</td>\n",
              "      <td>323.68</td>\n",
              "      <td>648.24</td>\n",
              "      <td>54,05,900</td>\n",
              "    </tr>\n",
              "    <tr>\n",
              "      <th>4</th>\n",
              "      <td>01-09-2012</td>\n",
              "      <td>322.04</td>\n",
              "      <td>322.29</td>\n",
              "      <td>309.46</td>\n",
              "      <td>620.76</td>\n",
              "      <td>1,16,88,800</td>\n",
              "    </tr>\n",
              "  </tbody>\n",
              "</table>\n",
              "</div>\n",
              "      <button class=\"colab-df-convert\" onclick=\"convertToInteractive('df-6a99f98b-fee5-42d1-8600-3b91fec86a62')\"\n",
              "              title=\"Convert this dataframe to an interactive table.\"\n",
              "              style=\"display:none;\">\n",
              "        \n",
              "  <svg xmlns=\"http://www.w3.org/2000/svg\" height=\"24px\"viewBox=\"0 0 24 24\"\n",
              "       width=\"24px\">\n",
              "    <path d=\"M0 0h24v24H0V0z\" fill=\"none\"/>\n",
              "    <path d=\"M18.56 5.44l.94 2.06.94-2.06 2.06-.94-2.06-.94-.94-2.06-.94 2.06-2.06.94zm-11 1L8.5 8.5l.94-2.06 2.06-.94-2.06-.94L8.5 2.5l-.94 2.06-2.06.94zm10 10l.94 2.06.94-2.06 2.06-.94-2.06-.94-.94-2.06-.94 2.06-2.06.94z\"/><path d=\"M17.41 7.96l-1.37-1.37c-.4-.4-.92-.59-1.43-.59-.52 0-1.04.2-1.43.59L10.3 9.45l-7.72 7.72c-.78.78-.78 2.05 0 2.83L4 21.41c.39.39.9.59 1.41.59.51 0 1.02-.2 1.41-.59l7.78-7.78 2.81-2.81c.8-.78.8-2.07 0-2.86zM5.41 20L4 18.59l7.72-7.72 1.47 1.35L5.41 20z\"/>\n",
              "  </svg>\n",
              "      </button>\n",
              "      \n",
              "  <style>\n",
              "    .colab-df-container {\n",
              "      display:flex;\n",
              "      flex-wrap:wrap;\n",
              "      gap: 12px;\n",
              "    }\n",
              "\n",
              "    .colab-df-convert {\n",
              "      background-color: #E8F0FE;\n",
              "      border: none;\n",
              "      border-radius: 50%;\n",
              "      cursor: pointer;\n",
              "      display: none;\n",
              "      fill: #1967D2;\n",
              "      height: 32px;\n",
              "      padding: 0 0 0 0;\n",
              "      width: 32px;\n",
              "    }\n",
              "\n",
              "    .colab-df-convert:hover {\n",
              "      background-color: #E2EBFA;\n",
              "      box-shadow: 0px 1px 2px rgba(60, 64, 67, 0.3), 0px 1px 3px 1px rgba(60, 64, 67, 0.15);\n",
              "      fill: #174EA6;\n",
              "    }\n",
              "\n",
              "    [theme=dark] .colab-df-convert {\n",
              "      background-color: #3B4455;\n",
              "      fill: #D2E3FC;\n",
              "    }\n",
              "\n",
              "    [theme=dark] .colab-df-convert:hover {\n",
              "      background-color: #434B5C;\n",
              "      box-shadow: 0px 1px 3px 1px rgba(0, 0, 0, 0.15);\n",
              "      filter: drop-shadow(0px 1px 2px rgba(0, 0, 0, 0.3));\n",
              "      fill: #FFFFFF;\n",
              "    }\n",
              "  </style>\n",
              "\n",
              "      <script>\n",
              "        const buttonEl =\n",
              "          document.querySelector('#df-6a99f98b-fee5-42d1-8600-3b91fec86a62 button.colab-df-convert');\n",
              "        buttonEl.style.display =\n",
              "          google.colab.kernel.accessAllowed ? 'block' : 'none';\n",
              "\n",
              "        async function convertToInteractive(key) {\n",
              "          const element = document.querySelector('#df-6a99f98b-fee5-42d1-8600-3b91fec86a62');\n",
              "          const dataTable =\n",
              "            await google.colab.kernel.invokeFunction('convertToInteractive',\n",
              "                                                     [key], {});\n",
              "          if (!dataTable) return;\n",
              "\n",
              "          const docLinkHtml = 'Like what you see? Visit the ' +\n",
              "            '<a target=\"_blank\" href=https://colab.research.google.com/notebooks/data_table.ipynb>data table notebook</a>'\n",
              "            + ' to learn more about interactive tables.';\n",
              "          element.innerHTML = '';\n",
              "          dataTable['output_type'] = 'display_data';\n",
              "          await google.colab.output.renderOutput(dataTable, element);\n",
              "          const docLink = document.createElement('div');\n",
              "          docLink.innerHTML = docLinkHtml;\n",
              "          element.appendChild(docLink);\n",
              "        }\n",
              "      </script>\n",
              "    </div>\n",
              "  </div>\n",
              "  "
            ]
          },
          "metadata": {},
          "execution_count": 3
        }
      ]
    },
    {
      "cell_type": "markdown",
      "source": [
        "To check the dimensions of the dataset, we use the shape attribute of the dataframe."
      ],
      "metadata": {
        "id": "vWHj6O_PCJhZ"
      }
    },
    {
      "cell_type": "code",
      "source": [
        "# checking the dimensions\n",
        "train.shape"
      ],
      "metadata": {
        "colab": {
          "base_uri": "https://localhost:8080/"
        },
        "id": "bXabJDTHt2U-",
        "outputId": "df4624e2-b7c1-493b-c2e2-a1feb0c45293"
      },
      "execution_count": 4,
      "outputs": [
        {
          "output_type": "execute_result",
          "data": {
            "text/plain": [
              "(1258, 6)"
            ]
          },
          "metadata": {},
          "execution_count": 4
        }
      ]
    },
    {
      "cell_type": "markdown",
      "source": [
        "As we can see, the training set has 1258 rows and 6 columns."
      ],
      "metadata": {
        "id": "4gRsRd99CS_c"
      }
    },
    {
      "cell_type": "markdown",
      "source": [
        "Next, we read the testing dataset using the read_csv() function from the Pandas library."
      ],
      "metadata": {
        "id": "Oq4naBGKCaaY"
      }
    },
    {
      "cell_type": "code",
      "source": [
        "# reading the testing dataset\n",
        "test = pd.read_csv('Google_Stock_Price_Test.csv')"
      ],
      "metadata": {
        "id": "OQ_Zwr5Eu1SY"
      },
      "execution_count": 5,
      "outputs": []
    },
    {
      "cell_type": "markdown",
      "source": [
        "To check if we have read the data correctly, we use the head() funtion from the Pandas library to view the first few rows."
      ],
      "metadata": {
        "id": "5lxert-YCkP5"
      }
    },
    {
      "cell_type": "code",
      "source": [
        "# viewing the first few rows\n",
        "test.head()"
      ],
      "metadata": {
        "colab": {
          "base_uri": "https://localhost:8080/",
          "height": 206
        },
        "id": "0mVkRxAQu4yZ",
        "outputId": "c83de516-4276-48d3-c68d-8850b6b76074"
      },
      "execution_count": 6,
      "outputs": [
        {
          "output_type": "execute_result",
          "data": {
            "text/plain": [
              "       Date    Open    High     Low   Close     Volume\n",
              "0  1/3/2017  778.81  789.63  775.80  786.14  1,657,300\n",
              "1  1/4/2017  788.36  791.34  783.16  786.90  1,073,000\n",
              "2  1/5/2017  786.08  794.48  785.02  794.02  1,335,200\n",
              "3  1/6/2017  795.26  807.90  792.20  806.15  1,640,200\n",
              "4  1/9/2017  806.40  809.97  802.83  806.65  1,272,400"
            ],
            "text/html": [
              "\n",
              "  <div id=\"df-cb31ec51-7cc1-404c-a373-6957f7b0a7d2\">\n",
              "    <div class=\"colab-df-container\">\n",
              "      <div>\n",
              "<style scoped>\n",
              "    .dataframe tbody tr th:only-of-type {\n",
              "        vertical-align: middle;\n",
              "    }\n",
              "\n",
              "    .dataframe tbody tr th {\n",
              "        vertical-align: top;\n",
              "    }\n",
              "\n",
              "    .dataframe thead th {\n",
              "        text-align: right;\n",
              "    }\n",
              "</style>\n",
              "<table border=\"1\" class=\"dataframe\">\n",
              "  <thead>\n",
              "    <tr style=\"text-align: right;\">\n",
              "      <th></th>\n",
              "      <th>Date</th>\n",
              "      <th>Open</th>\n",
              "      <th>High</th>\n",
              "      <th>Low</th>\n",
              "      <th>Close</th>\n",
              "      <th>Volume</th>\n",
              "    </tr>\n",
              "  </thead>\n",
              "  <tbody>\n",
              "    <tr>\n",
              "      <th>0</th>\n",
              "      <td>1/3/2017</td>\n",
              "      <td>778.81</td>\n",
              "      <td>789.63</td>\n",
              "      <td>775.80</td>\n",
              "      <td>786.14</td>\n",
              "      <td>1,657,300</td>\n",
              "    </tr>\n",
              "    <tr>\n",
              "      <th>1</th>\n",
              "      <td>1/4/2017</td>\n",
              "      <td>788.36</td>\n",
              "      <td>791.34</td>\n",
              "      <td>783.16</td>\n",
              "      <td>786.90</td>\n",
              "      <td>1,073,000</td>\n",
              "    </tr>\n",
              "    <tr>\n",
              "      <th>2</th>\n",
              "      <td>1/5/2017</td>\n",
              "      <td>786.08</td>\n",
              "      <td>794.48</td>\n",
              "      <td>785.02</td>\n",
              "      <td>794.02</td>\n",
              "      <td>1,335,200</td>\n",
              "    </tr>\n",
              "    <tr>\n",
              "      <th>3</th>\n",
              "      <td>1/6/2017</td>\n",
              "      <td>795.26</td>\n",
              "      <td>807.90</td>\n",
              "      <td>792.20</td>\n",
              "      <td>806.15</td>\n",
              "      <td>1,640,200</td>\n",
              "    </tr>\n",
              "    <tr>\n",
              "      <th>4</th>\n",
              "      <td>1/9/2017</td>\n",
              "      <td>806.40</td>\n",
              "      <td>809.97</td>\n",
              "      <td>802.83</td>\n",
              "      <td>806.65</td>\n",
              "      <td>1,272,400</td>\n",
              "    </tr>\n",
              "  </tbody>\n",
              "</table>\n",
              "</div>\n",
              "      <button class=\"colab-df-convert\" onclick=\"convertToInteractive('df-cb31ec51-7cc1-404c-a373-6957f7b0a7d2')\"\n",
              "              title=\"Convert this dataframe to an interactive table.\"\n",
              "              style=\"display:none;\">\n",
              "        \n",
              "  <svg xmlns=\"http://www.w3.org/2000/svg\" height=\"24px\"viewBox=\"0 0 24 24\"\n",
              "       width=\"24px\">\n",
              "    <path d=\"M0 0h24v24H0V0z\" fill=\"none\"/>\n",
              "    <path d=\"M18.56 5.44l.94 2.06.94-2.06 2.06-.94-2.06-.94-.94-2.06-.94 2.06-2.06.94zm-11 1L8.5 8.5l.94-2.06 2.06-.94-2.06-.94L8.5 2.5l-.94 2.06-2.06.94zm10 10l.94 2.06.94-2.06 2.06-.94-2.06-.94-.94-2.06-.94 2.06-2.06.94z\"/><path d=\"M17.41 7.96l-1.37-1.37c-.4-.4-.92-.59-1.43-.59-.52 0-1.04.2-1.43.59L10.3 9.45l-7.72 7.72c-.78.78-.78 2.05 0 2.83L4 21.41c.39.39.9.59 1.41.59.51 0 1.02-.2 1.41-.59l7.78-7.78 2.81-2.81c.8-.78.8-2.07 0-2.86zM5.41 20L4 18.59l7.72-7.72 1.47 1.35L5.41 20z\"/>\n",
              "  </svg>\n",
              "      </button>\n",
              "      \n",
              "  <style>\n",
              "    .colab-df-container {\n",
              "      display:flex;\n",
              "      flex-wrap:wrap;\n",
              "      gap: 12px;\n",
              "    }\n",
              "\n",
              "    .colab-df-convert {\n",
              "      background-color: #E8F0FE;\n",
              "      border: none;\n",
              "      border-radius: 50%;\n",
              "      cursor: pointer;\n",
              "      display: none;\n",
              "      fill: #1967D2;\n",
              "      height: 32px;\n",
              "      padding: 0 0 0 0;\n",
              "      width: 32px;\n",
              "    }\n",
              "\n",
              "    .colab-df-convert:hover {\n",
              "      background-color: #E2EBFA;\n",
              "      box-shadow: 0px 1px 2px rgba(60, 64, 67, 0.3), 0px 1px 3px 1px rgba(60, 64, 67, 0.15);\n",
              "      fill: #174EA6;\n",
              "    }\n",
              "\n",
              "    [theme=dark] .colab-df-convert {\n",
              "      background-color: #3B4455;\n",
              "      fill: #D2E3FC;\n",
              "    }\n",
              "\n",
              "    [theme=dark] .colab-df-convert:hover {\n",
              "      background-color: #434B5C;\n",
              "      box-shadow: 0px 1px 3px 1px rgba(0, 0, 0, 0.15);\n",
              "      filter: drop-shadow(0px 1px 2px rgba(0, 0, 0, 0.3));\n",
              "      fill: #FFFFFF;\n",
              "    }\n",
              "  </style>\n",
              "\n",
              "      <script>\n",
              "        const buttonEl =\n",
              "          document.querySelector('#df-cb31ec51-7cc1-404c-a373-6957f7b0a7d2 button.colab-df-convert');\n",
              "        buttonEl.style.display =\n",
              "          google.colab.kernel.accessAllowed ? 'block' : 'none';\n",
              "\n",
              "        async function convertToInteractive(key) {\n",
              "          const element = document.querySelector('#df-cb31ec51-7cc1-404c-a373-6957f7b0a7d2');\n",
              "          const dataTable =\n",
              "            await google.colab.kernel.invokeFunction('convertToInteractive',\n",
              "                                                     [key], {});\n",
              "          if (!dataTable) return;\n",
              "\n",
              "          const docLinkHtml = 'Like what you see? Visit the ' +\n",
              "            '<a target=\"_blank\" href=https://colab.research.google.com/notebooks/data_table.ipynb>data table notebook</a>'\n",
              "            + ' to learn more about interactive tables.';\n",
              "          element.innerHTML = '';\n",
              "          dataTable['output_type'] = 'display_data';\n",
              "          await google.colab.output.renderOutput(dataTable, element);\n",
              "          const docLink = document.createElement('div');\n",
              "          docLink.innerHTML = docLinkHtml;\n",
              "          element.appendChild(docLink);\n",
              "        }\n",
              "      </script>\n",
              "    </div>\n",
              "  </div>\n",
              "  "
            ]
          },
          "metadata": {},
          "execution_count": 6
        }
      ]
    },
    {
      "cell_type": "markdown",
      "source": [
        "To check the dimensions of the dataset, we use the shape attribute of the dataframe."
      ],
      "metadata": {
        "id": "-wkWJ5AqCo7q"
      }
    },
    {
      "cell_type": "code",
      "source": [
        "# checking the dimensions\n",
        "test.shape"
      ],
      "metadata": {
        "colab": {
          "base_uri": "https://localhost:8080/"
        },
        "id": "47lvcmhgu8Se",
        "outputId": "eeea75e6-11ac-4d1e-da56-e42a2147ff26"
      },
      "execution_count": 7,
      "outputs": [
        {
          "output_type": "execute_result",
          "data": {
            "text/plain": [
              "(20, 6)"
            ]
          },
          "metadata": {},
          "execution_count": 7
        }
      ]
    },
    {
      "cell_type": "markdown",
      "source": [
        "As we can see, the testing set has 20 rows and 6 columns."
      ],
      "metadata": {
        "id": "vi13FJxACq49"
      }
    },
    {
      "cell_type": "markdown",
      "source": [
        "After that, we concatenate the training and testing sets for data preprocessing. This is done because the timesteps mentioned in the question are 50 and the testing set only has 20 instances. We need to reallocate the testing set to have atleast 100 instances so that we can evaluate the models. We use the concat() function from the Pandas library to do this."
      ],
      "metadata": {
        "id": "C200EskBCuVs"
      }
    },
    {
      "cell_type": "code",
      "source": [
        "# concatenating the training and testing sets\n",
        "df = pd.concat([train, test])"
      ],
      "metadata": {
        "id": "KUpu-CqwHVBR"
      },
      "execution_count": 8,
      "outputs": []
    },
    {
      "cell_type": "markdown",
      "source": [
        "To check if we have concatenated the data correctly, we use the head() funtion from the Pandas library to view the first few rows."
      ],
      "metadata": {
        "id": "5f1UkJsMDIeV"
      }
    },
    {
      "cell_type": "code",
      "source": [
        "# viewing the first few rows\n",
        "df.head()"
      ],
      "metadata": {
        "colab": {
          "base_uri": "https://localhost:8080/",
          "height": 206
        },
        "id": "P3mQ9uWQzaS8",
        "outputId": "0969faa1-77c8-471a-8b3b-c3400d1d684e"
      },
      "execution_count": 9,
      "outputs": [
        {
          "output_type": "execute_result",
          "data": {
            "text/plain": [
              "         Date    Open    High     Low   Close       Volume\n",
              "0  01-03-2012  325.25  332.83  324.97  663.59    73,80,500\n",
              "1  01-04-2012  331.27  333.87  329.08  666.45    57,49,400\n",
              "2  01-05-2012  329.83  330.75  326.89  657.21    65,90,300\n",
              "3  01-06-2012  328.34  328.77  323.68  648.24    54,05,900\n",
              "4  01-09-2012  322.04  322.29  309.46  620.76  1,16,88,800"
            ],
            "text/html": [
              "\n",
              "  <div id=\"df-0ffee63d-268f-40d2-b88c-ce6a8a490636\">\n",
              "    <div class=\"colab-df-container\">\n",
              "      <div>\n",
              "<style scoped>\n",
              "    .dataframe tbody tr th:only-of-type {\n",
              "        vertical-align: middle;\n",
              "    }\n",
              "\n",
              "    .dataframe tbody tr th {\n",
              "        vertical-align: top;\n",
              "    }\n",
              "\n",
              "    .dataframe thead th {\n",
              "        text-align: right;\n",
              "    }\n",
              "</style>\n",
              "<table border=\"1\" class=\"dataframe\">\n",
              "  <thead>\n",
              "    <tr style=\"text-align: right;\">\n",
              "      <th></th>\n",
              "      <th>Date</th>\n",
              "      <th>Open</th>\n",
              "      <th>High</th>\n",
              "      <th>Low</th>\n",
              "      <th>Close</th>\n",
              "      <th>Volume</th>\n",
              "    </tr>\n",
              "  </thead>\n",
              "  <tbody>\n",
              "    <tr>\n",
              "      <th>0</th>\n",
              "      <td>01-03-2012</td>\n",
              "      <td>325.25</td>\n",
              "      <td>332.83</td>\n",
              "      <td>324.97</td>\n",
              "      <td>663.59</td>\n",
              "      <td>73,80,500</td>\n",
              "    </tr>\n",
              "    <tr>\n",
              "      <th>1</th>\n",
              "      <td>01-04-2012</td>\n",
              "      <td>331.27</td>\n",
              "      <td>333.87</td>\n",
              "      <td>329.08</td>\n",
              "      <td>666.45</td>\n",
              "      <td>57,49,400</td>\n",
              "    </tr>\n",
              "    <tr>\n",
              "      <th>2</th>\n",
              "      <td>01-05-2012</td>\n",
              "      <td>329.83</td>\n",
              "      <td>330.75</td>\n",
              "      <td>326.89</td>\n",
              "      <td>657.21</td>\n",
              "      <td>65,90,300</td>\n",
              "    </tr>\n",
              "    <tr>\n",
              "      <th>3</th>\n",
              "      <td>01-06-2012</td>\n",
              "      <td>328.34</td>\n",
              "      <td>328.77</td>\n",
              "      <td>323.68</td>\n",
              "      <td>648.24</td>\n",
              "      <td>54,05,900</td>\n",
              "    </tr>\n",
              "    <tr>\n",
              "      <th>4</th>\n",
              "      <td>01-09-2012</td>\n",
              "      <td>322.04</td>\n",
              "      <td>322.29</td>\n",
              "      <td>309.46</td>\n",
              "      <td>620.76</td>\n",
              "      <td>1,16,88,800</td>\n",
              "    </tr>\n",
              "  </tbody>\n",
              "</table>\n",
              "</div>\n",
              "      <button class=\"colab-df-convert\" onclick=\"convertToInteractive('df-0ffee63d-268f-40d2-b88c-ce6a8a490636')\"\n",
              "              title=\"Convert this dataframe to an interactive table.\"\n",
              "              style=\"display:none;\">\n",
              "        \n",
              "  <svg xmlns=\"http://www.w3.org/2000/svg\" height=\"24px\"viewBox=\"0 0 24 24\"\n",
              "       width=\"24px\">\n",
              "    <path d=\"M0 0h24v24H0V0z\" fill=\"none\"/>\n",
              "    <path d=\"M18.56 5.44l.94 2.06.94-2.06 2.06-.94-2.06-.94-.94-2.06-.94 2.06-2.06.94zm-11 1L8.5 8.5l.94-2.06 2.06-.94-2.06-.94L8.5 2.5l-.94 2.06-2.06.94zm10 10l.94 2.06.94-2.06 2.06-.94-2.06-.94-.94-2.06-.94 2.06-2.06.94z\"/><path d=\"M17.41 7.96l-1.37-1.37c-.4-.4-.92-.59-1.43-.59-.52 0-1.04.2-1.43.59L10.3 9.45l-7.72 7.72c-.78.78-.78 2.05 0 2.83L4 21.41c.39.39.9.59 1.41.59.51 0 1.02-.2 1.41-.59l7.78-7.78 2.81-2.81c.8-.78.8-2.07 0-2.86zM5.41 20L4 18.59l7.72-7.72 1.47 1.35L5.41 20z\"/>\n",
              "  </svg>\n",
              "      </button>\n",
              "      \n",
              "  <style>\n",
              "    .colab-df-container {\n",
              "      display:flex;\n",
              "      flex-wrap:wrap;\n",
              "      gap: 12px;\n",
              "    }\n",
              "\n",
              "    .colab-df-convert {\n",
              "      background-color: #E8F0FE;\n",
              "      border: none;\n",
              "      border-radius: 50%;\n",
              "      cursor: pointer;\n",
              "      display: none;\n",
              "      fill: #1967D2;\n",
              "      height: 32px;\n",
              "      padding: 0 0 0 0;\n",
              "      width: 32px;\n",
              "    }\n",
              "\n",
              "    .colab-df-convert:hover {\n",
              "      background-color: #E2EBFA;\n",
              "      box-shadow: 0px 1px 2px rgba(60, 64, 67, 0.3), 0px 1px 3px 1px rgba(60, 64, 67, 0.15);\n",
              "      fill: #174EA6;\n",
              "    }\n",
              "\n",
              "    [theme=dark] .colab-df-convert {\n",
              "      background-color: #3B4455;\n",
              "      fill: #D2E3FC;\n",
              "    }\n",
              "\n",
              "    [theme=dark] .colab-df-convert:hover {\n",
              "      background-color: #434B5C;\n",
              "      box-shadow: 0px 1px 3px 1px rgba(0, 0, 0, 0.15);\n",
              "      filter: drop-shadow(0px 1px 2px rgba(0, 0, 0, 0.3));\n",
              "      fill: #FFFFFF;\n",
              "    }\n",
              "  </style>\n",
              "\n",
              "      <script>\n",
              "        const buttonEl =\n",
              "          document.querySelector('#df-0ffee63d-268f-40d2-b88c-ce6a8a490636 button.colab-df-convert');\n",
              "        buttonEl.style.display =\n",
              "          google.colab.kernel.accessAllowed ? 'block' : 'none';\n",
              "\n",
              "        async function convertToInteractive(key) {\n",
              "          const element = document.querySelector('#df-0ffee63d-268f-40d2-b88c-ce6a8a490636');\n",
              "          const dataTable =\n",
              "            await google.colab.kernel.invokeFunction('convertToInteractive',\n",
              "                                                     [key], {});\n",
              "          if (!dataTable) return;\n",
              "\n",
              "          const docLinkHtml = 'Like what you see? Visit the ' +\n",
              "            '<a target=\"_blank\" href=https://colab.research.google.com/notebooks/data_table.ipynb>data table notebook</a>'\n",
              "            + ' to learn more about interactive tables.';\n",
              "          element.innerHTML = '';\n",
              "          dataTable['output_type'] = 'display_data';\n",
              "          await google.colab.output.renderOutput(dataTable, element);\n",
              "          const docLink = document.createElement('div');\n",
              "          docLink.innerHTML = docLinkHtml;\n",
              "          element.appendChild(docLink);\n",
              "        }\n",
              "      </script>\n",
              "    </div>\n",
              "  </div>\n",
              "  "
            ]
          },
          "metadata": {},
          "execution_count": 9
        }
      ]
    },
    {
      "cell_type": "markdown",
      "source": [
        "Next, since we need to predict the opening price of the next day, we select only the open column from the dataset."
      ],
      "metadata": {
        "id": "ZNXpe4UwDz79"
      }
    },
    {
      "cell_type": "code",
      "source": [
        "# selecting only the open column\n",
        "df = df[['Open']]"
      ],
      "metadata": {
        "id": "EKYjdK2r4c_a"
      },
      "execution_count": 10,
      "outputs": []
    },
    {
      "cell_type": "markdown",
      "source": [
        "As mentioned before, we reallocate the training and testing sets. The training set now has all the data except the last 100 rows which are allocated to the testing set."
      ],
      "metadata": {
        "id": "bsya0nhgEAN0"
      }
    },
    {
      "cell_type": "code",
      "source": [
        "# reallocating the training and testing sets\n",
        "train = df.head(df.shape[0]-100)\n",
        "test = df.tail(100)"
      ],
      "metadata": {
        "id": "Rfec9EgB3q36"
      },
      "execution_count": 11,
      "outputs": []
    },
    {
      "cell_type": "markdown",
      "source": [
        "After that, we preprocess the training set by scaling it to values between 0 and 1. We use the MinMaxScaler from the sklearn library for this."
      ],
      "metadata": {
        "id": "ycZCtD22Ed5d"
      }
    },
    {
      "cell_type": "code",
      "source": [
        "# scaling the training data\n",
        "from sklearn.preprocessing import MinMaxScaler\n",
        "scaler = MinMaxScaler()\n",
        "train = scaler.fit_transform(train)"
      ],
      "metadata": {
        "id": "jMrSXrhSzrRY"
      },
      "execution_count": 12,
      "outputs": []
    },
    {
      "cell_type": "markdown",
      "source": [
        "Next, we divide the training data into x and y - independent and dependent values, however, we do that slightly differently. Here, since the timesteps mentioned are 50, we use the past 50 day's data to predict the values on the 51st day. Similarly, we use the data of days 2 to 51 to predict the values on day 52. We iterate over the training set and change the format of the data by generating sequences. Then we use the array() function from the NumPy library to ensure that the data is in the form of a numpy array."
      ],
      "metadata": {
        "id": "Ed85XyrrEqTg"
      }
    },
    {
      "cell_type": "code",
      "source": [
        "# changing the format of the data by generating sequences\n",
        "x_train = []\n",
        "y_train = []\n",
        "timesteps = 50\n",
        "\n",
        "for i in range(timesteps, train.shape[0]):\n",
        "    x_train.append(train[i-timesteps:i])\n",
        "    y_train.append(train[i, 0])\n",
        "\n",
        "# ensuring that the data is in the form of a numpy array\n",
        "x_train, y_train = np.array(x_train), np.array(y_train)"
      ],
      "metadata": {
        "id": "HCwwnNns5KcA"
      },
      "execution_count": 13,
      "outputs": []
    },
    {
      "cell_type": "markdown",
      "source": [
        "Now we build a Recurrent Neural Network. We use the Sequential API from the Tensorflow library to add four SimpleRNN layers followed by Dropout layers in to the model. At the end, we add a Dense layer with 1 unit and linear activation for regression."
      ],
      "metadata": {
        "id": "eFcp02EtFmp0"
      }
    },
    {
      "cell_type": "code",
      "source": [
        "# building the recurrent neural network\n",
        "rnn = tf.keras.models.Sequential()\n",
        "\n",
        "# input and first layer\n",
        "rnn.add(tf.keras.layers.SimpleRNN(units=50, return_sequences=True, input_shape=(x_train.shape[1], 1)))\n",
        "rnn.add(tf.keras.layers.Dropout(0.2))\n",
        "\n",
        "# second layer\n",
        "rnn.add(tf.keras.layers.SimpleRNN(units=40, return_sequences=True))\n",
        "rnn.add(tf.keras.layers.Dropout(0.2))\n",
        "\n",
        "# third layer\n",
        "rnn.add(tf.keras.layers.SimpleRNN(units=30, return_sequences=True))\n",
        "rnn.add(tf.keras.layers.Dropout(0.2))\n",
        "\n",
        "# fourth layer\n",
        "rnn.add(tf.keras.layers.SimpleRNN(units=20))\n",
        "rnn.add(tf.keras.layers.Dropout(0.2))\n",
        "\n",
        "# output layer\n",
        "rnn.add(tf.keras.layers.Dense(units=1, activation='linear'))"
      ],
      "metadata": {
        "id": "i3rs_BLPxqKe"
      },
      "execution_count": 14,
      "outputs": []
    },
    {
      "cell_type": "markdown",
      "source": [
        "Next compile the model and set the optimizer to be 'adam', loss to be MeanSquaredError and metric to be RootMeanSquaredError. After that, we train the model on the training data with number of epochs set to 50 and validation split to be 15%. "
      ],
      "metadata": {
        "id": "dYNH6GEqGS8b"
      }
    },
    {
      "cell_type": "code",
      "source": [
        "# compiling the model\n",
        "rnn.compile(optimizer=tf.keras.optimizers.Adam(), loss=tf.keras.losses.MeanSquaredError(), metrics=tf.keras.metrics.RootMeanSquaredError())\n",
        "\n",
        "# training the model\n",
        "rnn.fit(x_train, y_train, epochs=50, validation_split=0.15)"
      ],
      "metadata": {
        "colab": {
          "base_uri": "https://localhost:8080/"
        },
        "id": "EOYa0WNvylaY",
        "outputId": "e46b5f75-cfa6-48d2-8a47-6ce3666292a1"
      },
      "execution_count": 15,
      "outputs": [
        {
          "output_type": "stream",
          "name": "stdout",
          "text": [
            "Epoch 1/50\n",
            "30/30 [==============================] - 7s 123ms/step - loss: 0.5626 - root_mean_squared_error: 0.7500 - val_loss: 0.0254 - val_root_mean_squared_error: 0.1594\n",
            "Epoch 2/50\n",
            "30/30 [==============================] - 3s 86ms/step - loss: 0.3483 - root_mean_squared_error: 0.5902 - val_loss: 0.0030 - val_root_mean_squared_error: 0.0552\n",
            "Epoch 3/50\n",
            "30/30 [==============================] - 3s 84ms/step - loss: 0.2629 - root_mean_squared_error: 0.5127 - val_loss: 0.0223 - val_root_mean_squared_error: 0.1493\n",
            "Epoch 4/50\n",
            "30/30 [==============================] - 2s 81ms/step - loss: 0.2045 - root_mean_squared_error: 0.4522 - val_loss: 0.0020 - val_root_mean_squared_error: 0.0448\n",
            "Epoch 5/50\n",
            "30/30 [==============================] - 3s 88ms/step - loss: 0.1819 - root_mean_squared_error: 0.4265 - val_loss: 0.0113 - val_root_mean_squared_error: 0.1063\n",
            "Epoch 6/50\n",
            "30/30 [==============================] - 3s 85ms/step - loss: 0.1552 - root_mean_squared_error: 0.3939 - val_loss: 0.0077 - val_root_mean_squared_error: 0.0878\n",
            "Epoch 7/50\n",
            "30/30 [==============================] - 2s 72ms/step - loss: 0.1303 - root_mean_squared_error: 0.3610 - val_loss: 0.0016 - val_root_mean_squared_error: 0.0396\n",
            "Epoch 8/50\n",
            "30/30 [==============================] - 1s 41ms/step - loss: 0.1044 - root_mean_squared_error: 0.3232 - val_loss: 0.0278 - val_root_mean_squared_error: 0.1669\n",
            "Epoch 9/50\n",
            "30/30 [==============================] - 1s 39ms/step - loss: 0.1079 - root_mean_squared_error: 0.3284 - val_loss: 0.0015 - val_root_mean_squared_error: 0.0389\n",
            "Epoch 10/50\n",
            "30/30 [==============================] - 1s 40ms/step - loss: 0.0792 - root_mean_squared_error: 0.2814 - val_loss: 0.0031 - val_root_mean_squared_error: 0.0559\n",
            "Epoch 11/50\n",
            "30/30 [==============================] - 1s 41ms/step - loss: 0.0658 - root_mean_squared_error: 0.2565 - val_loss: 0.0023 - val_root_mean_squared_error: 0.0478\n",
            "Epoch 12/50\n",
            "30/30 [==============================] - 1s 39ms/step - loss: 0.0588 - root_mean_squared_error: 0.2425 - val_loss: 0.0047 - val_root_mean_squared_error: 0.0685\n",
            "Epoch 13/50\n",
            "30/30 [==============================] - 1s 41ms/step - loss: 0.0526 - root_mean_squared_error: 0.2293 - val_loss: 0.0032 - val_root_mean_squared_error: 0.0570\n",
            "Epoch 14/50\n",
            "30/30 [==============================] - 1s 39ms/step - loss: 0.0536 - root_mean_squared_error: 0.2316 - val_loss: 0.0023 - val_root_mean_squared_error: 0.0476\n",
            "Epoch 15/50\n",
            "30/30 [==============================] - 1s 40ms/step - loss: 0.0469 - root_mean_squared_error: 0.2167 - val_loss: 0.0041 - val_root_mean_squared_error: 0.0641\n",
            "Epoch 16/50\n",
            "30/30 [==============================] - 1s 42ms/step - loss: 0.0410 - root_mean_squared_error: 0.2024 - val_loss: 0.0039 - val_root_mean_squared_error: 0.0625\n",
            "Epoch 17/50\n",
            "30/30 [==============================] - 1s 41ms/step - loss: 0.0385 - root_mean_squared_error: 0.1961 - val_loss: 0.0018 - val_root_mean_squared_error: 0.0422\n",
            "Epoch 18/50\n",
            "30/30 [==============================] - 1s 42ms/step - loss: 0.0356 - root_mean_squared_error: 0.1888 - val_loss: 0.0017 - val_root_mean_squared_error: 0.0411\n",
            "Epoch 19/50\n",
            "30/30 [==============================] - 1s 41ms/step - loss: 0.0318 - root_mean_squared_error: 0.1784 - val_loss: 0.0014 - val_root_mean_squared_error: 0.0368\n",
            "Epoch 20/50\n",
            "30/30 [==============================] - 1s 40ms/step - loss: 0.0296 - root_mean_squared_error: 0.1720 - val_loss: 0.0014 - val_root_mean_squared_error: 0.0371\n",
            "Epoch 21/50\n",
            "30/30 [==============================] - 1s 39ms/step - loss: 0.0298 - root_mean_squared_error: 0.1726 - val_loss: 0.0031 - val_root_mean_squared_error: 0.0558\n",
            "Epoch 22/50\n",
            "30/30 [==============================] - 1s 40ms/step - loss: 0.0274 - root_mean_squared_error: 0.1654 - val_loss: 0.0021 - val_root_mean_squared_error: 0.0460\n",
            "Epoch 23/50\n",
            "30/30 [==============================] - 1s 42ms/step - loss: 0.0251 - root_mean_squared_error: 0.1584 - val_loss: 0.0023 - val_root_mean_squared_error: 0.0475\n",
            "Epoch 24/50\n",
            "30/30 [==============================] - 1s 40ms/step - loss: 0.0256 - root_mean_squared_error: 0.1599 - val_loss: 0.0016 - val_root_mean_squared_error: 0.0396\n",
            "Epoch 25/50\n",
            "30/30 [==============================] - 1s 38ms/step - loss: 0.0226 - root_mean_squared_error: 0.1505 - val_loss: 0.0054 - val_root_mean_squared_error: 0.0737\n",
            "Epoch 26/50\n",
            "30/30 [==============================] - 1s 40ms/step - loss: 0.0231 - root_mean_squared_error: 0.1520 - val_loss: 0.0016 - val_root_mean_squared_error: 0.0404\n",
            "Epoch 27/50\n",
            "30/30 [==============================] - 1s 40ms/step - loss: 0.0212 - root_mean_squared_error: 0.1457 - val_loss: 0.0022 - val_root_mean_squared_error: 0.0470\n",
            "Epoch 28/50\n",
            "30/30 [==============================] - 1s 40ms/step - loss: 0.0197 - root_mean_squared_error: 0.1404 - val_loss: 0.0044 - val_root_mean_squared_error: 0.0662\n",
            "Epoch 29/50\n",
            "30/30 [==============================] - 1s 40ms/step - loss: 0.0185 - root_mean_squared_error: 0.1362 - val_loss: 0.0012 - val_root_mean_squared_error: 0.0353\n",
            "Epoch 30/50\n",
            "30/30 [==============================] - 1s 40ms/step - loss: 0.0184 - root_mean_squared_error: 0.1355 - val_loss: 0.0039 - val_root_mean_squared_error: 0.0622\n",
            "Epoch 31/50\n",
            "30/30 [==============================] - 1s 40ms/step - loss: 0.0164 - root_mean_squared_error: 0.1282 - val_loss: 0.0025 - val_root_mean_squared_error: 0.0498\n",
            "Epoch 32/50\n",
            "30/30 [==============================] - 1s 41ms/step - loss: 0.0159 - root_mean_squared_error: 0.1262 - val_loss: 0.0019 - val_root_mean_squared_error: 0.0441\n",
            "Epoch 33/50\n",
            "30/30 [==============================] - 1s 40ms/step - loss: 0.0151 - root_mean_squared_error: 0.1228 - val_loss: 0.0029 - val_root_mean_squared_error: 0.0542\n",
            "Epoch 34/50\n",
            "30/30 [==============================] - 1s 40ms/step - loss: 0.0143 - root_mean_squared_error: 0.1195 - val_loss: 0.0013 - val_root_mean_squared_error: 0.0357\n",
            "Epoch 35/50\n",
            "30/30 [==============================] - 1s 39ms/step - loss: 0.0168 - root_mean_squared_error: 0.1297 - val_loss: 0.0044 - val_root_mean_squared_error: 0.0664\n",
            "Epoch 36/50\n",
            "30/30 [==============================] - 1s 41ms/step - loss: 0.0137 - root_mean_squared_error: 0.1172 - val_loss: 0.0015 - val_root_mean_squared_error: 0.0392\n",
            "Epoch 37/50\n",
            "30/30 [==============================] - 1s 40ms/step - loss: 0.0119 - root_mean_squared_error: 0.1089 - val_loss: 0.0045 - val_root_mean_squared_error: 0.0670\n",
            "Epoch 38/50\n",
            "30/30 [==============================] - 1s 41ms/step - loss: 0.0137 - root_mean_squared_error: 0.1169 - val_loss: 0.0012 - val_root_mean_squared_error: 0.0343\n",
            "Epoch 39/50\n",
            "30/30 [==============================] - 1s 40ms/step - loss: 0.0121 - root_mean_squared_error: 0.1098 - val_loss: 0.0014 - val_root_mean_squared_error: 0.0379\n",
            "Epoch 40/50\n",
            "30/30 [==============================] - 1s 40ms/step - loss: 0.0127 - root_mean_squared_error: 0.1126 - val_loss: 0.0016 - val_root_mean_squared_error: 0.0398\n",
            "Epoch 41/50\n",
            "30/30 [==============================] - 1s 40ms/step - loss: 0.0107 - root_mean_squared_error: 0.1033 - val_loss: 0.0034 - val_root_mean_squared_error: 0.0584\n",
            "Epoch 42/50\n",
            "30/30 [==============================] - 1s 40ms/step - loss: 0.0093 - root_mean_squared_error: 0.0964 - val_loss: 0.0020 - val_root_mean_squared_error: 0.0445\n",
            "Epoch 43/50\n",
            "30/30 [==============================] - 1s 41ms/step - loss: 0.0102 - root_mean_squared_error: 0.1008 - val_loss: 0.0026 - val_root_mean_squared_error: 0.0512\n",
            "Epoch 44/50\n",
            "30/30 [==============================] - 1s 40ms/step - loss: 0.0104 - root_mean_squared_error: 0.1019 - val_loss: 0.0015 - val_root_mean_squared_error: 0.0393\n",
            "Epoch 45/50\n",
            "30/30 [==============================] - 1s 42ms/step - loss: 0.0108 - root_mean_squared_error: 0.1038 - val_loss: 0.0012 - val_root_mean_squared_error: 0.0351\n",
            "Epoch 46/50\n",
            "30/30 [==============================] - 1s 42ms/step - loss: 0.0107 - root_mean_squared_error: 0.1035 - val_loss: 0.0011 - val_root_mean_squared_error: 0.0336\n",
            "Epoch 47/50\n",
            "30/30 [==============================] - 1s 40ms/step - loss: 0.0096 - root_mean_squared_error: 0.0982 - val_loss: 0.0034 - val_root_mean_squared_error: 0.0582\n",
            "Epoch 48/50\n",
            "30/30 [==============================] - 1s 40ms/step - loss: 0.0098 - root_mean_squared_error: 0.0990 - val_loss: 0.0016 - val_root_mean_squared_error: 0.0402\n",
            "Epoch 49/50\n",
            "30/30 [==============================] - 1s 40ms/step - loss: 0.0082 - root_mean_squared_error: 0.0906 - val_loss: 0.0018 - val_root_mean_squared_error: 0.0420\n",
            "Epoch 50/50\n",
            "30/30 [==============================] - 1s 40ms/step - loss: 0.0086 - root_mean_squared_error: 0.0927 - val_loss: 0.0033 - val_root_mean_squared_error: 0.0571\n"
          ]
        },
        {
          "output_type": "execute_result",
          "data": {
            "text/plain": [
              "<keras.callbacks.History at 0x7f4238a1b990>"
            ]
          },
          "metadata": {},
          "execution_count": 15
        }
      ]
    },
    {
      "cell_type": "markdown",
      "source": [
        "Now we build a Long Short Term Memory model. We use the Sequential API from the Tensorflow library to add four LSTM layers. At the end, we add a Dense layer with 1 unit and linear activation for regression."
      ],
      "metadata": {
        "id": "WyBb0xBGGpmp"
      }
    },
    {
      "cell_type": "code",
      "source": [
        "# building the lstm\n",
        "lstm = tf.keras.models.Sequential()\n",
        "\n",
        "# input and first layer\n",
        "lstm.add(tf.keras.layers.LSTM(units=50, return_sequences=True, input_shape=(x_train.shape[1], 1)))\n",
        "\n",
        "# second layer\n",
        "lstm.add(tf.keras.layers.LSTM(units=40, return_sequences=True))\n",
        "\n",
        "# third layer\n",
        "lstm.add(tf.keras.layers.LSTM(units=30, return_sequences=True))\n",
        "\n",
        "# fourth layer\n",
        "lstm.add(tf.keras.layers.LSTM(units=20))\n",
        "\n",
        "# output layer\n",
        "lstm.add(tf.keras.layers.Dense(units=1, activation='linear'))"
      ],
      "metadata": {
        "id": "EMpdmvzKz1vT"
      },
      "execution_count": 16,
      "outputs": []
    },
    {
      "cell_type": "markdown",
      "source": [
        "Next compile the model and set the optimizer to be 'adam', loss to be MeanSquaredError and metric to be RootMeanSquaredError. After that, we train the model on the training data with number of epochs set to 50 and validation split to be 15%. "
      ],
      "metadata": {
        "id": "duv8CqgBG_Px"
      }
    },
    {
      "cell_type": "code",
      "source": [
        "# compiling the model\n",
        "lstm.compile(optimizer=tf.keras.optimizers.Adam(), loss=tf.keras.losses.MeanSquaredError(), metrics=tf.keras.metrics.RootMeanSquaredError())\n",
        "\n",
        "# training the model\n",
        "lstm.fit(x_train, y_train, epochs=50, validation_split=0.15)"
      ],
      "metadata": {
        "colab": {
          "base_uri": "https://localhost:8080/"
        },
        "id": "nnZ3RKXE1Avp",
        "outputId": "4a6c7306-8fca-4bf7-e2a8-7d5e658b93d0"
      },
      "execution_count": 17,
      "outputs": [
        {
          "output_type": "stream",
          "name": "stdout",
          "text": [
            "Epoch 1/50\n",
            "30/30 [==============================] - 11s 140ms/step - loss: 0.0272 - root_mean_squared_error: 0.1648 - val_loss: 0.0183 - val_root_mean_squared_error: 0.1352\n",
            "Epoch 2/50\n",
            "30/30 [==============================] - 3s 85ms/step - loss: 0.0030 - root_mean_squared_error: 0.0548 - val_loss: 0.0031 - val_root_mean_squared_error: 0.0559\n",
            "Epoch 3/50\n",
            "30/30 [==============================] - 3s 86ms/step - loss: 0.0023 - root_mean_squared_error: 0.0480 - val_loss: 0.0030 - val_root_mean_squared_error: 0.0552\n",
            "Epoch 4/50\n",
            "30/30 [==============================] - 3s 86ms/step - loss: 0.0022 - root_mean_squared_error: 0.0474 - val_loss: 0.0030 - val_root_mean_squared_error: 0.0543\n",
            "Epoch 5/50\n",
            "30/30 [==============================] - 3s 85ms/step - loss: 0.0020 - root_mean_squared_error: 0.0452 - val_loss: 0.0029 - val_root_mean_squared_error: 0.0539\n",
            "Epoch 6/50\n",
            "30/30 [==============================] - 3s 87ms/step - loss: 0.0020 - root_mean_squared_error: 0.0443 - val_loss: 0.0044 - val_root_mean_squared_error: 0.0662\n",
            "Epoch 7/50\n",
            "30/30 [==============================] - 3s 87ms/step - loss: 0.0019 - root_mean_squared_error: 0.0435 - val_loss: 0.0026 - val_root_mean_squared_error: 0.0510\n",
            "Epoch 8/50\n",
            "30/30 [==============================] - 3s 86ms/step - loss: 0.0018 - root_mean_squared_error: 0.0427 - val_loss: 0.0027 - val_root_mean_squared_error: 0.0519\n",
            "Epoch 9/50\n",
            "30/30 [==============================] - 3s 86ms/step - loss: 0.0017 - root_mean_squared_error: 0.0407 - val_loss: 0.0025 - val_root_mean_squared_error: 0.0504\n",
            "Epoch 10/50\n",
            "30/30 [==============================] - 3s 86ms/step - loss: 0.0017 - root_mean_squared_error: 0.0417 - val_loss: 0.0026 - val_root_mean_squared_error: 0.0512\n",
            "Epoch 11/50\n",
            "30/30 [==============================] - 3s 84ms/step - loss: 0.0015 - root_mean_squared_error: 0.0390 - val_loss: 0.0024 - val_root_mean_squared_error: 0.0491\n",
            "Epoch 12/50\n",
            "30/30 [==============================] - 3s 86ms/step - loss: 0.0017 - root_mean_squared_error: 0.0406 - val_loss: 0.0032 - val_root_mean_squared_error: 0.0566\n",
            "Epoch 13/50\n",
            "30/30 [==============================] - 3s 87ms/step - loss: 0.0015 - root_mean_squared_error: 0.0390 - val_loss: 0.0050 - val_root_mean_squared_error: 0.0706\n",
            "Epoch 14/50\n",
            "30/30 [==============================] - 3s 103ms/step - loss: 0.0017 - root_mean_squared_error: 0.0413 - val_loss: 0.0033 - val_root_mean_squared_error: 0.0579\n",
            "Epoch 15/50\n",
            "30/30 [==============================] - 3s 102ms/step - loss: 0.0016 - root_mean_squared_error: 0.0406 - val_loss: 0.0024 - val_root_mean_squared_error: 0.0485\n",
            "Epoch 16/50\n",
            "30/30 [==============================] - 3s 88ms/step - loss: 0.0014 - root_mean_squared_error: 0.0371 - val_loss: 0.0028 - val_root_mean_squared_error: 0.0528\n",
            "Epoch 17/50\n",
            "30/30 [==============================] - 3s 87ms/step - loss: 0.0014 - root_mean_squared_error: 0.0375 - val_loss: 0.0029 - val_root_mean_squared_error: 0.0537\n",
            "Epoch 18/50\n",
            "30/30 [==============================] - 3s 89ms/step - loss: 0.0015 - root_mean_squared_error: 0.0383 - val_loss: 0.0023 - val_root_mean_squared_error: 0.0481\n",
            "Epoch 19/50\n",
            "30/30 [==============================] - 3s 87ms/step - loss: 0.0014 - root_mean_squared_error: 0.0371 - val_loss: 0.0025 - val_root_mean_squared_error: 0.0499\n",
            "Epoch 20/50\n",
            "30/30 [==============================] - 3s 87ms/step - loss: 0.0013 - root_mean_squared_error: 0.0366 - val_loss: 0.0026 - val_root_mean_squared_error: 0.0514\n",
            "Epoch 21/50\n",
            "30/30 [==============================] - 3s 85ms/step - loss: 0.0015 - root_mean_squared_error: 0.0390 - val_loss: 0.0021 - val_root_mean_squared_error: 0.0460\n",
            "Epoch 22/50\n",
            "30/30 [==============================] - 3s 86ms/step - loss: 0.0013 - root_mean_squared_error: 0.0358 - val_loss: 0.0034 - val_root_mean_squared_error: 0.0584\n",
            "Epoch 23/50\n",
            "30/30 [==============================] - 3s 88ms/step - loss: 0.0013 - root_mean_squared_error: 0.0355 - val_loss: 0.0023 - val_root_mean_squared_error: 0.0484\n",
            "Epoch 24/50\n",
            "30/30 [==============================] - 3s 87ms/step - loss: 0.0014 - root_mean_squared_error: 0.0374 - val_loss: 0.0020 - val_root_mean_squared_error: 0.0450\n",
            "Epoch 25/50\n",
            "30/30 [==============================] - 3s 87ms/step - loss: 0.0015 - root_mean_squared_error: 0.0386 - val_loss: 0.0033 - val_root_mean_squared_error: 0.0574\n",
            "Epoch 26/50\n",
            "30/30 [==============================] - 3s 87ms/step - loss: 0.0014 - root_mean_squared_error: 0.0368 - val_loss: 0.0024 - val_root_mean_squared_error: 0.0492\n",
            "Epoch 27/50\n",
            "30/30 [==============================] - 3s 88ms/step - loss: 0.0012 - root_mean_squared_error: 0.0346 - val_loss: 0.0030 - val_root_mean_squared_error: 0.0545\n",
            "Epoch 28/50\n",
            "30/30 [==============================] - 3s 87ms/step - loss: 0.0013 - root_mean_squared_error: 0.0361 - val_loss: 0.0021 - val_root_mean_squared_error: 0.0457\n",
            "Epoch 29/50\n",
            "30/30 [==============================] - 3s 87ms/step - loss: 0.0012 - root_mean_squared_error: 0.0351 - val_loss: 0.0019 - val_root_mean_squared_error: 0.0436\n",
            "Epoch 30/50\n",
            "30/30 [==============================] - 3s 86ms/step - loss: 0.0012 - root_mean_squared_error: 0.0346 - val_loss: 0.0032 - val_root_mean_squared_error: 0.0569\n",
            "Epoch 31/50\n",
            "30/30 [==============================] - 3s 89ms/step - loss: 0.0012 - root_mean_squared_error: 0.0341 - val_loss: 0.0018 - val_root_mean_squared_error: 0.0427\n",
            "Epoch 32/50\n",
            "30/30 [==============================] - 3s 89ms/step - loss: 0.0011 - root_mean_squared_error: 0.0338 - val_loss: 0.0029 - val_root_mean_squared_error: 0.0538\n",
            "Epoch 33/50\n",
            "30/30 [==============================] - 3s 86ms/step - loss: 0.0011 - root_mean_squared_error: 0.0336 - val_loss: 0.0023 - val_root_mean_squared_error: 0.0478\n",
            "Epoch 34/50\n",
            "30/30 [==============================] - 3s 85ms/step - loss: 0.0011 - root_mean_squared_error: 0.0325 - val_loss: 0.0018 - val_root_mean_squared_error: 0.0425\n",
            "Epoch 35/50\n",
            "30/30 [==============================] - 3s 86ms/step - loss: 0.0011 - root_mean_squared_error: 0.0339 - val_loss: 0.0028 - val_root_mean_squared_error: 0.0530\n",
            "Epoch 36/50\n",
            "30/30 [==============================] - 3s 88ms/step - loss: 9.9699e-04 - root_mean_squared_error: 0.0316 - val_loss: 0.0026 - val_root_mean_squared_error: 0.0507\n",
            "Epoch 37/50\n",
            "30/30 [==============================] - 3s 84ms/step - loss: 9.8539e-04 - root_mean_squared_error: 0.0314 - val_loss: 0.0016 - val_root_mean_squared_error: 0.0398\n",
            "Epoch 38/50\n",
            "30/30 [==============================] - 3s 87ms/step - loss: 0.0011 - root_mean_squared_error: 0.0325 - val_loss: 0.0018 - val_root_mean_squared_error: 0.0420\n",
            "Epoch 39/50\n",
            "30/30 [==============================] - 3s 86ms/step - loss: 9.0753e-04 - root_mean_squared_error: 0.0301 - val_loss: 0.0032 - val_root_mean_squared_error: 0.0564\n",
            "Epoch 40/50\n",
            "30/30 [==============================] - 3s 85ms/step - loss: 9.9946e-04 - root_mean_squared_error: 0.0316 - val_loss: 0.0020 - val_root_mean_squared_error: 0.0448\n",
            "Epoch 41/50\n",
            "30/30 [==============================] - 3s 86ms/step - loss: 9.1643e-04 - root_mean_squared_error: 0.0303 - val_loss: 0.0013 - val_root_mean_squared_error: 0.0364\n",
            "Epoch 42/50\n",
            "30/30 [==============================] - 3s 85ms/step - loss: 8.2509e-04 - root_mean_squared_error: 0.0287 - val_loss: 0.0013 - val_root_mean_squared_error: 0.0365\n",
            "Epoch 43/50\n",
            "30/30 [==============================] - 3s 86ms/step - loss: 8.2385e-04 - root_mean_squared_error: 0.0287 - val_loss: 0.0012 - val_root_mean_squared_error: 0.0351\n",
            "Epoch 44/50\n",
            "30/30 [==============================] - 3s 85ms/step - loss: 8.3275e-04 - root_mean_squared_error: 0.0289 - val_loss: 0.0018 - val_root_mean_squared_error: 0.0419\n",
            "Epoch 45/50\n",
            "30/30 [==============================] - 3s 87ms/step - loss: 7.5122e-04 - root_mean_squared_error: 0.0274 - val_loss: 0.0024 - val_root_mean_squared_error: 0.0493\n",
            "Epoch 46/50\n",
            "30/30 [==============================] - 3s 85ms/step - loss: 7.8279e-04 - root_mean_squared_error: 0.0280 - val_loss: 0.0014 - val_root_mean_squared_error: 0.0373\n",
            "Epoch 47/50\n",
            "30/30 [==============================] - 3s 86ms/step - loss: 8.1210e-04 - root_mean_squared_error: 0.0285 - val_loss: 0.0012 - val_root_mean_squared_error: 0.0351\n",
            "Epoch 48/50\n",
            "30/30 [==============================] - 3s 87ms/step - loss: 7.9596e-04 - root_mean_squared_error: 0.0282 - val_loss: 0.0011 - val_root_mean_squared_error: 0.0324\n",
            "Epoch 49/50\n",
            "30/30 [==============================] - 3s 85ms/step - loss: 7.3853e-04 - root_mean_squared_error: 0.0272 - val_loss: 0.0020 - val_root_mean_squared_error: 0.0452\n",
            "Epoch 50/50\n",
            "30/30 [==============================] - 3s 87ms/step - loss: 7.7900e-04 - root_mean_squared_error: 0.0279 - val_loss: 0.0012 - val_root_mean_squared_error: 0.0353\n"
          ]
        },
        {
          "output_type": "execute_result",
          "data": {
            "text/plain": [
              "<keras.callbacks.History at 0x7f423867a4d0>"
            ]
          },
          "metadata": {},
          "execution_count": 17
        }
      ]
    },
    {
      "cell_type": "markdown",
      "source": [
        "Next, we scale the testing data by using the previously instantiated scaler."
      ],
      "metadata": {
        "id": "4qqtXqWGHDwO"
      }
    },
    {
      "cell_type": "code",
      "source": [
        "# scaling the test data\n",
        "inputs = scaler.transform(test)"
      ],
      "metadata": {
        "id": "W0cAuhrS6yKz"
      },
      "execution_count": 18,
      "outputs": []
    },
    {
      "cell_type": "markdown",
      "source": [
        "Next, we divide the testing data into x and y - independent and dependent values, however, we do that slightly differently. Here, since the timesteps mentioned are 50, we use the past 50 day's data to predict the values on the 51st day. Similarly, we use the data of days 2 to 51 to predict the values on day 52. We iterate over the training set and change the format of the data by generating sequences. Then we use the array() function from the NumPy library to ensure that the data is in the form of a numpy array."
      ],
      "metadata": {
        "id": "P2BNLyUOIEZQ"
      }
    },
    {
      "cell_type": "code",
      "source": [
        "# changing the format of the data by generating sequences\n",
        "x_test = []\n",
        "y_test = []\n",
        "\n",
        "for i in range(timesteps, inputs.shape[0]):\n",
        "    x_test.append(inputs[i-timesteps:i])\n",
        "    y_test.append(inputs[i, 0])\n",
        "\n",
        "# ensuring that the data is in the form of a numpy array\n",
        "x_test, y_test = np.array(x_test), np.array(y_test)"
      ],
      "metadata": {
        "id": "vPzHVLj063JN"
      },
      "execution_count": 19,
      "outputs": []
    },
    {
      "cell_type": "markdown",
      "source": [
        "To evaluate the performance of the models, we use the evaluate() function on the testing set."
      ],
      "metadata": {
        "id": "HauAGg3GIQzh"
      }
    },
    {
      "cell_type": "code",
      "source": [
        "# evaluating the rnn\n",
        "print(str.format('MSE: {:.5f}', rnn.evaluate(x_test, y_test)[0]))"
      ],
      "metadata": {
        "colab": {
          "base_uri": "https://localhost:8080/"
        },
        "id": "MDC4m3zrKtAa",
        "outputId": "f6189d97-4240-4f06-cd7d-ee770e87367d"
      },
      "execution_count": 20,
      "outputs": [
        {
          "output_type": "stream",
          "name": "stdout",
          "text": [
            "2/2 [==============================] - 0s 13ms/step - loss: 0.0100 - root_mean_squared_error: 0.0999\n",
            "MSE: 0.00997\n"
          ]
        }
      ]
    },
    {
      "cell_type": "code",
      "source": [
        "# evaluating the lstm\n",
        "print(str.format('MSE: {:.5f}', lstm.evaluate(x_test, y_test)[0]))"
      ],
      "metadata": {
        "colab": {
          "base_uri": "https://localhost:8080/"
        },
        "id": "y3K1oL9DL_dn",
        "outputId": "20063806-cbc9-4ff1-df11-dc052ae925f5"
      },
      "execution_count": 21,
      "outputs": [
        {
          "output_type": "stream",
          "name": "stdout",
          "text": [
            "2/2 [==============================] - 0s 19ms/step - loss: 5.9951e-04 - root_mean_squared_error: 0.0245\n",
            "MSE: 0.00060\n"
          ]
        }
      ]
    },
    {
      "cell_type": "markdown",
      "source": [
        "As we can see, lstm performs better than the recurrent neural network since the mse is lower."
      ],
      "metadata": {
        "id": "BmHgPV0pIv6v"
      }
    },
    {
      "cell_type": "markdown",
      "source": [
        "Next, we obtain the predictions on the test set using the predict() function."
      ],
      "metadata": {
        "id": "Q5YPcK-tIwEF"
      }
    },
    {
      "cell_type": "code",
      "source": [
        "# obtaining the predictions on the test set\n",
        "rnn_pred = rnn.predict(x_test)\n",
        "lstm_pred = lstm.predict(x_test)"
      ],
      "metadata": {
        "id": "RJqd5y8q-poa"
      },
      "execution_count": 22,
      "outputs": []
    },
    {
      "cell_type": "markdown",
      "source": [
        "Before we begin plotting, we inverse scale the data. To do that, we first obtain the scale of the data using the scale_ attribute of the scaler."
      ],
      "metadata": {
        "id": "MwmgZzobI7nT"
      }
    },
    {
      "cell_type": "code",
      "source": [
        "# obtaining the scale\n",
        "scaler.scale_"
      ],
      "metadata": {
        "colab": {
          "base_uri": "https://localhost:8080/"
        },
        "id": "__-BLc2pJBfV",
        "outputId": "bda651bc-ee1c-464c-a1c7-2e492a88bf7c"
      },
      "execution_count": 23,
      "outputs": [
        {
          "output_type": "execute_result",
          "data": {
            "text/plain": [
              "array([0.00197675])"
            ]
          },
          "metadata": {},
          "execution_count": 23
        }
      ]
    },
    {
      "cell_type": "markdown",
      "source": [
        "Next, we invert the scale and multiply it with the predictions and the test set."
      ],
      "metadata": {
        "id": "KGDfxz6_JQGv"
      }
    },
    {
      "cell_type": "code",
      "source": [
        "# inverting the scale\n",
        "scale = 1/0.00197675\n",
        "\n",
        "# inverse scaling the predictions and test set\n",
        "rnn_pred = rnn_pred*scale\n",
        "lstm_pred = lstm_pred*scale\n",
        "y_test = y_test*scale"
      ],
      "metadata": {
        "id": "tDpe_wXWAa7Y"
      },
      "execution_count": 24,
      "outputs": []
    },
    {
      "cell_type": "markdown",
      "source": [
        "To plot the predictions and actual data, we use functions from the matplotlib library and assign appropriate labels and colors to the predictions and actual values. We also ensure that a legend is displayed for clarity."
      ],
      "metadata": {
        "id": "sgi13OMlJaVa"
      }
    },
    {
      "cell_type": "code",
      "source": [
        "# plotting the predictions and actual data\n",
        "plt.figure(figsize=(10,8))\n",
        "plt.plot(rnn_pred, 'b', label='RNN')\n",
        "plt.plot(lstm_pred, 'r', label='LSTM')\n",
        "plt.plot(y_test, label='Actual')\n",
        "plt.title('Plotting Predictions vs Actual')\n",
        "plt.legend()"
      ],
      "metadata": {
        "id": "H8AixIplrXCN",
        "colab": {
          "base_uri": "https://localhost:8080/",
          "height": 516
        },
        "outputId": "e36606c3-f60d-40d5-bd96-e642aee4f7fb"
      },
      "execution_count": 25,
      "outputs": [
        {
          "output_type": "execute_result",
          "data": {
            "text/plain": [
              "<matplotlib.legend.Legend at 0x7f423557c350>"
            ]
          },
          "metadata": {},
          "execution_count": 25
        },
        {
          "output_type": "display_data",
          "data": {
            "text/plain": [
              "<Figure size 720x576 with 1 Axes>"
            ],
            "image/png": "[encoded data removed]"
          },
          "metadata": {
            "needs_background": "light"
          }
        }
      ]
    },
    {
      "cell_type": "markdown",
      "source": [
        "As we can see, the lstm prediction is closer to the actual values, albeit a little smoother, whereas the rnn prediction is significantly different."
      ],
      "metadata": {
        "id": "-eOTM3RbJ8N8"
      }
    }
  ]
}