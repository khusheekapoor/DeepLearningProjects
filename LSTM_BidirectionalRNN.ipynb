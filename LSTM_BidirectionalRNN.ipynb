{
  "cells": [
    {
      "cell_type": "markdown",
      "id": "01166e30",
      "metadata": {
        "id": "01166e30",
        "papermill": {
          "duration": 0.016595,
          "end_time": "2022-09-24T14:20:26.949680",
          "exception": false,
          "start_time": "2022-09-24T14:20:26.933085",
          "status": "completed"
        },
        "tags": []
      },
      "source": [
        "# Week 7\n",
        "\n",
        "Author: Khushee Kapoor\n",
        "\n",
        "Registration Number: 200968052\n",
        "\n",
        "Last Updated: 26/09/22"
      ]
    },
    {
      "cell_type": "markdown",
      "id": "2c112689",
      "metadata": {
        "id": "2c112689",
        "papermill": {
          "duration": 0.015899,
          "end_time": "2022-09-24T14:20:26.980080",
          "exception": false,
          "start_time": "2022-09-24T14:20:26.964181",
          "status": "completed"
        },
        "tags": []
      },
      "source": [
        "## Setting Up"
      ]
    },
    {
      "cell_type": "markdown",
      "id": "9f8021aa",
      "metadata": {
        "id": "9f8021aa",
        "papermill": {
          "duration": 0.014267,
          "end_time": "2022-09-24T14:20:27.008814",
          "exception": false,
          "start_time": "2022-09-24T14:20:26.994547",
          "status": "completed"
        },
        "tags": []
      },
      "source": [
        "To set up, we import the following libraries:\n",
        "\n",
        "- numpy: for data manipulation\n",
        "- pandas: for data manipulation\n",
        "- matplotlib: for data visualization\n",
        "- seaborn: for data visualization\n",
        "- tensorflow: for building neural networks\n",
        "- string: for text preprocessing\n",
        "- nltk: for text preprocessing"
      ]
    },
    {
      "cell_type": "code",
      "execution_count": null,
      "id": "64315777",
      "metadata": {
        "execution": {
          "iopub.execute_input": "2022-09-24T14:20:27.040474Z",
          "iopub.status.busy": "2022-09-24T14:20:27.039861Z",
          "iopub.status.idle": "2022-09-24T14:20:34.210081Z",
          "shell.execute_reply": "2022-09-24T14:20:34.208808Z"
        },
        "id": "64315777",
        "papermill": {
          "duration": 7.189704,
          "end_time": "2022-09-24T14:20:34.213256",
          "exception": false,
          "start_time": "2022-09-24T14:20:27.023552",
          "status": "completed"
        },
        "tags": []
      },
      "outputs": [],
      "source": [
        "# importing libraries\n",
        "import numpy as np\n",
        "import pandas as pd\n",
        "from matplotlib import pyplot as plt\n",
        "import seaborn as sns\n",
        "import tensorflow as tf\n",
        "import string\n",
        "import nltk"
      ]
    },
    {
      "cell_type": "markdown",
      "id": "cf75682b",
      "metadata": {
        "id": "cf75682b",
        "papermill": {
          "duration": 0.013496,
          "end_time": "2022-09-24T14:20:34.240520",
          "exception": false,
          "start_time": "2022-09-24T14:20:34.227024",
          "status": "completed"
        },
        "tags": []
      },
      "source": [
        "Next, we import the IMDB Movie Review Sentiment Analysis dataset using the read_csv() function from the Pandas library."
      ]
    },
    {
      "cell_type": "code",
      "execution_count": null,
      "id": "9a76f5c3",
      "metadata": {
        "execution": {
          "iopub.execute_input": "2022-09-24T14:20:34.270062Z",
          "iopub.status.busy": "2022-09-24T14:20:34.268706Z",
          "iopub.status.idle": "2022-09-24T14:20:35.786890Z",
          "shell.execute_reply": "2022-09-24T14:20:35.785594Z"
        },
        "id": "9a76f5c3",
        "papermill": {
          "duration": 1.535384,
          "end_time": "2022-09-24T14:20:35.789832",
          "exception": false,
          "start_time": "2022-09-24T14:20:34.254448",
          "status": "completed"
        },
        "tags": []
      },
      "outputs": [],
      "source": [
        "# reading the dataset\n",
        "train = pd.read_csv('../input/imdb-dataset-sentiment-analysis-in-csv-format/Train.csv')\n",
        "valid = pd.read_csv('../input/imdb-dataset-sentiment-analysis-in-csv-format/Valid.csv')\n",
        "test = pd.read_csv('../input/imdb-dataset-sentiment-analysis-in-csv-format/Test.csv')"
      ]
    },
    {
      "cell_type": "markdown",
      "id": "2884def8",
      "metadata": {
        "id": "2884def8",
        "papermill": {
          "duration": 0.013918,
          "end_time": "2022-09-24T14:20:35.818160",
          "exception": false,
          "start_time": "2022-09-24T14:20:35.804242",
          "status": "completed"
        },
        "tags": []
      },
      "source": [
        "Now, we peform some text preprocessing before we build our neural network. To begin, we first create a dictionary with all the contractions with their expansions. We also add a replacement for html tags that may be present in the text."
      ]
    },
    {
      "cell_type": "code",
      "execution_count": null,
      "id": "4194c344",
      "metadata": {
        "execution": {
          "iopub.execute_input": "2022-09-24T14:20:35.848723Z",
          "iopub.status.busy": "2022-09-24T14:20:35.848322Z",
          "iopub.status.idle": "2022-09-24T14:20:35.866441Z",
          "shell.execute_reply": "2022-09-24T14:20:35.865234Z"
        },
        "id": "4194c344",
        "papermill": {
          "duration": 0.037226,
          "end_time": "2022-09-24T14:20:35.869225",
          "exception": false,
          "start_time": "2022-09-24T14:20:35.831999",
          "status": "completed"
        },
        "tags": []
      },
      "outputs": [],
      "source": [
        "# creating a dictionary with contrations and their expansions\n",
        "contractions = {\n",
        "\"a'ight\":\"alright\",\n",
        "\"ain't\":\"are not\",\n",
        "\"amn't\":\"am not\",\n",
        "\"aren't\":\"are not\",\n",
        "\"can't\":\"cannot\",\n",
        "\"'cause\": \"because\",\n",
        "\"could've\":\"could have\",\n",
        "\"couldn't\":\"could not\",\n",
        "\"couldn't've\":\"could not have\",\n",
        "\"daren't\":\"dare not\",\n",
        "\"daresn't\":\"dare not\",\n",
        "\"dasn't\":\"dare not\",\n",
        "\"didn't\":\"did not\",\n",
        "\"doesn't\":\"does not\",\n",
        "\"don't\":\"do not\",\n",
        "\"everybody's\":\"everybody is\",\n",
        "\"everyone's\":\"everyone is\",\n",
        "\"giv'n\":\"given\",\n",
        "\"gonna\":\"going to\",\n",
        "\"gon't\":\"go not\", \n",
        "\"gotta\":\"got to\",\n",
        "\"hadn't\":\"had not\",\n",
        "\"had've\":\"had have\",\n",
        "\"hasn't\":\"has not\",\n",
        "\"haven't\":\"have not\",\n",
        "\"he'd\":\"he had\", \n",
        "\"he'll\":\"he will\",\n",
        "\"he's\":\"he is\",\n",
        "\"here's\":\"here is\",\n",
        "\"how'd\":\"how did\",\n",
        "\"how'll\":\"how will\",\n",
        "\"how're\":\"how are\",\n",
        "\"how's\":\"how is\",\n",
        "\"I'd\":\"I had\",\n",
        "\"I'd've\":\"I would have\",\n",
        "\"I'd'nt\":\"I would not\",\n",
        "\"I'd'nt've\":\"I would not have\",\n",
        "\"I'll\":\"I will\",\n",
        "\"I'm\":\"I am\",\n",
        "\"I've\":\"I have\",\n",
        "\"isn't\":\"is not\",\n",
        "\"it'd\":\"it would\",\n",
        "\"it'll\":\"it will\",\n",
        "\"it's\":\"it is\",\n",
        "\"let's\":\"let us\",\n",
        "\"ma'am\":\"madam\",\n",
        "\"mayn't\":\"may not\",\n",
        "\"may've\":\"may have\",\n",
        "\"mightn't\":\"might not\",\n",
        "\"might've\":\"might have\",\n",
        "\"mustn't\":\"must not\",\n",
        "\"mustn't've\":\"must not have\",\n",
        "\"must've\":\"must have\",\n",
        "\"needn't\":\"need not\",\n",
        "\"needn't've\":\"need not have\",\n",
        "\"o'clock\":\"of the clock\",\n",
        "\"oughtn't\":\"ought not\",\n",
        "\"oughtn't've\":\"ought not have\",\n",
        "\"shan't\":\"shall not\",\n",
        "\"she'd\":\"she would\",\n",
        "\"she'll\":\"she will\",\n",
        "\"she's\":\"she is\",\n",
        "\"should've\":\"should have\",\n",
        "\"shouldn't\":\"should not\",\n",
        "\"shouldn't've\":\"should not have\",\n",
        "\"somebody's\":\"somebody is\",\n",
        "\"someone's\":\"someone is\",\n",
        "\"something's\":\"something is\",\n",
        "\"so're\":\"so are\",\n",
        "\"so’s\":\"so is\",\n",
        "\"so’ve\":\"so have\",\n",
        "\"that'll\":\"that will\",\n",
        "\"that're\":\"that are\",\n",
        "\"that's\":\"that is\",\n",
        "\"that'd\":\"that would\",\n",
        "\"there'd\":\"there would\",\n",
        "\"there'll\":\"there will\",\n",
        "\"there're\":\"there are\",\n",
        "\"there's\":\"there is\",\n",
        "\"these're\":\"these are\",\n",
        "\"these've\":\"these have\",\n",
        "\"they'd\":\"they would\",\n",
        "\"they'll\":\"they will\",\n",
        "\"they're\":\"they are\",\n",
        "\"they've\":\"they have\",\n",
        "\"this's\":\"this is\",\n",
        "\"those're\":\"those are\",\n",
        "\"those've\":\"those have\",\n",
        "\"to've\":\"to have\",\n",
        "\"wasn't\":\"was not\",\n",
        "\"we'd\":\"we would\",\n",
        "\"we'd've\":\"we would have\",\n",
        "\"we'll\":\"we will\",\n",
        "\"we're\":\"we are\",\n",
        "\"we've\":\"we have\",\n",
        "\"weren't\":\"were not\",\n",
        "\"what'd\":\"what did\",\n",
        "\"what'll\":\"what will\",\n",
        "\"what're\":\"what are\",\n",
        "\"what's\":\"what is\",\n",
        "\"what've\":\"what have\",\n",
        "\"when's\":\"when is\",\n",
        "\"where'd\":\"where did\",\n",
        "\"where'll\":\"where will\",\n",
        "\"where're\":\"where are\",\n",
        "\"where's\":\"where is\",\n",
        "\"where've\":\"where have\",\n",
        "\"which'd\":\"which would\",\n",
        "\"which'll\":\"which will\",\n",
        "\"which're\":\"which are\",\n",
        "\"which's\":\"which is\",\n",
        "\"which've\":\"which have\",\n",
        "\"who'd\":\"who would\",\n",
        "\"who'd've\":\"who would have\",\n",
        "\"who'll\":\"who will\",\n",
        "\"who're\":\"who are\",\n",
        "\"who's\":\"who is\",\n",
        "\"who've\":\"who have\",\n",
        "\"why'd\":\"why did\",\n",
        "\"why're\":\"why are\",\n",
        "\"why's\":\"why is\",\n",
        "\"won't\":\"will not\",\n",
        "\"would've\":\"would have\",\n",
        "\"wouldn't\":\"would not\",\n",
        "\"wouldn't've\":\"would not have\",\n",
        "\"y'at\":\"you at\",\n",
        "\"yes’m\":\"yes madam\",\n",
        "\"you'd\":\"you would\",\n",
        "\"you'll\":\"you will\",\n",
        "\"you're\":\"you are\",\n",
        "\"you've\":\"you have\",\n",
        "\"br\" : \"\"}"
      ]
    },
    {
      "cell_type": "markdown",
      "id": "5eab0170",
      "metadata": {
        "id": "5eab0170",
        "papermill": {
          "duration": 0.013475,
          "end_time": "2022-09-24T14:20:35.896033",
          "exception": false,
          "start_time": "2022-09-24T14:20:35.882558",
          "status": "completed"
        },
        "tags": []
      },
      "source": [
        "After that, we create a custom made function to convert the contractions to expansions. This function loops over the previously created dictionary and uses the replace() function from the string library to replace the contractions with the expansions. Post that, we apply the function on every observation in the text column. To do that, we use the apply() function from the Pandas library and the lambda function."
      ]
    },
    {
      "cell_type": "code",
      "execution_count": null,
      "id": "b3cf0799",
      "metadata": {
        "execution": {
          "iopub.execute_input": "2022-09-24T14:20:35.925345Z",
          "iopub.status.busy": "2022-09-24T14:20:35.925000Z",
          "iopub.status.idle": "2022-09-24T14:20:45.191151Z",
          "shell.execute_reply": "2022-09-24T14:20:45.189882Z"
        },
        "id": "b3cf0799",
        "papermill": {
          "duration": 9.284161,
          "end_time": "2022-09-24T14:20:45.194332",
          "exception": false,
          "start_time": "2022-09-24T14:20:35.910171",
          "status": "completed"
        },
        "tags": []
      },
      "outputs": [],
      "source": [
        "# custom made function to convert contraction to expansion\n",
        "def cont_to_exp(x):\n",
        "    if type(x) is str:\n",
        "        x = x.replace('\\\\','')\n",
        "        for key in contractions:\n",
        "            value = contractions[key]\n",
        "            x = x.replace(key, value)\n",
        "        return x\n",
        "    else:\n",
        "        return x\n",
        "\n",
        "# applying the function on the text column of every dataset\n",
        "train['text'] = train['text'].apply(lambda x:cont_to_exp(x))\n",
        "valid['text'] = valid['text'].apply(lambda x:cont_to_exp(x))\n",
        "test['text'] = test['text'].apply(lambda x:cont_to_exp(x))"
      ]
    },
    {
      "cell_type": "markdown",
      "id": "ccfaf384",
      "metadata": {
        "id": "ccfaf384",
        "papermill": {
          "duration": 0.014035,
          "end_time": "2022-09-24T14:20:45.222874",
          "exception": false,
          "start_time": "2022-09-24T14:20:45.208839",
          "status": "completed"
        },
        "tags": []
      },
      "source": [
        "Next, we create a custom made function to remove the punctuations. This function loops over the prebuilt punctuations list and uses the replace() function from the string library to replace the punctuations with blanks. Post that, we apply the function on every observation in the text column. To do that, we use the apply() function from the Pandas library and the lambda function."
      ]
    },
    {
      "cell_type": "code",
      "execution_count": null,
      "id": "65c8eb77",
      "metadata": {
        "execution": {
          "iopub.execute_input": "2022-09-24T14:20:45.252621Z",
          "iopub.status.busy": "2022-09-24T14:20:45.252269Z",
          "iopub.status.idle": "2022-09-24T14:20:53.078954Z",
          "shell.execute_reply": "2022-09-24T14:20:53.077601Z"
        },
        "id": "65c8eb77",
        "papermill": {
          "duration": 7.844832,
          "end_time": "2022-09-24T14:20:53.082008",
          "exception": false,
          "start_time": "2022-09-24T14:20:45.237176",
          "status": "completed"
        },
        "tags": []
      },
      "outputs": [],
      "source": [
        "# custom function to replace punctuations with blanks\n",
        "exclude = set(string.punctuation) \n",
        "\n",
        "def remove_punctuation(x): \n",
        "    try: \n",
        "        x = ''.join(ch for ch in x if ch not in exclude) \n",
        "    except: \n",
        "        pass \n",
        "    return x \n",
        "\n",
        "# applying the function on the text column of every dataset\n",
        "train['text'] = train['text'].apply(remove_punctuation)\n",
        "valid['text'] = valid['text'].apply(remove_punctuation)\n",
        "test['text'] = test['text'].apply(remove_punctuation)"
      ]
    },
    {
      "cell_type": "markdown",
      "id": "f6beba99",
      "metadata": {
        "id": "f6beba99",
        "papermill": {
          "duration": 0.014855,
          "end_time": "2022-09-24T14:20:53.111775",
          "exception": false,
          "start_time": "2022-09-24T14:20:53.096920",
          "status": "completed"
        },
        "tags": []
      },
      "source": [
        "Next, we convert the string in the text to lower case. To do that, we use the lower() function from the string library."
      ]
    },
    {
      "cell_type": "code",
      "execution_count": null,
      "id": "f9a6195c",
      "metadata": {
        "execution": {
          "iopub.execute_input": "2022-09-24T14:20:53.144118Z",
          "iopub.status.busy": "2022-09-24T14:20:53.142980Z",
          "iopub.status.idle": "2022-09-24T14:20:53.258314Z",
          "shell.execute_reply": "2022-09-24T14:20:53.256924Z"
        },
        "id": "f9a6195c",
        "papermill": {
          "duration": 0.134537,
          "end_time": "2022-09-24T14:20:53.261680",
          "exception": false,
          "start_time": "2022-09-24T14:20:53.127143",
          "status": "completed"
        },
        "tags": []
      },
      "outputs": [],
      "source": [
        "# converting all strings to lower case \n",
        "train['text'] = train['text'].str.lower()\n",
        "valid['text'] = valid['text'].str.lower()\n",
        "test['text'] = test['text'].str.lower()"
      ]
    },
    {
      "cell_type": "markdown",
      "id": "87fb376c",
      "metadata": {
        "id": "87fb376c",
        "papermill": {
          "duration": 0.014264,
          "end_time": "2022-09-24T14:20:53.291236",
          "exception": false,
          "start_time": "2022-09-24T14:20:53.276972",
          "status": "completed"
        },
        "tags": []
      },
      "source": [
        "After that, we remove the stopwords from the text using the stopword repository from the nltk library and applying it over the text column in the dataset using the apply() function from the Pandas library."
      ]
    },
    {
      "cell_type": "code",
      "execution_count": null,
      "id": "9c6132dc",
      "metadata": {
        "execution": {
          "iopub.execute_input": "2022-09-24T14:20:53.320934Z",
          "iopub.status.busy": "2022-09-24T14:20:53.320620Z",
          "iopub.status.idle": "2022-09-24T14:21:16.470678Z",
          "shell.execute_reply": "2022-09-24T14:21:16.469198Z"
        },
        "id": "9c6132dc",
        "outputId": "b9eef4a2-db11-4d64-e08c-b6e27741bc3f",
        "papermill": {
          "duration": 23.168002,
          "end_time": "2022-09-24T14:21:16.473553",
          "exception": false,
          "start_time": "2022-09-24T14:20:53.305551",
          "status": "completed"
        },
        "tags": []
      },
      "outputs": [
        {
          "name": "stderr",
          "output_type": "stream",
          "text": [
            "[nltk_data] Downloading package stopwords to /usr/share/nltk_data...\n",
            "[nltk_data]   Package stopwords is already up-to-date!\n"
          ]
        }
      ],
      "source": [
        "# removing the stopwords from the text\n",
        "from nltk.corpus import stopwords\n",
        "nltk.download('stopwords')\n",
        "stop = stopwords.words('english')\n",
        "train['text'] = train['text'].apply(lambda x: ' '.join([word for word in x.split() if word not in (stop)]))\n",
        "valid['text'] = valid['text'].apply(lambda x: ' '.join([word for word in x.split() if word not in (stop)]))\n",
        "test['text'] = test['text'].apply(lambda x: ' '.join([word for word in x.split() if word not in (stop)]))"
      ]
    },
    {
      "cell_type": "markdown",
      "id": "f6e02b3a",
      "metadata": {
        "id": "f6e02b3a",
        "papermill": {
          "duration": 0.014073,
          "end_time": "2022-09-24T14:21:16.502227",
          "exception": false,
          "start_time": "2022-09-24T14:21:16.488154",
          "status": "completed"
        },
        "tags": []
      },
      "source": [
        "Next, we tokenize the text using the word_tokenize() function from the nltk library and apply it over the column using the apply() function from the pandas library."
      ]
    },
    {
      "cell_type": "code",
      "execution_count": null,
      "id": "81ebdee1",
      "metadata": {
        "execution": {
          "iopub.execute_input": "2022-09-24T14:21:16.531390Z",
          "iopub.status.busy": "2022-09-24T14:21:16.531007Z",
          "iopub.status.idle": "2022-09-24T14:21:43.908766Z",
          "shell.execute_reply": "2022-09-24T14:21:43.907445Z"
        },
        "id": "81ebdee1",
        "outputId": "178cab7e-ec6b-4f18-9059-f8497331576a",
        "papermill": {
          "duration": 27.395465,
          "end_time": "2022-09-24T14:21:43.911634",
          "exception": false,
          "start_time": "2022-09-24T14:21:16.516169",
          "status": "completed"
        },
        "tags": []
      },
      "outputs": [
        {
          "name": "stderr",
          "output_type": "stream",
          "text": [
            "[nltk_data] Downloading package punkt to /usr/share/nltk_data...\n",
            "[nltk_data]   Package punkt is already up-to-date!\n"
          ]
        }
      ],
      "source": [
        "# tokenizing the text\n",
        "from nltk import word_tokenize\n",
        "nltk.download('punkt')\n",
        "train['tokens'] = train['text'].apply(lambda x : word_tokenize(x))\n",
        "valid['tokens'] = valid['text'].apply(lambda x : word_tokenize(x))\n",
        "test['tokens'] = test['text'].apply(lambda x : word_tokenize(x))"
      ]
    },
    {
      "cell_type": "markdown",
      "id": "48f8b352",
      "metadata": {
        "id": "48f8b352",
        "papermill": {
          "duration": 0.013689,
          "end_time": "2022-09-24T14:21:43.940239",
          "exception": false,
          "start_time": "2022-09-24T14:21:43.926550",
          "status": "completed"
        },
        "tags": []
      },
      "source": [
        "After that, we lemmetize the tokens using the WordNetLemmetizer() function from the nltk library and apply it over the column using the apply() function from the pandas library."
      ]
    },
    {
      "cell_type": "code",
      "execution_count": null,
      "id": "d2cbb499",
      "metadata": {
        "execution": {
          "iopub.execute_input": "2022-09-24T14:21:43.969190Z",
          "iopub.status.busy": "2022-09-24T14:21:43.968075Z",
          "iopub.status.idle": "2022-09-24T14:22:17.906698Z",
          "shell.execute_reply": "2022-09-24T14:22:17.905131Z"
        },
        "id": "d2cbb499",
        "outputId": "ac4c24bf-7727-4528-8c01-e794e7612ee0",
        "papermill": {
          "duration": 33.956941,
          "end_time": "2022-09-24T14:22:17.910522",
          "exception": false,
          "start_time": "2022-09-24T14:21:43.953581",
          "status": "completed"
        },
        "tags": []
      },
      "outputs": [
        {
          "name": "stderr",
          "output_type": "stream",
          "text": [
            "[nltk_data] Downloading package omw-1.4 to /usr/share/nltk_data...\n",
            "[nltk_data] Downloading package wordnet to /usr/share/nltk_data...\n",
            "[nltk_data]   Package wordnet is already up-to-date!\n"
          ]
        }
      ],
      "source": [
        "# lemmetizing the tokens\n",
        "from nltk.stem import WordNetLemmatizer \n",
        "nltk.download('omw-1.4')\n",
        "nltk.download('wordnet')\n",
        "lemmatizer = WordNetLemmatizer()\n",
        "train['lemma'] = train['tokens'].apply(lambda tokens: [lemmatizer.lemmatize(w) for w in tokens])\n",
        "test['lemma'] = test['tokens'].apply(lambda tokens: [lemmatizer.lemmatize(w) for w in tokens])\n",
        "valid['lemma'] = valid['tokens'].apply(lambda tokens: [lemmatizer.lemmatize(w) for w in tokens])"
      ]
    },
    {
      "cell_type": "markdown",
      "id": "392bc2a7",
      "metadata": {
        "id": "392bc2a7",
        "papermill": {
          "duration": 0.024369,
          "end_time": "2022-09-24T14:22:17.961861",
          "exception": false,
          "start_time": "2022-09-24T14:22:17.937492",
          "status": "completed"
        },
        "tags": []
      },
      "source": [
        "For visualization, we map the binary labels to categorical labels using the map() function from the library."
      ]
    },
    {
      "cell_type": "code",
      "execution_count": null,
      "id": "30c3c08d",
      "metadata": {
        "execution": {
          "iopub.execute_input": "2022-09-24T14:22:18.014201Z",
          "iopub.status.busy": "2022-09-24T14:22:18.013612Z",
          "iopub.status.idle": "2022-09-24T14:22:18.037283Z",
          "shell.execute_reply": "2022-09-24T14:22:18.035878Z"
        },
        "id": "30c3c08d",
        "papermill": {
          "duration": 0.054262,
          "end_time": "2022-09-24T14:22:18.040896",
          "exception": false,
          "start_time": "2022-09-24T14:22:17.986634",
          "status": "completed"
        },
        "tags": []
      },
      "outputs": [],
      "source": [
        "# mapping the binary labels to categorical labels\n",
        "train['label'] = train['label'].map({0:'negative', 1:'positive'})\n",
        "valid['label'] = valid['label'].map({0:'negative', 1:'positive'})\n",
        "test['label'] = test['label'].map({0:'negative', 1:'positive'})"
      ]
    },
    {
      "cell_type": "markdown",
      "id": "f1672908",
      "metadata": {
        "id": "f1672908",
        "papermill": {
          "duration": 0.023724,
          "end_time": "2022-09-24T14:22:18.091028",
          "exception": false,
          "start_time": "2022-09-24T14:22:18.067304",
          "status": "completed"
        },
        "tags": []
      },
      "source": [
        "Next, we import CountVectorizer from the sklearn library to obtain unigrams and bigrams."
      ]
    },
    {
      "cell_type": "code",
      "execution_count": null,
      "id": "a1052867",
      "metadata": {
        "execution": {
          "iopub.execute_input": "2022-09-24T14:22:18.142098Z",
          "iopub.status.busy": "2022-09-24T14:22:18.141400Z",
          "iopub.status.idle": "2022-09-24T14:22:18.147930Z",
          "shell.execute_reply": "2022-09-24T14:22:18.146649Z"
        },
        "id": "a1052867",
        "papermill": {
          "duration": 0.036472,
          "end_time": "2022-09-24T14:22:18.151940",
          "exception": false,
          "start_time": "2022-09-24T14:22:18.115468",
          "status": "completed"
        },
        "tags": []
      },
      "outputs": [],
      "source": [
        "# importing CountVectorizer\n",
        "from sklearn.feature_extraction.text import CountVectorizer"
      ]
    },
    {
      "cell_type": "markdown",
      "id": "efedfe48",
      "metadata": {
        "id": "efedfe48",
        "papermill": {
          "duration": 0.024209,
          "end_time": "2022-09-24T14:22:18.200114",
          "exception": false,
          "start_time": "2022-09-24T14:22:18.175905",
          "status": "completed"
        },
        "tags": []
      },
      "source": [
        "To visualize the distribution of unigrams, we create a custom made function to get the top n unigrams/ words. This function uses CountVectorizer to generate unigrams from the review after removing the stop words, calculates the frequency of each unigram, then splices and returns the top n unigrams and their frequency sorted in the descending order based on frequency."
      ]
    },
    {
      "cell_type": "code",
      "execution_count": null,
      "id": "97be30c4",
      "metadata": {
        "execution": {
          "iopub.execute_input": "2022-09-24T14:22:18.250555Z",
          "iopub.status.busy": "2022-09-24T14:22:18.249341Z",
          "iopub.status.idle": "2022-09-24T14:22:18.319639Z",
          "shell.execute_reply": "2022-09-24T14:22:18.312909Z"
        },
        "id": "97be30c4",
        "papermill": {
          "duration": 0.103607,
          "end_time": "2022-09-24T14:22:18.327539",
          "exception": false,
          "start_time": "2022-09-24T14:22:18.223932",
          "status": "completed"
        },
        "tags": []
      },
      "outputs": [],
      "source": [
        "# custom made function to return the top n unigrams\n",
        "def get_top_n_words(x, n=25):\n",
        "    vec = CountVectorizer(stop_words='english').fit(x)\n",
        "    bag_of_words = vec.transform(x)\n",
        "    sum_words = bag_of_words.sum(axis=0) \n",
        "    words_freq = [(word, sum_words[0, idx]) for word, idx in vec.vocabulary_.items()]\n",
        "    words_freq =sorted(words_freq, key = lambda x: x[1], reverse=True)\n",
        "    return words_freq[:n]"
      ]
    },
    {
      "cell_type": "markdown",
      "id": "26bc2e3d",
      "metadata": {
        "id": "26bc2e3d",
        "papermill": {
          "duration": 0.026169,
          "end_time": "2022-09-24T14:22:18.424855",
          "exception": false,
          "start_time": "2022-09-24T14:22:18.398686",
          "status": "completed"
        },
        "tags": []
      },
      "source": [
        "After that, we call the previously created function and pass the text column from all the datasets and specify n to be 25, and store the returned value in a variable."
      ]
    },
    {
      "cell_type": "code",
      "execution_count": null,
      "id": "3e1014ff",
      "metadata": {
        "execution": {
          "iopub.execute_input": "2022-09-24T14:22:18.518743Z",
          "iopub.status.busy": "2022-09-24T14:22:18.518185Z",
          "iopub.status.idle": "2022-09-24T14:22:27.918133Z",
          "shell.execute_reply": "2022-09-24T14:22:27.916695Z"
        },
        "id": "3e1014ff",
        "outputId": "4050e005-de97-4a31-8e51-46235486a096",
        "papermill": {
          "duration": 9.445337,
          "end_time": "2022-09-24T14:22:27.921050",
          "exception": false,
          "start_time": "2022-09-24T14:22:18.475713",
          "status": "completed"
        },
        "tags": []
      },
      "outputs": [
        {
          "data": {
            "text/plain": [
              "[('movie', 68349),\n",
              " ('film', 60692),\n",
              " ('like', 31395),\n",
              " ('good', 23259),\n",
              " ('time', 19231),\n",
              " ('really', 18486),\n",
              " ('story', 17998),\n",
              " ('bad', 14377),\n",
              " ('great', 14314),\n",
              " ('people', 14190),\n",
              " ('movies', 12611),\n",
              " ('films', 12489),\n",
              " ('make', 12336),\n",
              " ('way', 12316),\n",
              " ('characters', 11961),\n",
              " ('think', 11414),\n",
              " ('watch', 10987),\n",
              " ('seen', 10679),\n",
              " ('character', 10484),\n",
              " ('love', 10284),\n",
              " ('acting', 10103),\n",
              " ('plot', 10078),\n",
              " ('little', 9990),\n",
              " ('know', 9923),\n",
              " ('best', 9923)]"
            ]
          },
          "execution_count": 13,
          "metadata": {},
          "output_type": "execute_result"
        }
      ],
      "source": [
        "# calling function and storing result in a variable\n",
        "common_words = get_top_n_words(train['text'], 25)\n",
        "common_words"
      ]
    },
    {
      "cell_type": "markdown",
      "id": "17a9caa3",
      "metadata": {
        "id": "17a9caa3",
        "papermill": {
          "duration": 0.015196,
          "end_time": "2022-09-24T14:22:27.951508",
          "exception": false,
          "start_time": "2022-09-24T14:22:27.936312",
          "status": "completed"
        },
        "tags": []
      },
      "source": [
        "As we can see, we have received a list of tuples containing the top 25 unigrams and their frequencies."
      ]
    },
    {
      "cell_type": "markdown",
      "id": "ed2b04f9",
      "metadata": {
        "id": "ed2b04f9",
        "papermill": {
          "duration": 0.014145,
          "end_time": "2022-09-24T14:22:27.979823",
          "exception": false,
          "start_time": "2022-09-24T14:22:27.965678",
          "status": "completed"
        },
        "tags": []
      },
      "source": [
        "Next, we create a dataframe of the returned list using the DataFrame() function from the Pandas library and set the index to be the Unigrams to make our further analysis easier."
      ]
    },
    {
      "cell_type": "code",
      "execution_count": null,
      "id": "14331312",
      "metadata": {
        "execution": {
          "iopub.execute_input": "2022-09-24T14:22:28.011714Z",
          "iopub.status.busy": "2022-09-24T14:22:28.010605Z",
          "iopub.status.idle": "2022-09-24T14:22:28.019723Z",
          "shell.execute_reply": "2022-09-24T14:22:28.018444Z"
        },
        "id": "14331312",
        "papermill": {
          "duration": 0.027312,
          "end_time": "2022-09-24T14:22:28.022306",
          "exception": false,
          "start_time": "2022-09-24T14:22:27.994994",
          "status": "completed"
        },
        "tags": []
      },
      "outputs": [],
      "source": [
        "# creating a dataframe from the returned list\n",
        "df1 = pd.DataFrame(common_words, columns = ['Unigram Text' , 'Count'])\n",
        "\n",
        "# setting index to be unigrams\n",
        "df1.set_index('Unigram Text', drop=True, inplace=True)"
      ]
    },
    {
      "cell_type": "markdown",
      "id": "8c1f1e2f",
      "metadata": {
        "id": "8c1f1e2f",
        "papermill": {
          "duration": 0.014888,
          "end_time": "2022-09-24T14:22:28.052804",
          "exception": false,
          "start_time": "2022-09-24T14:22:28.037916",
          "status": "completed"
        },
        "tags": []
      },
      "source": [
        "After that, we use the plot.bar() function from the Pandas library to plot a barplot of the unigrams and their frequencies. We also use matplotlib aesthetic functions to enhance the readability of the chart."
      ]
    },
    {
      "cell_type": "code",
      "execution_count": null,
      "id": "65fe67cb",
      "metadata": {
        "execution": {
          "iopub.execute_input": "2022-09-24T14:22:28.085106Z",
          "iopub.status.busy": "2022-09-24T14:22:28.084685Z",
          "iopub.status.idle": "2022-09-24T14:22:28.572231Z",
          "shell.execute_reply": "2022-09-24T14:22:28.570907Z"
        },
        "id": "65fe67cb",
        "outputId": "48f63651-3abf-44ae-e49f-4b49eb5bf580",
        "papermill": {
          "duration": 0.507169,
          "end_time": "2022-09-24T14:22:28.574792",
          "exception": false,
          "start_time": "2022-09-24T14:22:28.067623",
          "status": "completed"
        },
        "tags": []
      },
      "outputs": [
        {
          "data": {
            "text/plain": [
              "Text(0.5, 1.0, 'Unigrams Count')"
            ]
          },
          "execution_count": 15,
          "metadata": {},
          "output_type": "execute_result"
        },
        {
          "data": {
            "image/png": "[encoded data removed]",
            "text/plain": [
              "<Figure size 432x288 with 1 Axes>"
            ]
          },
          "metadata": {
            "needs_background": "light"
          },
          "output_type": "display_data"
        }
      ],
      "source": [
        "# barplot to represent the frequency of unigrams\n",
        "df1.plot.bar()\n",
        "plt.xlabel('unigrams')\n",
        "plt.ylabel('count')\n",
        "plt.title('Unigrams Count')"
      ]
    },
    {
      "cell_type": "markdown",
      "id": "058dc8d1",
      "metadata": {
        "id": "058dc8d1",
        "papermill": {
          "duration": 0.014452,
          "end_time": "2022-09-24T14:22:28.605186",
          "exception": false,
          "start_time": "2022-09-24T14:22:28.590734",
          "status": "completed"
        },
        "tags": []
      },
      "source": [
        "As we can see, the unigram 'movie' is used most frequently, followed closely by 'film'."
      ]
    },
    {
      "cell_type": "markdown",
      "id": "157f587f",
      "metadata": {
        "id": "157f587f",
        "papermill": {
          "duration": 0.048021,
          "end_time": "2022-09-24T14:22:28.681335",
          "exception": false,
          "start_time": "2022-09-24T14:22:28.633314",
          "status": "completed"
        },
        "tags": []
      },
      "source": [
        "To visualize the distribution of bigrams, we create a custom made function to get the top n bigrams. This function uses CountVectorizer to generate bigrams from the review after removing the stop words, calculates the frequency of each bigram, then splices and returns the top n bigrams and their frequency sorted in the descending order based on frequency."
      ]
    },
    {
      "cell_type": "code",
      "execution_count": null,
      "id": "b2d6a444",
      "metadata": {
        "execution": {
          "iopub.execute_input": "2022-09-24T14:22:28.769502Z",
          "iopub.status.busy": "2022-09-24T14:22:28.768074Z",
          "iopub.status.idle": "2022-09-24T14:22:28.784750Z",
          "shell.execute_reply": "2022-09-24T14:22:28.782883Z"
        },
        "id": "b2d6a444",
        "papermill": {
          "duration": 0.067522,
          "end_time": "2022-09-24T14:22:28.789506",
          "exception": false,
          "start_time": "2022-09-24T14:22:28.721984",
          "status": "completed"
        },
        "tags": []
      },
      "outputs": [],
      "source": [
        "# custom made function to return the top n bigrams\n",
        "def get_top_n_bigram(x, n=25):\n",
        "    vec = CountVectorizer(ngram_range=(2, 2), stop_words='english').fit(x)\n",
        "    bag_of_words = vec.transform(x)\n",
        "    sum_words = bag_of_words.sum(axis=0) \n",
        "    words_freq = [(word, sum_words[0, idx]) for word, idx in vec.vocabulary_.items()]\n",
        "    words_freq =sorted(words_freq, key = lambda x: x[1], reverse=True)\n",
        "    return words_freq[:n]"
      ]
    },
    {
      "cell_type": "markdown",
      "id": "a58a24ff",
      "metadata": {
        "id": "a58a24ff",
        "papermill": {
          "duration": 0.02576,
          "end_time": "2022-09-24T14:22:28.850509",
          "exception": false,
          "start_time": "2022-09-24T14:22:28.824749",
          "status": "completed"
        },
        "tags": []
      },
      "source": [
        "After that, we call the previously created function and pass the review column and specify n to be 25, and store the returned value in a variable."
      ]
    },
    {
      "cell_type": "code",
      "execution_count": null,
      "id": "37c8ee26",
      "metadata": {
        "execution": {
          "iopub.execute_input": "2022-09-24T14:22:28.905100Z",
          "iopub.status.busy": "2022-09-24T14:22:28.904116Z",
          "iopub.status.idle": "2022-09-24T14:23:01.055682Z",
          "shell.execute_reply": "2022-09-24T14:23:01.054317Z"
        },
        "id": "37c8ee26",
        "outputId": "51fc3137-b81b-491c-eaf2-3f8f8ad51fb6",
        "papermill": {
          "duration": 32.186895,
          "end_time": "2022-09-24T14:23:01.063752",
          "exception": false,
          "start_time": "2022-09-24T14:22:28.876857",
          "status": "completed"
        },
        "tags": []
      },
      "outputs": [
        {
          "data": {
            "text/plain": [
              "[('special effects', 1734),\n",
              " ('looks like', 1364),\n",
              " ('waste time', 1193),\n",
              " ('good movie', 1134),\n",
              " ('watch movie', 1075),\n",
              " ('look like', 1069),\n",
              " ('years ago', 1004),\n",
              " ('low budget', 1001),\n",
              " ('new york', 974),\n",
              " ('movie like', 936),\n",
              " ('movie really', 890),\n",
              " ('pretty good', 889),\n",
              " ('main character', 857),\n",
              " ('high school', 856),\n",
              " ('watching movie', 824),\n",
              " ('bad movie', 815),\n",
              " ('movie seen', 801),\n",
              " ('real life', 788),\n",
              " ('year old', 782),\n",
              " ('saw movie', 756),\n",
              " ('great movie', 753),\n",
              " ('horror movie', 750),\n",
              " ('really good', 732),\n",
              " ('long time', 708),\n",
              " ('horror film', 706)]"
            ]
          },
          "execution_count": 17,
          "metadata": {},
          "output_type": "execute_result"
        }
      ],
      "source": [
        "# calling function and storing result in a variable\n",
        "common_words = get_top_n_bigram(train['text'], 25)\n",
        "common_words"
      ]
    },
    {
      "cell_type": "markdown",
      "id": "67398901",
      "metadata": {
        "id": "67398901",
        "papermill": {
          "duration": 0.014604,
          "end_time": "2022-09-24T14:23:01.093394",
          "exception": false,
          "start_time": "2022-09-24T14:23:01.078790",
          "status": "completed"
        },
        "tags": []
      },
      "source": [
        "As we can see, we have received a list of tuples containing the top 25 bigrams and their frequencies."
      ]
    },
    {
      "cell_type": "markdown",
      "id": "17eaf263",
      "metadata": {
        "id": "17eaf263",
        "papermill": {
          "duration": 0.014735,
          "end_time": "2022-09-24T14:23:01.122866",
          "exception": false,
          "start_time": "2022-09-24T14:23:01.108131",
          "status": "completed"
        },
        "tags": []
      },
      "source": [
        "Next, we create a dataframe of the returned list using the DataFrame() function from the Pandas library and set the index to be the Bigrams to make our further analysis easier."
      ]
    },
    {
      "cell_type": "code",
      "execution_count": null,
      "id": "5a2e5414",
      "metadata": {
        "execution": {
          "iopub.execute_input": "2022-09-24T14:23:01.154839Z",
          "iopub.status.busy": "2022-09-24T14:23:01.154459Z",
          "iopub.status.idle": "2022-09-24T14:23:01.161933Z",
          "shell.execute_reply": "2022-09-24T14:23:01.160800Z"
        },
        "id": "5a2e5414",
        "papermill": {
          "duration": 0.026118,
          "end_time": "2022-09-24T14:23:01.164479",
          "exception": false,
          "start_time": "2022-09-24T14:23:01.138361",
          "status": "completed"
        },
        "tags": []
      },
      "outputs": [],
      "source": [
        "# creating a dataframe from the returned list\n",
        "df2 = pd.DataFrame(common_words, columns = ['Bigram Text' , 'Count'])\n",
        "\n",
        "# setting index to be unigrams\n",
        "df2.set_index('Bigram Text', drop=True, inplace=True)"
      ]
    },
    {
      "cell_type": "markdown",
      "id": "d11fa5f3",
      "metadata": {
        "id": "d11fa5f3",
        "papermill": {
          "duration": 0.014331,
          "end_time": "2022-09-24T14:23:01.193073",
          "exception": false,
          "start_time": "2022-09-24T14:23:01.178742",
          "status": "completed"
        },
        "tags": []
      },
      "source": [
        "After that, we use the plot.bar() function from the Pandas library to plot a barplot of the bigrams and their frequencies. We also use matplotlib aesthetic functions to enhance the readability of the chart."
      ]
    },
    {
      "cell_type": "code",
      "execution_count": null,
      "id": "79ef303e",
      "metadata": {
        "execution": {
          "iopub.execute_input": "2022-09-24T14:23:01.223239Z",
          "iopub.status.busy": "2022-09-24T14:23:01.222942Z",
          "iopub.status.idle": "2022-09-24T14:23:01.771121Z",
          "shell.execute_reply": "2022-09-24T14:23:01.769537Z"
        },
        "id": "79ef303e",
        "outputId": "67ffd9f6-dcaa-4c5b-d0a9-de04ccb07f9b",
        "papermill": {
          "duration": 0.568143,
          "end_time": "2022-09-24T14:23:01.775433",
          "exception": false,
          "start_time": "2022-09-24T14:23:01.207290",
          "status": "completed"
        },
        "tags": []
      },
      "outputs": [
        {
          "data": {
            "text/plain": [
              "Text(0.5, 1.0, 'Bigrams Count')"
            ]
          },
          "execution_count": 19,
          "metadata": {},
          "output_type": "execute_result"
        },
        {
          "data": {
            "image/png": "[encoded data removed]",
            "text/plain": [
              "<Figure size 432x288 with 1 Axes>"
            ]
          },
          "metadata": {
            "needs_background": "light"
          },
          "output_type": "display_data"
        }
      ],
      "source": [
        "# barplot to represent the frequency of biigrams\n",
        "df2.plot.bar()\n",
        "plt.xlabel('bigrams')\n",
        "plt.ylabel('count')\n",
        "plt.title('Bigrams Count')"
      ]
    },
    {
      "cell_type": "markdown",
      "id": "35b99c5e",
      "metadata": {
        "id": "35b99c5e",
        "papermill": {
          "duration": 0.039742,
          "end_time": "2022-09-24T14:23:01.858789",
          "exception": false,
          "start_time": "2022-09-24T14:23:01.819047",
          "status": "completed"
        },
        "tags": []
      },
      "source": [
        "As we can see, 'special effects' is the most frequent special effects."
      ]
    },
    {
      "cell_type": "markdown",
      "id": "3a5912ad",
      "metadata": {
        "id": "3a5912ad",
        "papermill": {
          "duration": 0.026639,
          "end_time": "2022-09-24T14:23:01.912596",
          "exception": false,
          "start_time": "2022-09-24T14:23:01.885957",
          "status": "completed"
        },
        "tags": []
      },
      "source": [
        "To visualize the practical words that represent positive and negative sentiment in the dataset, we import the scatternet and spacy libraries."
      ]
    },
    {
      "cell_type": "code",
      "execution_count": null,
      "id": "f30b2712",
      "metadata": {
        "execution": {
          "iopub.execute_input": "2022-09-24T14:23:01.971112Z",
          "iopub.status.busy": "2022-09-24T14:23:01.970524Z",
          "iopub.status.idle": "2022-09-24T14:23:23.388006Z",
          "shell.execute_reply": "2022-09-24T14:23:23.386463Z"
        },
        "id": "f30b2712",
        "papermill": {
          "duration": 21.450955,
          "end_time": "2022-09-24T14:23:23.391227",
          "exception": false,
          "start_time": "2022-09-24T14:23:01.940272",
          "status": "completed"
        },
        "tags": []
      },
      "outputs": [],
      "source": [
        "# importing the libraries\n",
        "! pip install scattertext\n",
        "import spacy\n",
        "import scattertext as st\n",
        "nlp = spacy.load('en_core_web_sm')"
      ]
    },
    {
      "cell_type": "markdown",
      "id": "768be781",
      "metadata": {
        "id": "768be781",
        "papermill": {
          "duration": 0.01565,
          "end_time": "2022-09-24T14:23:23.423352",
          "exception": false,
          "start_time": "2022-09-24T14:23:23.407702",
          "status": "completed"
        },
        "tags": []
      },
      "source": [
        "Next, we create a unigram corpus from the dataframe on the validation set (to optimize the building time) using functions from the scatternet library."
      ]
    },
    {
      "cell_type": "code",
      "execution_count": null,
      "id": "f9b4b83b",
      "metadata": {
        "execution": {
          "iopub.execute_input": "2022-09-24T14:23:23.456646Z",
          "iopub.status.busy": "2022-09-24T14:23:23.456268Z",
          "iopub.status.idle": "2022-09-24T14:25:30.442153Z",
          "shell.execute_reply": "2022-09-24T14:25:30.440853Z"
        },
        "id": "f9b4b83b",
        "papermill": {
          "duration": 127.006586,
          "end_time": "2022-09-24T14:25:30.445790",
          "exception": false,
          "start_time": "2022-09-24T14:23:23.439204",
          "status": "completed"
        },
        "tags": []
      },
      "outputs": [],
      "source": [
        "# creating a corpus \n",
        "corpus = st.CorpusFromPandas(valid, category_col='label', text_col='text',  nlp=nlp).build().get_unigram_corpus().compact(st.AssociationCompactor(2000))"
      ]
    },
    {
      "cell_type": "markdown",
      "id": "9db68b18",
      "metadata": {
        "id": "9db68b18",
        "papermill": {
          "duration": 0.015554,
          "end_time": "2022-09-24T14:25:30.477387",
          "exception": false,
          "start_time": "2022-09-24T14:25:30.461833",
          "status": "completed"
        },
        "tags": []
      },
      "source": [
        "After that, we create an interactive html visualization to visualize the practical words that represent positive and negative sentiments."
      ]
    },
    {
      "cell_type": "code",
      "execution_count": null,
      "id": "74d64a7e",
      "metadata": {
        "execution": {
          "iopub.execute_input": "2022-09-24T14:25:30.508997Z",
          "iopub.status.busy": "2022-09-24T14:25:30.508690Z",
          "iopub.status.idle": "2022-09-24T14:25:31.719181Z",
          "shell.execute_reply": "2022-09-24T14:25:31.717735Z"
        },
        "id": "74d64a7e",
        "outputId": "4ba957e1-a53f-4b7b-8670-81b128ea2c07",
        "papermill": {
          "duration": 1.229153,
          "end_time": "2022-09-24T14:25:31.721904",
          "exception": false,
          "start_time": "2022-09-24T14:25:30.492751",
          "status": "completed"
        },
        "tags": []
      },
      "outputs": [
        {
          "data": {
            "text/plain": [
              "5092131"
            ]
          },
          "execution_count": 22,
          "metadata": {},
          "output_type": "execute_result"
        }
      ],
      "source": [
        "# creating an html visualization\n",
        "html = st.produce_scattertext_explorer(corpus, category='negative', category_name='Negative', not_category_name='Positive', width_in_pixels=1000, transform=st.Scalers.dense_rank)\n",
        "open('./PracticalWords.html', 'w').write(html)"
      ]
    },
    {
      "cell_type": "markdown",
      "id": "9918f6d4",
      "metadata": {
        "id": "9918f6d4",
        "papermill": {
          "duration": 0.015806,
          "end_time": "2022-09-24T14:25:31.753734",
          "exception": false,
          "start_time": "2022-09-24T14:25:31.737928",
          "status": "completed"
        },
        "tags": []
      },
      "source": [
        "The html file is attached in the assignment."
      ]
    },
    {
      "cell_type": "markdown",
      "id": "550978de",
      "metadata": {
        "id": "550978de",
        "papermill": {
          "duration": 0.015777,
          "end_time": "2022-09-24T14:25:31.785405",
          "exception": false,
          "start_time": "2022-09-24T14:25:31.769628",
          "status": "completed"
        },
        "tags": []
      },
      "source": [
        "Next, to build the model, we remap the categorical labels to the binary labels using the map() function from the Pandas library."
      ]
    },
    {
      "cell_type": "code",
      "execution_count": null,
      "id": "f1d04c7d",
      "metadata": {
        "execution": {
          "iopub.execute_input": "2022-09-24T14:25:31.819322Z",
          "iopub.status.busy": "2022-09-24T14:25:31.818389Z",
          "iopub.status.idle": "2022-09-24T14:25:31.830814Z",
          "shell.execute_reply": "2022-09-24T14:25:31.829663Z"
        },
        "id": "f1d04c7d",
        "papermill": {
          "duration": 0.032156,
          "end_time": "2022-09-24T14:25:31.833352",
          "exception": false,
          "start_time": "2022-09-24T14:25:31.801196",
          "status": "completed"
        },
        "tags": []
      },
      "outputs": [],
      "source": [
        "# mapping categorical labels to binary labels\n",
        "train['label'] = train['label'].map({'negative':0, 'positive':1})\n",
        "valid['label'] = valid['label'].map({'negative':0, 'positive':1})\n",
        "test['label'] = test['label'].map({'negative':0, 'positive':1})"
      ]
    },
    {
      "cell_type": "markdown",
      "id": "1d289be1",
      "metadata": {
        "id": "1d289be1",
        "papermill": {
          "duration": 0.015322,
          "end_time": "2022-09-24T14:25:31.863794",
          "exception": false,
          "start_time": "2022-09-24T14:25:31.848472",
          "status": "completed"
        },
        "tags": []
      },
      "source": [
        "As a prequisite to build the model, we find the length of the longest lemmatized review in all the datasets."
      ]
    },
    {
      "cell_type": "code",
      "execution_count": null,
      "id": "4ea1a1ca",
      "metadata": {
        "execution": {
          "iopub.execute_input": "2022-09-24T14:25:31.897106Z",
          "iopub.status.busy": "2022-09-24T14:25:31.896050Z",
          "iopub.status.idle": "2022-09-24T14:25:31.927420Z",
          "shell.execute_reply": "2022-09-24T14:25:31.926188Z"
        },
        "id": "4ea1a1ca",
        "papermill": {
          "duration": 0.050452,
          "end_time": "2022-09-24T14:25:31.930049",
          "exception": false,
          "start_time": "2022-09-24T14:25:31.879597",
          "status": "completed"
        },
        "tags": []
      },
      "outputs": [],
      "source": [
        "# finding the maximum lenght of the reviews\n",
        "len_train = train['lemma'].apply(lambda x : len(x))\n",
        "len_train = max(len_train)\n",
        "len_valid = valid['lemma'].apply(lambda x : len(x))\n",
        "len_valid = max(len_valid)\n",
        "len_test = test['lemma'].apply(lambda x : len(x))\n",
        "len_test = max(len_test)\n",
        "max_len = max(len_train, len_valid, len_test)"
      ]
    },
    {
      "cell_type": "markdown",
      "id": "a8261620",
      "metadata": {
        "id": "a8261620",
        "papermill": {
          "duration": 0.015637,
          "end_time": "2022-09-24T14:25:31.961544",
          "exception": false,
          "start_time": "2022-09-24T14:25:31.945907",
          "status": "completed"
        },
        "tags": []
      },
      "source": [
        "Next, we divide the dataset into dependent (y) and independent (x) features."
      ]
    },
    {
      "cell_type": "code",
      "execution_count": null,
      "id": "e970c8bd",
      "metadata": {
        "execution": {
          "iopub.execute_input": "2022-09-24T14:25:31.994915Z",
          "iopub.status.busy": "2022-09-24T14:25:31.993871Z",
          "iopub.status.idle": "2022-09-24T14:25:32.000712Z",
          "shell.execute_reply": "2022-09-24T14:25:31.999519Z"
        },
        "id": "e970c8bd",
        "papermill": {
          "duration": 0.026236,
          "end_time": "2022-09-24T14:25:32.003214",
          "exception": false,
          "start_time": "2022-09-24T14:25:31.976978",
          "status": "completed"
        },
        "tags": []
      },
      "outputs": [],
      "source": [
        "# dividing the datasets into dependent and independent features\n",
        "x_train = train['lemma']\n",
        "y_train = train['label']\n",
        "x_valid = valid['lemma']\n",
        "y_valid = valid['label']\n",
        "x_test = test['lemma']\n",
        "y_test = test['label']"
      ]
    },
    {
      "cell_type": "markdown",
      "id": "4fb8d4ce",
      "metadata": {
        "id": "4fb8d4ce",
        "papermill": {
          "duration": 0.014839,
          "end_time": "2022-09-24T14:25:32.032801",
          "exception": false,
          "start_time": "2022-09-24T14:25:32.017962",
          "status": "completed"
        },
        "tags": []
      },
      "source": [
        "After that, we create a padded sequence of the lemmas on all the independent features so that we can pass it to the neural networks. To do that, we use functions from the tensorflow library. We also obtain the total number of words, we use the word_index attribute."
      ]
    },
    {
      "cell_type": "code",
      "execution_count": null,
      "id": "c7b4088f",
      "metadata": {
        "execution": {
          "iopub.execute_input": "2022-09-24T14:25:32.064794Z",
          "iopub.status.busy": "2022-09-24T14:25:32.063802Z",
          "iopub.status.idle": "2022-09-24T14:25:42.241089Z",
          "shell.execute_reply": "2022-09-24T14:25:42.239821Z"
        },
        "id": "c7b4088f",
        "papermill": {
          "duration": 10.196368,
          "end_time": "2022-09-24T14:25:42.243988",
          "exception": false,
          "start_time": "2022-09-24T14:25:32.047620",
          "status": "completed"
        },
        "tags": []
      },
      "outputs": [],
      "source": [
        "# creating a padded sequence of features on the training set\n",
        "token = tf.keras.preprocessing.text.Tokenizer()\n",
        "token.fit_on_texts(x_train)\n",
        "x_train = token.texts_to_sequences(x_train)\n",
        "x_train = tf.keras.preprocessing.sequence.pad_sequences(x_train, maxlen=max_len, padding='post', truncating='post')\n",
        "# obtaining the total number of words\n",
        "total_words = len(token.word_index) + 1\n",
        "\n",
        "# creating a padded sequence of features on the testing set\n",
        "token = tf.keras.preprocessing.text.Tokenizer()\n",
        "token.fit_on_texts(x_valid)\n",
        "x_valid = token.texts_to_sequences(x_valid)\n",
        "x_valid = tf.keras.preprocessing.sequence.pad_sequences(x_valid, maxlen=max_len, padding='post', truncating='post')\n",
        "\n",
        "# creating a padded sequence of features on the validation set\n",
        "token = tf.keras.preprocessing.text.Tokenizer()\n",
        "token.fit_on_texts(x_test)\n",
        "x_test = token.texts_to_sequences(x_test)\n",
        "x_test = tf.keras.preprocessing.sequence.pad_sequences(x_test, maxlen=max_len, padding='post', truncating='post')"
      ]
    },
    {
      "cell_type": "markdown",
      "id": "a1ff5098",
      "metadata": {
        "id": "a1ff5098",
        "papermill": {
          "duration": 0.015401,
          "end_time": "2022-09-24T14:25:42.276098",
          "exception": false,
          "start_time": "2022-09-24T14:25:42.260697",
          "status": "completed"
        },
        "tags": []
      },
      "source": [
        "Now, we create a Long Short Term Memory of 15 layers using the Sequential API from the tensorflow library. To do that, we:\n",
        "- create an Embedding Layer\n",
        "- link the Embedding layer to 15 LSTM layers\n",
        "- link the LSTM layers to a Dense neural network with 1 output neuron to predict the classes"
      ]
    },
    {
      "cell_type": "code",
      "execution_count": null,
      "id": "ab0fdcd6",
      "metadata": {
        "execution": {
          "iopub.execute_input": "2022-09-24T14:25:42.309105Z",
          "iopub.status.busy": "2022-09-24T14:25:42.308771Z",
          "iopub.status.idle": "2022-09-24T14:25:57.044736Z",
          "shell.execute_reply": "2022-09-24T14:25:57.043283Z"
        },
        "id": "ab0fdcd6",
        "papermill": {
          "duration": 14.755847,
          "end_time": "2022-09-24T14:25:57.047753",
          "exception": false,
          "start_time": "2022-09-24T14:25:42.291906",
          "status": "completed"
        },
        "tags": []
      },
      "outputs": [],
      "source": [
        "# building a Sequential model\n",
        "lstm = tf.keras.models.Sequential()\n",
        "\n",
        "# adding an Embedding layer\n",
        "lstm.add(tf.keras.layers.Embedding(total_words, 32, input_length = max_len))\n",
        "\n",
        "# adding 15 LSTM layers\n",
        "for i in range(14):\n",
        "  lstm.add(tf.keras.layers.LSTM(64, return_sequences=True))\n",
        "lstm.add(tf.keras.layers.LSTM(64))\n",
        "\n",
        "# linking the LSTM layers to a Dense neural network\n",
        "lstm.add(tf.keras.layers.Dense(1, activation='sigmoid'))"
      ]
    },
    {
      "cell_type": "markdown",
      "id": "b237c3a7",
      "metadata": {
        "id": "b237c3a7",
        "papermill": {
          "duration": 0.0166,
          "end_time": "2022-09-24T14:25:57.084444",
          "exception": false,
          "start_time": "2022-09-24T14:25:57.067844",
          "status": "completed"
        },
        "tags": []
      },
      "source": [
        "After that, we compile the model using the 'adam' optimizer, loss as 'binary_crossentropy', and metrics as 'accuracy'. Then we train the model on the training data, using 1 epoch (as the compute power would allow) and validate it using the validation data. To avoid crash of server, we limit the batch size to 256."
      ]
    },
    {
      "cell_type": "code",
      "execution_count": null,
      "id": "91798dcb",
      "metadata": {
        "execution": {
          "iopub.execute_input": "2022-09-24T14:25:57.120768Z",
          "iopub.status.busy": "2022-09-24T14:25:57.119201Z",
          "iopub.status.idle": "2022-09-24T14:29:55.901833Z",
          "shell.execute_reply": "2022-09-24T14:29:55.900380Z"
        },
        "id": "91798dcb",
        "papermill": {
          "duration": 238.803543,
          "end_time": "2022-09-24T14:29:55.905029",
          "exception": false,
          "start_time": "2022-09-24T14:25:57.101486",
          "status": "completed"
        },
        "tags": [],
        "outputId": "d57f0ac4-5f93-4164-98e0-6a7a0d473242"
      },
      "outputs": [
        {
          "name": "stderr",
          "output_type": "stream",
          "text": [
            "2022-09-24 14:25:57.438732: I tensorflow/compiler/mlir/mlir_graph_optimization_pass.cc:185] None of the MLIR Optimization Passes are enabled (registered 2)\n",
            "2022-09-24 14:26:19.201274: I tensorflow/stream_executor/cuda/cuda_dnn.cc:369] Loaded cuDNN version 8005\n"
          ]
        },
        {
          "name": "stdout",
          "output_type": "stream",
          "text": [
            "157/157 [==============================] - 238s 1s/step - loss: 0.6932 - accuracy: 0.5000 - val_loss: 0.6932 - val_accuracy: 0.4972\n"
          ]
        },
        {
          "data": {
            "text/plain": [
              "<keras.callbacks.History at 0x7fad1225bd50>"
            ]
          },
          "execution_count": 28,
          "metadata": {},
          "output_type": "execute_result"
        }
      ],
      "source": [
        "# compiling the model\n",
        "lstm.compile(optimizer = 'adam', loss = 'binary_crossentropy', metrics = ['accuracy'])\n",
        "\n",
        "# training the model\n",
        "lstm.fit(x_train, y_train, epochs=1, batch_size=256, validation_data=(x_valid, y_valid))"
      ]
    },
    {
      "cell_type": "markdown",
      "id": "426e4eca",
      "metadata": {
        "id": "426e4eca",
        "papermill": {
          "duration": 0.026289,
          "end_time": "2022-09-24T14:29:55.958388",
          "exception": false,
          "start_time": "2022-09-24T14:29:55.932099",
          "status": "completed"
        },
        "tags": []
      },
      "source": [
        "To evaluate the model's performance, we obtain it's accuracy on the testing set."
      ]
    },
    {
      "cell_type": "code",
      "execution_count": null,
      "id": "a08006fb",
      "metadata": {
        "execution": {
          "iopub.execute_input": "2022-09-24T14:29:56.013994Z",
          "iopub.status.busy": "2022-09-24T14:29:56.011938Z",
          "iopub.status.idle": "2022-09-24T14:30:48.798753Z",
          "shell.execute_reply": "2022-09-24T14:30:48.797320Z"
        },
        "id": "a08006fb",
        "outputId": "a6cf4a96-0f1b-4aa3-d3dc-e62897f4e685",
        "papermill": {
          "duration": 52.816175,
          "end_time": "2022-09-24T14:30:48.801277",
          "exception": false,
          "start_time": "2022-09-24T14:29:55.985102",
          "status": "completed"
        },
        "tags": []
      },
      "outputs": [
        {
          "name": "stdout",
          "output_type": "stream",
          "text": [
            "157/157 [==============================] - 53s 336ms/step - loss: 0.6932 - accuracy: 0.4990\n",
            "Accuracy on Test Set: 49.90%\n"
          ]
        }
      ],
      "source": [
        "# evaluating the model on the test set\n",
        "print(str.format('Accuracy on Test Set: {:.2f}%', lstm.evaluate(x_test, y_test)[1]*100))"
      ]
    },
    {
      "cell_type": "markdown",
      "id": "7ed27aec",
      "metadata": {
        "id": "7ed27aec",
        "papermill": {
          "duration": 0.035044,
          "end_time": "2022-09-24T14:30:48.873053",
          "exception": false,
          "start_time": "2022-09-24T14:30:48.838009",
          "status": "completed"
        },
        "tags": []
      },
      "source": [
        "As we can see, the model has an accuracy of 49.90% on the test set, which is more or less average."
      ]
    },
    {
      "cell_type": "markdown",
      "source": [
        "Now, we create a Bidirectional RNN of 20 layers using the Sequential API from the tensorflow library. To do that, we:\n",
        "- create an Embedding Layer\n",
        "- link the Embedding layer to 20 Bidirectional SimpleRNN layers\n",
        "- link the LSTM layers to a Dense neural network with 1 output neuron to predict the classes"
      ],
      "metadata": {
        "id": "pUSut87S9V2O"
      },
      "id": "pUSut87S9V2O"
    },
    {
      "cell_type": "code",
      "execution_count": null,
      "id": "3dfdb833",
      "metadata": {
        "execution": {
          "iopub.execute_input": "2022-09-24T14:30:48.946167Z",
          "iopub.status.busy": "2022-09-24T14:30:48.945773Z",
          "iopub.status.idle": "2022-09-24T14:30:51.315626Z",
          "shell.execute_reply": "2022-09-24T14:30:51.314430Z"
        },
        "id": "3dfdb833",
        "papermill": {
          "duration": 2.409898,
          "end_time": "2022-09-24T14:30:51.318578",
          "exception": false,
          "start_time": "2022-09-24T14:30:48.908680",
          "status": "completed"
        },
        "tags": []
      },
      "outputs": [],
      "source": [
        "# building a Sequential model\n",
        "bidrnn = tf.keras.models.Sequential()\n",
        "\n",
        "# adding an Embedding layer\n",
        "bidrnn.add(tf.keras.layers.Embedding(total_words, 32, input_length = max_len))\n",
        "\n",
        "# adding 20 Bidirectional RNN layers\n",
        "for i in range(19):\n",
        "  bidrnn.add(tf.keras.layers.Bidirectional(tf.keras.layers.SimpleRNN(32, return_sequences=True)))\n",
        "bidrnn.add(tf.keras.layers.Bidirectional(tf.keras.layers.SimpleRNN(32)))\n",
        "\n",
        "# linking the Bidirectional RNN to a Deep neural network\n",
        "bidrnn.add(tf.keras.layers.Dense(1, activation='sigmoid'))"
      ]
    },
    {
      "cell_type": "markdown",
      "source": [
        "After that, we compile the model using the 'adam' optimizer, loss as 'binary_crossentropy', and metrics as 'accuracy'. Then we train the model on the training data, using 1 epoch (as the compute power would allow) and validate it using the validation data. To avoid crash of server, we limit the batch size to 128."
      ],
      "metadata": {
        "id": "kOPHgHw9-JJA"
      },
      "id": "kOPHgHw9-JJA"
    },
    {
      "cell_type": "code",
      "execution_count": null,
      "id": "5edac59d",
      "metadata": {
        "execution": {
          "iopub.execute_input": "2022-09-24T14:30:51.390244Z",
          "iopub.status.busy": "2022-09-24T14:30:51.389337Z",
          "iopub.status.idle": "2022-09-24T21:24:41.245632Z",
          "shell.execute_reply": "2022-09-24T21:24:41.244421Z"
        },
        "id": "5edac59d",
        "outputId": "853d0c62-0c37-42ba-835e-198b3347602d",
        "papermill": {
          "duration": 24829.89522,
          "end_time": "2022-09-24T21:24:41.248269",
          "exception": false,
          "start_time": "2022-09-24T14:30:51.353049",
          "status": "completed"
        },
        "tags": []
      },
      "outputs": [
        {
          "name": "stdout",
          "output_type": "stream",
          "text": [
            "313/313 [==============================] - 24803s 79s/step - loss: 0.6968 - accuracy: 0.5003 - val_loss: 0.6974 - val_accuracy: 0.4972\n"
          ]
        },
        {
          "data": {
            "text/plain": [
              "<keras.callbacks.History at 0x7fa8258861d0>"
            ]
          },
          "execution_count": 31,
          "metadata": {},
          "output_type": "execute_result"
        }
      ],
      "source": [
        "# compiling the network\n",
        "bidrnn.compile(optimizer = 'adam', loss = 'binary_crossentropy', metrics = ['accuracy'])\n",
        "\n",
        "# training the network\n",
        "bidrnn.fit(x_train, y_train, epochs=1, batch_size=128, validation_data=(x_valid, y_valid))"
      ]
    },
    {
      "cell_type": "markdown",
      "source": [
        "To evaluate the model's performance, we obtain it's accuracy on the testing set."
      ],
      "metadata": {
        "id": "eivDrQ-4-W0q"
      },
      "id": "eivDrQ-4-W0q"
    },
    {
      "cell_type": "code",
      "execution_count": null,
      "id": "d45f3e78",
      "metadata": {
        "execution": {
          "iopub.execute_input": "2022-09-24T21:24:41.347801Z",
          "iopub.status.busy": "2022-09-24T21:24:41.347284Z",
          "iopub.status.idle": "2022-09-24T21:37:03.340284Z",
          "shell.execute_reply": "2022-09-24T21:37:03.338624Z"
        },
        "id": "d45f3e78",
        "papermill": {
          "duration": 742.045085,
          "end_time": "2022-09-24T21:37:03.343089",
          "exception": false,
          "start_time": "2022-09-24T21:24:41.298004",
          "status": "completed"
        },
        "tags": [],
        "outputId": "2f048985-00c0-43f0-d2cb-4090f0c52108"
      },
      "outputs": [
        {
          "name": "stdout",
          "output_type": "stream",
          "text": [
            "157/157 [==============================] - 727s 5s/step - loss: 0.6972 - accuracy: 0.4990\n",
            "Accuracy on Test Set: 49.90%\n"
          ]
        }
      ],
      "source": [
        "# evaluating the model on the test set\n",
        "print(str.format('Accuracy on Test Set: {:.2f}%', bidrnn.evaluate(x_test, y_test)[1]*100))"
      ]
    },
    {
      "cell_type": "markdown",
      "source": [
        "As we can see, the model has an accuracy of 49.90% on the test set, which is more or less average."
      ],
      "metadata": {
        "id": "q9I-B_Rg-edU"
      },
      "id": "q9I-B_Rg-edU"
    },
    {
      "cell_type": "markdown",
      "source": [
        "Next, we create our own dataset with reviews and labels. We do this using the DataFrame() function from the Pandas library on a dictionary with the data."
      ],
      "metadata": {
        "id": "qXiGSfOg-ffR"
      },
      "id": "qXiGSfOg-ffR"
    },
    {
      "cell_type": "code",
      "execution_count": null,
      "id": "81b441f5",
      "metadata": {
        "execution": {
          "iopub.execute_input": "2022-09-24T21:37:03.462261Z",
          "iopub.status.busy": "2022-09-24T21:37:03.461207Z",
          "iopub.status.idle": "2022-09-24T21:37:03.470700Z",
          "shell.execute_reply": "2022-09-24T21:37:03.469593Z"
        },
        "papermill": {
          "duration": 0.070464,
          "end_time": "2022-09-24T21:37:03.473169",
          "exception": false,
          "start_time": "2022-09-24T21:37:03.402705",
          "status": "completed"
        },
        "tags": [],
        "id": "81b441f5"
      },
      "outputs": [],
      "source": [
        "# creating a dictionary with the data\n",
        "data = {\n",
        "    'text': ['The movie was not so good', 'It was an average movie, but, the special effects blew my mind', 'Worst movie of my life. A complete time waste',\n",
        "            'Best moview of my life. 3 hours well utilized', 'The movie was time pass only. One time watch.', 'Well written script',\n",
        "            'What was the director thinking while shooting this movie is what I am wondering', 'Oh my god! Fell in love <3', \n",
        "            'How can someone watch this movie, it is like torture', 'Definitely recommending this movie to my friends'],\n",
        "    'label' : [0, 1, 0, 1, 0, 1, 0, 1, 0, 1]\n",
        "}\n",
        "\n",
        "# converting dictionary to dataframe\n",
        "testing = pd.DataFrame(data, columns=['text', 'label'])"
      ]
    },
    {
      "cell_type": "markdown",
      "source": [
        "After that, we apply all the preprocessing steps on the new testing set as we did previously."
      ],
      "metadata": {
        "id": "b9UQj4Bl_GpK"
      },
      "id": "b9UQj4Bl_GpK"
    },
    {
      "cell_type": "code",
      "execution_count": null,
      "id": "bdd5441f",
      "metadata": {
        "execution": {
          "iopub.execute_input": "2022-09-24T21:37:03.589054Z",
          "iopub.status.busy": "2022-09-24T21:37:03.587120Z",
          "iopub.status.idle": "2022-09-24T21:37:03.602253Z",
          "shell.execute_reply": "2022-09-24T21:37:03.601064Z"
        },
        "id": "bdd5441f",
        "papermill": {
          "duration": 0.076663,
          "end_time": "2022-09-24T21:37:03.604839",
          "exception": false,
          "start_time": "2022-09-24T21:37:03.528176",
          "status": "completed"
        },
        "tags": []
      },
      "outputs": [],
      "source": [
        "# preprocessing the text\n",
        "testing['text'] = testing['text'].apply(lambda x:cont_to_exp(x))\n",
        "testing['text'] = testing['text'].apply(remove_punctuation)\n",
        "testing['text'] = testing['text'].str.lower()\n",
        "testing['text'] = testing['text'].apply(lambda x: ' '.join([word for word in x.split() if word not in (stop)]))\n",
        "testing['tokens'] = testing['text'].apply(lambda x : word_tokenize(x))\n",
        "testing['lemma'] = testing['tokens'].apply(lambda tokens: [lemmatizer.lemmatize(w) for w in tokens])"
      ]
    },
    {
      "cell_type": "markdown",
      "source": [
        "Now, we separate the dependent (y) and independent (x) features. "
      ],
      "metadata": {
        "id": "PrnQi3gU_SOh"
      },
      "id": "PrnQi3gU_SOh"
    },
    {
      "cell_type": "code",
      "execution_count": null,
      "id": "2f1848c1",
      "metadata": {
        "execution": {
          "iopub.execute_input": "2022-09-24T21:37:03.720510Z",
          "iopub.status.busy": "2022-09-24T21:37:03.719516Z",
          "iopub.status.idle": "2022-09-24T21:37:03.725634Z",
          "shell.execute_reply": "2022-09-24T21:37:03.724516Z"
        },
        "id": "2f1848c1",
        "papermill": {
          "duration": 0.067569,
          "end_time": "2022-09-24T21:37:03.728006",
          "exception": false,
          "start_time": "2022-09-24T21:37:03.660437",
          "status": "completed"
        },
        "tags": []
      },
      "outputs": [],
      "source": [
        "# segregating the dependent and independent features\n",
        "x_testing = testing['lemma']\n",
        "y_testing = testing['label']"
      ]
    },
    {
      "cell_type": "markdown",
      "source": [
        "Next, we create a padded sequence of the lemmas on all the independent features so that we can pass it to the neural networks. To do that, we use functions from the tensorflow library. We also obtain the total number of words, we use the word_index attribute."
      ],
      "metadata": {
        "id": "jezY1mhOAAgH"
      },
      "id": "jezY1mhOAAgH"
    },
    {
      "cell_type": "code",
      "execution_count": null,
      "id": "30fbc6eb",
      "metadata": {
        "execution": {
          "iopub.execute_input": "2022-09-24T21:37:03.840626Z",
          "iopub.status.busy": "2022-09-24T21:37:03.840250Z",
          "iopub.status.idle": "2022-09-24T21:37:03.850976Z",
          "shell.execute_reply": "2022-09-24T21:37:03.849860Z"
        },
        "id": "30fbc6eb",
        "papermill": {
          "duration": 0.06997,
          "end_time": "2022-09-24T21:37:03.853317",
          "exception": false,
          "start_time": "2022-09-24T21:37:03.783347",
          "status": "completed"
        },
        "tags": []
      },
      "outputs": [],
      "source": [
        "# creating a padded sequence of features on the testing set\n",
        "token = tf.keras.preprocessing.text.Tokenizer()\n",
        "token.fit_on_texts(x_testing)\n",
        "x_testing = token.texts_to_sequences(x_testing)\n",
        "x_testing = tf.keras.preprocessing.sequence.pad_sequences(x_testing, maxlen=max_len, padding='post', truncating='post')"
      ]
    },
    {
      "cell_type": "markdown",
      "source": [
        "Now, we evaluate the pretrained models on the newly created testing set. "
      ],
      "metadata": {
        "id": "ywS4gydDAPX8"
      },
      "id": "ywS4gydDAPX8"
    },
    {
      "cell_type": "code",
      "execution_count": null,
      "id": "043c1ec4",
      "metadata": {
        "execution": {
          "iopub.execute_input": "2022-09-24T21:37:03.970610Z",
          "iopub.status.busy": "2022-09-24T21:37:03.969494Z",
          "iopub.status.idle": "2022-09-24T21:37:09.077714Z",
          "shell.execute_reply": "2022-09-24T21:37:09.075962Z"
        },
        "id": "043c1ec4",
        "papermill": {
          "duration": 5.171838,
          "end_time": "2022-09-24T21:37:09.080540",
          "exception": false,
          "start_time": "2022-09-24T21:37:03.908702",
          "status": "completed"
        },
        "tags": [],
        "outputId": "fd03b100-cf54-47e2-fc55-6f124ae29a57"
      },
      "outputs": [
        {
          "name": "stdout",
          "output_type": "stream",
          "text": [
            "1/1 [==============================] - 0s 343ms/step - loss: 0.6932 - accuracy: 0.5000\n",
            "Accuracy on Test Set: 50.00%\n",
            "1/1 [==============================] - 4s 4s/step - loss: 0.6972 - accuracy: 0.5000\n",
            "Accuracy on Test Set: 50.00%\n"
          ]
        }
      ],
      "source": [
        "# evaluating the newly created testing set\n",
        "print(str.format('Accuracy on Test Set: {:.2f}%', lstm.evaluate(x_testing, y_testing)[1]*100))\n",
        "print(str.format('Accuracy on Test Set: {:.2f}%', bidrnn.evaluate(x_testing, y_testing)[1]*100))"
      ]
    },
    {
      "cell_type": "markdown",
      "source": [
        "As we can see, both the models have an accuracy of 50% on the newly created testing set, however, the lstm has a lesser loss than the bidirectional rnn."
      ],
      "metadata": {
        "id": "4bfv6NENAd4C"
      },
      "id": "4bfv6NENAd4C"
    }
  ],
  "metadata": {
    "kernelspec": {
      "display_name": "Python 3",
      "language": "python",
      "name": "python3"
    },
    "language_info": {
      "codemirror_mode": {
        "name": "ipython",
        "version": 3
      },
      "file_extension": ".py",
      "mimetype": "text/x-python",
      "name": "python",
      "nbconvert_exporter": "python",
      "pygments_lexer": "ipython3",
      "version": "3.7.12"
    },
    "papermill": {
      "default_parameters": {},
      "duration": 26215.898504,
      "end_time": "2022-09-24T21:37:13.202600",
      "environment_variables": {},
      "exception": null,
      "input_path": "__notebook__.ipynb",
      "output_path": "__notebook__.ipynb",
      "parameters": {},
      "start_time": "2022-09-24T14:20:17.304096",
      "version": "2.3.4"
    },
    "colab": {
      "provenance": [],
      "collapsed_sections": []
    }
  },
  "nbformat": 4,
  "nbformat_minor": 5
}